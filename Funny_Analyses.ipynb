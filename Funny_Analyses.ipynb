{
  "nbformat": 4,
  "nbformat_minor": 0,
  "metadata": {
    "accelerator": "GPU",
    "colab": {
      "name": "Funny Analyses.ipynb",
      "provenance": [],
      "collapsed_sections": [
        "w4WYIdDoK_iQ"
      ]
    },
    "kernelspec": {
      "display_name": "Python 3",
      "language": "python",
      "name": "python3"
    },
    "language_info": {
      "codemirror_mode": {
        "name": "ipython",
        "version": 3
      },
      "file_extension": ".py",
      "mimetype": "text/x-python",
      "name": "python",
      "nbconvert_exporter": "python",
      "pygments_lexer": "ipython3",
      "version": "3.8.3"
    }
  },
  "cells": [
    {
      "cell_type": "markdown",
      "metadata": {
        "id": "947nRwFRa0F7"
      },
      "source": [
        "\n",
        "# AI ACADEMY - COLLECTING DATA FROM YOUTUBE VIA Youtube3 API\n",
        "###> SUPERVISOR: VAN NAM DANG\n",
        "###> TEAM      : TOMMY NGUYEN, LILY VU\n",
        "##FINAL Project: NLP Vietnamese for Python Class\n",
        "###Update: 12-11-2020\n",
        "\n"
      ]
    },
    {
      "cell_type": "code",
      "metadata": {
        "id": "ZOfPqSu7emrw",
        "colab": {
          "base_uri": "https://localhost:8080/"
        },
        "outputId": "5f914de8-d036-48d5-ff2e-6921cbdfbae7"
      },
      "source": [
        "!nvidia-smi"
      ],
      "execution_count": null,
      "outputs": [
        {
          "output_type": "stream",
          "text": [
            "Fri Nov 13 12:55:17 2020       \n",
            "+-----------------------------------------------------------------------------+\n",
            "| NVIDIA-SMI 455.32.00    Driver Version: 418.67       CUDA Version: 10.1     |\n",
            "|-------------------------------+----------------------+----------------------+\n",
            "| GPU  Name        Persistence-M| Bus-Id        Disp.A | Volatile Uncorr. ECC |\n",
            "| Fan  Temp  Perf  Pwr:Usage/Cap|         Memory-Usage | GPU-Util  Compute M. |\n",
            "|                               |                      |               MIG M. |\n",
            "|===============================+======================+======================|\n",
            "|   0  Tesla T4            Off  | 00000000:00:04.0 Off |                    0 |\n",
            "| N/A   41C    P8     9W /  70W |      0MiB / 15079MiB |      0%      Default |\n",
            "|                               |                      |                 ERR! |\n",
            "+-------------------------------+----------------------+----------------------+\n",
            "                                                                               \n",
            "+-----------------------------------------------------------------------------+\n",
            "| Processes:                                                                  |\n",
            "|  GPU   GI   CI        PID   Type   Process name                  GPU Memory |\n",
            "|        ID   ID                                                   Usage      |\n",
            "|=============================================================================|\n",
            "|  No running processes found                                                 |\n",
            "+-----------------------------------------------------------------------------+\n"
          ],
          "name": "stdout"
        }
      ]
    },
    {
      "cell_type": "markdown",
      "metadata": {
        "id": "OLpK0Ki5T6PG"
      },
      "source": [
        "# Cài đặt vài thứ linh tinh"
      ]
    },
    {
      "cell_type": "code",
      "metadata": {
        "id": "yEDh_itdT5j7",
        "colab": {
          "base_uri": "https://localhost:8080/"
        },
        "outputId": "87227780-c830-45a6-82f3-626cd1e10ccb"
      },
      "source": [
        "from google.colab import drive\n",
        "drive.mount('/content/drive')"
      ],
      "execution_count": null,
      "outputs": [
        {
          "output_type": "stream",
          "text": [
            "Drive already mounted at /content/drive; to attempt to forcibly remount, call drive.mount(\"/content/drive\", force_remount=True).\n"
          ],
          "name": "stdout"
        }
      ]
    },
    {
      "cell_type": "code",
      "metadata": {
        "id": "3v7aJxOkh3Av",
        "colab": {
          "base_uri": "https://localhost:8080/"
        },
        "outputId": "638d9042-d8bf-4ba5-c17f-e4fe0f7e91c7"
      },
      "source": [
        "!pip install plotly==4.12.0\n",
        "!pip install \"notebook>=5.3\" \"ipywidgets>=7.2\"\n",
        "!pip install chart-studio==1.0.0\n",
        "!pip install plotly-geo==1.0.0\n",
        "!pip install psutil\n",
        "!pip install -U kaleido\n",
        "!pip install plotly_express"
      ],
      "execution_count": null,
      "outputs": [
        {
          "output_type": "stream",
          "text": [
            "Requirement already satisfied: plotly==4.12.0 in /usr/local/lib/python3.6/dist-packages (4.12.0)\n",
            "Requirement already satisfied: six in /usr/local/lib/python3.6/dist-packages (from plotly==4.12.0) (1.15.0)\n",
            "Requirement already satisfied: retrying>=1.3.3 in /usr/local/lib/python3.6/dist-packages (from plotly==4.12.0) (1.3.3)\n",
            "Requirement already satisfied: notebook>=5.3 in /usr/local/lib/python3.6/dist-packages (5.3.1)\n",
            "Requirement already satisfied: ipywidgets>=7.2 in /usr/local/lib/python3.6/dist-packages (7.5.1)\n",
            "Requirement already satisfied: ipykernel in /usr/local/lib/python3.6/dist-packages (from notebook>=5.3) (4.10.1)\n",
            "Requirement already satisfied: jupyter-core>=4.4.0 in /usr/local/lib/python3.6/dist-packages (from notebook>=5.3) (4.6.3)\n",
            "Requirement already satisfied: nbformat in /usr/local/lib/python3.6/dist-packages (from notebook>=5.3) (5.0.8)\n",
            "Requirement already satisfied: terminado>=0.8.1 in /usr/local/lib/python3.6/dist-packages (from notebook>=5.3) (0.9.1)\n",
            "Requirement already satisfied: traitlets>=4.2.1 in /usr/local/lib/python3.6/dist-packages (from notebook>=5.3) (4.3.3)\n",
            "Requirement already satisfied: nbconvert in /usr/local/lib/python3.6/dist-packages (from notebook>=5.3) (5.6.1)\n",
            "Requirement already satisfied: tornado>=4 in /usr/local/lib/python3.6/dist-packages (from notebook>=5.3) (5.1.1)\n",
            "Requirement already satisfied: jinja2 in /usr/local/lib/python3.6/dist-packages (from notebook>=5.3) (2.11.2)\n",
            "Requirement already satisfied: Send2Trash in /usr/local/lib/python3.6/dist-packages (from notebook>=5.3) (1.5.0)\n",
            "Requirement already satisfied: jupyter-client>=5.2.0 in /usr/local/lib/python3.6/dist-packages (from notebook>=5.3) (5.3.5)\n",
            "Requirement already satisfied: ipython-genutils in /usr/local/lib/python3.6/dist-packages (from notebook>=5.3) (0.2.0)\n",
            "Requirement already satisfied: ipython>=4.0.0; python_version >= \"3.3\" in /usr/local/lib/python3.6/dist-packages (from ipywidgets>=7.2) (5.5.0)\n",
            "Requirement already satisfied: widgetsnbextension~=3.5.0 in /usr/local/lib/python3.6/dist-packages (from ipywidgets>=7.2) (3.5.1)\n",
            "Requirement already satisfied: jsonschema!=2.5.0,>=2.4 in /usr/local/lib/python3.6/dist-packages (from nbformat->notebook>=5.3) (2.6.0)\n",
            "Requirement already satisfied: ptyprocess; os_name != \"nt\" in /usr/local/lib/python3.6/dist-packages (from terminado>=0.8.1->notebook>=5.3) (0.6.0)\n",
            "Requirement already satisfied: decorator in /usr/local/lib/python3.6/dist-packages (from traitlets>=4.2.1->notebook>=5.3) (4.4.2)\n",
            "Requirement already satisfied: six in /usr/local/lib/python3.6/dist-packages (from traitlets>=4.2.1->notebook>=5.3) (1.15.0)\n",
            "Requirement already satisfied: pygments in /usr/local/lib/python3.6/dist-packages (from nbconvert->notebook>=5.3) (2.6.1)\n",
            "Requirement already satisfied: pandocfilters>=1.4.1 in /usr/local/lib/python3.6/dist-packages (from nbconvert->notebook>=5.3) (1.4.3)\n",
            "Requirement already satisfied: bleach in /usr/local/lib/python3.6/dist-packages (from nbconvert->notebook>=5.3) (3.2.1)\n",
            "Requirement already satisfied: mistune<2,>=0.8.1 in /usr/local/lib/python3.6/dist-packages (from nbconvert->notebook>=5.3) (0.8.4)\n",
            "Requirement already satisfied: entrypoints>=0.2.2 in /usr/local/lib/python3.6/dist-packages (from nbconvert->notebook>=5.3) (0.3)\n",
            "Requirement already satisfied: defusedxml in /usr/local/lib/python3.6/dist-packages (from nbconvert->notebook>=5.3) (0.6.0)\n",
            "Requirement already satisfied: testpath in /usr/local/lib/python3.6/dist-packages (from nbconvert->notebook>=5.3) (0.4.4)\n",
            "Requirement already satisfied: MarkupSafe>=0.23 in /usr/local/lib/python3.6/dist-packages (from jinja2->notebook>=5.3) (1.1.1)\n",
            "Requirement already satisfied: python-dateutil>=2.1 in /usr/local/lib/python3.6/dist-packages (from jupyter-client>=5.2.0->notebook>=5.3) (2.8.1)\n",
            "Requirement already satisfied: pyzmq>=13 in /usr/local/lib/python3.6/dist-packages (from jupyter-client>=5.2.0->notebook>=5.3) (19.0.2)\n",
            "Requirement already satisfied: prompt-toolkit<2.0.0,>=1.0.4 in /usr/local/lib/python3.6/dist-packages (from ipython>=4.0.0; python_version >= \"3.3\"->ipywidgets>=7.2) (1.0.18)\n",
            "Requirement already satisfied: pickleshare in /usr/local/lib/python3.6/dist-packages (from ipython>=4.0.0; python_version >= \"3.3\"->ipywidgets>=7.2) (0.7.5)\n",
            "Requirement already satisfied: setuptools>=18.5 in /usr/local/lib/python3.6/dist-packages (from ipython>=4.0.0; python_version >= \"3.3\"->ipywidgets>=7.2) (50.3.2)\n",
            "Requirement already satisfied: pexpect; sys_platform != \"win32\" in /usr/local/lib/python3.6/dist-packages (from ipython>=4.0.0; python_version >= \"3.3\"->ipywidgets>=7.2) (4.8.0)\n",
            "Requirement already satisfied: simplegeneric>0.8 in /usr/local/lib/python3.6/dist-packages (from ipython>=4.0.0; python_version >= \"3.3\"->ipywidgets>=7.2) (0.8.1)\n",
            "Requirement already satisfied: packaging in /usr/local/lib/python3.6/dist-packages (from bleach->nbconvert->notebook>=5.3) (20.4)\n",
            "Requirement already satisfied: webencodings in /usr/local/lib/python3.6/dist-packages (from bleach->nbconvert->notebook>=5.3) (0.5.1)\n",
            "Requirement already satisfied: wcwidth in /usr/local/lib/python3.6/dist-packages (from prompt-toolkit<2.0.0,>=1.0.4->ipython>=4.0.0; python_version >= \"3.3\"->ipywidgets>=7.2) (0.2.5)\n",
            "Requirement already satisfied: pyparsing>=2.0.2 in /usr/local/lib/python3.6/dist-packages (from packaging->bleach->nbconvert->notebook>=5.3) (2.4.7)\n",
            "Requirement already satisfied: chart-studio==1.0.0 in /usr/local/lib/python3.6/dist-packages (1.0.0)\n",
            "Requirement already satisfied: requests in /usr/local/lib/python3.6/dist-packages (from chart-studio==1.0.0) (2.23.0)\n",
            "Requirement already satisfied: plotly in /usr/local/lib/python3.6/dist-packages (from chart-studio==1.0.0) (4.12.0)\n",
            "Requirement already satisfied: six in /usr/local/lib/python3.6/dist-packages (from chart-studio==1.0.0) (1.15.0)\n",
            "Requirement already satisfied: retrying>=1.3.3 in /usr/local/lib/python3.6/dist-packages (from chart-studio==1.0.0) (1.3.3)\n",
            "Requirement already satisfied: idna<3,>=2.5 in /usr/local/lib/python3.6/dist-packages (from requests->chart-studio==1.0.0) (2.10)\n",
            "Requirement already satisfied: urllib3!=1.25.0,!=1.25.1,<1.26,>=1.21.1 in /usr/local/lib/python3.6/dist-packages (from requests->chart-studio==1.0.0) (1.24.3)\n",
            "Requirement already satisfied: chardet<4,>=3.0.2 in /usr/local/lib/python3.6/dist-packages (from requests->chart-studio==1.0.0) (3.0.4)\n",
            "Requirement already satisfied: certifi>=2017.4.17 in /usr/local/lib/python3.6/dist-packages (from requests->chart-studio==1.0.0) (2020.6.20)\n",
            "Requirement already satisfied: plotly-geo==1.0.0 in /usr/local/lib/python3.6/dist-packages (1.0.0)\n",
            "Requirement already satisfied: psutil in /usr/local/lib/python3.6/dist-packages (5.4.8)\n",
            "Requirement already up-to-date: kaleido in /usr/local/lib/python3.6/dist-packages (0.0.3.post1)\n",
            "Requirement already satisfied: plotly_express in /usr/local/lib/python3.6/dist-packages (0.4.1)\n",
            "Requirement already satisfied: plotly>=4.1.0 in /usr/local/lib/python3.6/dist-packages (from plotly_express) (4.12.0)\n",
            "Requirement already satisfied: statsmodels>=0.9.0 in /usr/local/lib/python3.6/dist-packages (from plotly_express) (0.10.2)\n",
            "Requirement already satisfied: numpy>=1.11 in /usr/local/lib/python3.6/dist-packages (from plotly_express) (1.18.5)\n",
            "Requirement already satisfied: scipy>=0.18 in /usr/local/lib/python3.6/dist-packages (from plotly_express) (1.4.1)\n",
            "Requirement already satisfied: pandas>=0.20.0 in /usr/local/lib/python3.6/dist-packages (from plotly_express) (1.1.4)\n",
            "Requirement already satisfied: patsy>=0.5 in /usr/local/lib/python3.6/dist-packages (from plotly_express) (0.5.1)\n",
            "Requirement already satisfied: retrying>=1.3.3 in /usr/local/lib/python3.6/dist-packages (from plotly>=4.1.0->plotly_express) (1.3.3)\n",
            "Requirement already satisfied: six in /usr/local/lib/python3.6/dist-packages (from plotly>=4.1.0->plotly_express) (1.15.0)\n",
            "Requirement already satisfied: python-dateutil>=2.7.3 in /usr/local/lib/python3.6/dist-packages (from pandas>=0.20.0->plotly_express) (2.8.1)\n",
            "Requirement already satisfied: pytz>=2017.2 in /usr/local/lib/python3.6/dist-packages (from pandas>=0.20.0->plotly_express) (2018.9)\n"
          ],
          "name": "stdout"
        }
      ]
    },
    {
      "cell_type": "code",
      "metadata": {
        "id": "ty3s2PhAjZd8",
        "colab": {
          "base_uri": "https://localhost:8080/"
        },
        "outputId": "bc78b26a-a445-43b2-ec8b-16e80bf181a7"
      },
      "source": [
        "!apt-get install python3-venv\n",
        "!python3 -m venv collect_comments\n",
        "!source collect_comments/bin/activate\n",
        "\n",
        "!pip install ipython-autotime\n",
        "%load_ext autotime\n",
        "#%unload_ext autotime\n",
        "import datetime\n",
        "now = datetime.datetime.now()\n",
        "print (\"Done process at : \", now.strftime(\"%Y-%m-%d %H:%M:%S\"))"
      ],
      "execution_count": null,
      "outputs": [
        {
          "output_type": "stream",
          "text": [
            "Reading package lists... Done\n",
            "Building dependency tree       \n",
            "Reading state information... Done\n",
            "python3-venv is already the newest version (3.6.7-1~18.04).\n",
            "0 upgraded, 0 newly installed, 0 to remove and 12 not upgraded.\n",
            "Requirement already satisfied: ipython-autotime in /usr/local/lib/python3.6/dist-packages (0.2.0)\n",
            "Requirement already satisfied: ipython in /usr/local/lib/python3.6/dist-packages (from ipython-autotime) (5.5.0)\n",
            "Requirement already satisfied: decorator in /usr/local/lib/python3.6/dist-packages (from ipython->ipython-autotime) (4.4.2)\n",
            "Requirement already satisfied: traitlets>=4.2 in /usr/local/lib/python3.6/dist-packages (from ipython->ipython-autotime) (4.3.3)\n",
            "Requirement already satisfied: pickleshare in /usr/local/lib/python3.6/dist-packages (from ipython->ipython-autotime) (0.7.5)\n",
            "Requirement already satisfied: prompt-toolkit<2.0.0,>=1.0.4 in /usr/local/lib/python3.6/dist-packages (from ipython->ipython-autotime) (1.0.18)\n",
            "Requirement already satisfied: pygments in /usr/local/lib/python3.6/dist-packages (from ipython->ipython-autotime) (2.6.1)\n",
            "Requirement already satisfied: simplegeneric>0.8 in /usr/local/lib/python3.6/dist-packages (from ipython->ipython-autotime) (0.8.1)\n",
            "Requirement already satisfied: setuptools>=18.5 in /usr/local/lib/python3.6/dist-packages (from ipython->ipython-autotime) (50.3.2)\n",
            "Requirement already satisfied: pexpect; sys_platform != \"win32\" in /usr/local/lib/python3.6/dist-packages (from ipython->ipython-autotime) (4.8.0)\n",
            "Requirement already satisfied: ipython-genutils in /usr/local/lib/python3.6/dist-packages (from traitlets>=4.2->ipython->ipython-autotime) (0.2.0)\n",
            "Requirement already satisfied: six in /usr/local/lib/python3.6/dist-packages (from traitlets>=4.2->ipython->ipython-autotime) (1.15.0)\n",
            "Requirement already satisfied: wcwidth in /usr/local/lib/python3.6/dist-packages (from prompt-toolkit<2.0.0,>=1.0.4->ipython->ipython-autotime) (0.2.5)\n",
            "Requirement already satisfied: ptyprocess>=0.5 in /usr/local/lib/python3.6/dist-packages (from pexpect; sys_platform != \"win32\"->ipython->ipython-autotime) (0.6.0)\n",
            "Done process at :  2020-11-13 12:55:47\n",
            "time: 480 µs\n"
          ],
          "name": "stdout"
        }
      ]
    },
    {
      "cell_type": "code",
      "metadata": {
        "id": "LoT5vTM85GxT",
        "colab": {
          "base_uri": "https://localhost:8080/"
        },
        "outputId": "c711cc99-1439-4238-b336-575a75f7f668"
      },
      "source": [
        "import re\n",
        "import string\n",
        "import numpy as np \n",
        "import random\n",
        "import pandas as pd \n",
        "import matplotlib.pyplot as plt\n",
        "import seaborn as sns\n",
        "%matplotlib inline\n",
        "from plotly import graph_objs as go\n",
        "import plotly.express as px\n",
        "import plotly.figure_factory as ff\n",
        "from collections import Counter\n",
        "\n",
        "from PIL import Image\n",
        "from wordcloud import WordCloud, STOPWORDS, ImageColorGenerator\n",
        "\n",
        "\n",
        "import nltk\n",
        "from nltk.corpus import stopwords\n",
        "\n",
        "from tqdm import tqdm\n",
        "import os\n",
        "import nltk\n",
        "import spacy\n",
        "import random\n",
        "from spacy.util import compounding\n",
        "from spacy.util import minibatch\n",
        "\n",
        "import warnings\n",
        "warnings.filterwarnings(\"ignore\")\n",
        "\n",
        "import os\n",
        "for dirname, _, filenames in os.walk('/kaggle/input'):\n",
        "    for filename in filenames:\n",
        "        print(os.path.join(dirname, filename))\n",
        "\n",
        "# -*- coding: utf-8 -*-\n",
        "from __future__ import print_function\n",
        "from sklearn import metrics\n",
        "from sklearn.pipeline import Pipeline\n",
        "from sklearn.feature_extraction.text import CountVectorizer,TfidfTransformer\n",
        "from sklearn.model_selection import train_test_split\n",
        "from sklearn.model_selection import cross_val_score\n",
        "from sklearn.svm import LinearSVC\n",
        "from sklearn.linear_model import LogisticRegression\n",
        "# from sklearn.neural_network import MLPClassifier\n",
        "from sklearn.tree import DecisionTreeClassifier\n",
        "from sklearn.naive_bayes import MultinomialNB\n",
        "# from sklearn.linear_model import SGDClassifier\n",
        "# from sklearn.neighbors import KNeighborsClassifier\n",
        "# from sklearn.ensemble import AdaBoostClassifier\n",
        "# from sklearn.ensemble import RandomForestClassifier\n",
        "import pandas as pd\n",
        "#from pyvi import ViTokenizer\n",
        "import re\n",
        "import string\n",
        "import codecs\n",
        "\n",
        "\n",
        "# Any results you write to the current directory are saved as output."
      ],
      "execution_count": null,
      "outputs": [
        {
          "output_type": "stream",
          "text": [
            "time: 1.22 s\n"
          ],
          "name": "stdout"
        }
      ]
    },
    {
      "cell_type": "code",
      "metadata": {
        "id": "caCtHxFHemWd"
      },
      "source": [
        "%cd '/content/collect_comments'\n",
        "#!pip3 install -r requirements.txt\n",
        "!pip install --upgrade google-api-python-client\n",
        "print (\"Done process at : \", now.strftime(\"%Y-%m-%d %H:%M:%S\"))"
      ],
      "execution_count": null,
      "outputs": []
    },
    {
      "cell_type": "code",
      "metadata": {
        "id": "jz1fbESSeltz"
      },
      "source": [
        "!apt install wget\n",
        "!wget https://dl.fbaipublicfiles.com/fasttext/supervised-models/lid.176.bin\n",
        "#!wget https://dl.fbaipublicfiles.com/fasttext/vectors-crawl/cc.en.300.bin.gz\n",
        "print (\"Done process at : \", now.strftime(\"%Y-%m-%d %H:%M:%S\"))"
      ],
      "execution_count": null,
      "outputs": []
    },
    {
      "cell_type": "markdown",
      "metadata": {
        "id": "3qQZLXCxDXym"
      },
      "source": [
        "## Tạo các hàm chuẩn hoá dữ liệu"
      ]
    },
    {
      "cell_type": "code",
      "metadata": {
        "id": "gZOWf5tSDXR4",
        "colab": {
          "base_uri": "https://localhost:8080/"
        },
        "outputId": "7b45d6b0-2990-4983-c75e-bdf38dab9c5e"
      },
      "source": [
        "#Setup thư viện xử lý tiếng việt\n",
        "!pip install pyvi\n",
        "from pyvi import ViTokenizer"
      ],
      "execution_count": null,
      "outputs": [
        {
          "output_type": "stream",
          "text": [
            "Requirement already satisfied: pyvi in /usr/local/lib/python3.6/dist-packages (0.1)\n",
            "Requirement already satisfied: scikit-learn in /usr/local/lib/python3.6/dist-packages (from pyvi) (0.22.2.post1)\n",
            "Requirement already satisfied: sklearn-crfsuite in /usr/local/lib/python3.6/dist-packages (from pyvi) (0.3.6)\n",
            "Requirement already satisfied: joblib>=0.11 in /usr/local/lib/python3.6/dist-packages (from scikit-learn->pyvi) (0.17.0)\n",
            "Requirement already satisfied: scipy>=0.17.0 in /usr/local/lib/python3.6/dist-packages (from scikit-learn->pyvi) (1.4.1)\n",
            "Requirement already satisfied: numpy>=1.11.0 in /usr/local/lib/python3.6/dist-packages (from scikit-learn->pyvi) (1.18.5)\n",
            "Requirement already satisfied: tqdm>=2.0 in /usr/local/lib/python3.6/dist-packages (from sklearn-crfsuite->pyvi) (4.41.1)\n",
            "Requirement already satisfied: tabulate in /usr/local/lib/python3.6/dist-packages (from sklearn-crfsuite->pyvi) (0.8.7)\n",
            "Requirement already satisfied: python-crfsuite>=0.8.3 in /usr/local/lib/python3.6/dist-packages (from sklearn-crfsuite->pyvi) (0.9.7)\n",
            "Requirement already satisfied: six in /usr/local/lib/python3.6/dist-packages (from sklearn-crfsuite->pyvi) (1.15.0)\n",
            "time: 2.07 s\n"
          ],
          "name": "stdout"
        }
      ]
    },
    {
      "cell_type": "code",
      "metadata": {
        "id": "1Xaz9JX7Dmg3",
        "colab": {
          "base_uri": "https://localhost:8080/"
        },
        "outputId": "6ad9762a-12dd-4ec3-9fd8-ca151c48a94a"
      },
      "source": [
        "#Từ điển tích cực, tiêu cực, phủ định\n",
        "path_nag = '/content/drive/My Drive/10 Kaggle Projects/AAAFinal Project/Vi dụ demo/Data/sentiment_dicts/nag_youtube.txt'\n",
        "path_pos = '/content/drive/My Drive/10 Kaggle Projects/AAAFinal Project/Vi dụ demo/Data/sentiment_dicts/pos_youtube.txt'\n",
        "path_not = '/content/drive/My Drive/10 Kaggle Projects/AAAFinal Project/Vi dụ demo/Data/sentiment_dicts/not.txt'\n",
        "#-------------------------------------------------------------------------------------------------\n",
        "with codecs.open(path_nag, 'r', encoding='UTF-8') as f:\n",
        "    nag = f.readlines()\n",
        "nag_list = [n.replace('\\n', '') for n in nag]\n",
        "\n",
        "with codecs.open(path_pos, 'r', encoding='UTF-8') as f:\n",
        "    pos = f.readlines()\n",
        "pos_list = [n.replace('\\n', '') for n in pos]\n",
        "with codecs.open(path_not, 'r', encoding='UTF-8') as f:\n",
        "    not_ = f.readlines()\n",
        "not_list = [n.replace('\\n', '') for n in not_]\n",
        "\n",
        "\n",
        "#Xây dựng hàm chuẩn hóa dữ liệu tiêng việt\n",
        "def normalize_text(text):\n",
        "\n",
        "    #Remove các ký tự kéo dài: vd: đẹppppppp\n",
        "    text = re.sub(r'([A-Z])\\1+', lambda m: m.group(1).upper(), text, flags=re.IGNORECASE)\n",
        "\n",
        "    # Chuyển thành chữ thường\n",
        "    text = text.lower()\n",
        "\n",
        "    #Chuẩn hóa tiếng Việt, xử lý emoj, chuẩn hóa tiếng Anh, thuật ngữ\n",
        "    replace_list = {\n",
        "        'òa': 'oà', 'óa': 'oá', 'ỏa': 'oả', 'õa': 'oã', 'ọa': 'oạ', 'òe': 'oè', 'óe': 'oé','ỏe': 'oẻ',\n",
        "        'õe': 'oẽ', 'ọe': 'oẹ', 'ùy': 'uỳ', 'úy': 'uý', 'ủy': 'uỷ', 'ũy': 'uỹ','ụy': 'uỵ', 'uả': 'ủa',\n",
        "        'ả': 'ả', 'ố': 'ố', 'u´': 'ố','ỗ': 'ỗ', 'ồ': 'ồ', 'ổ': 'ổ', 'ấ': 'ấ', 'ẫ': 'ẫ', 'ẩ': 'ẩ',\n",
        "        'ầ': 'ầ', 'ỏ': 'ỏ', 'ề': 'ề','ễ': 'ễ', 'ắ': 'ắ', 'ủ': 'ủ', 'ế': 'ế', 'ở': 'ở', 'ỉ': 'ỉ',\n",
        "        'ẻ': 'ẻ', 'àk': u' à ','aˋ': 'à', 'iˋ': 'ì', 'ă´': 'ắ','ử': 'ử', 'e˜': 'ẽ', 'y˜': 'ỹ', 'a´': 'á',\n",
        "        #Quy các icon về 2 loại emoj: Tích cực hoặc tiêu cực\n",
        "        \"👹\": \"negative\", \"👻\": \"positive\", \"💃\": \"positive\",'🤙': ' positive ', '👍': ' positive ',\n",
        "        \"💄\": \"positive\", \"💎\": \"positive\", \"💩\": \"positive\",\"😕\": \"negative\", \"😱\": \"negative\", \"😸\": \"positive\",\n",
        "        \"😾\": \"negative\", \"🚫\": \"negative\",  \"🤬\": \"negative\",\"🧚\": \"positive\", \"🧡\": \"positive\",'🐶':' positive ',\n",
        "        '👎': ' negative ', '😣': ' negative ','✨': ' positive ', '❣': ' positive ','☀': ' positive ',\n",
        "        '♥': ' positive ', '🤩': ' positive ', 'like': ' positive ', '💌': ' positive ',\n",
        "        '🤣': ' positive ', '🖤': ' positive ', '🤤': ' positive ', ':(': ' negative ', '😢': ' negative ',\n",
        "        '❤': ' positive ', '😍': ' positive ', '😘': ' positive ', '😪': ' negative ', '😊': ' positive ',\n",
        "        '?': ' ? ', '😁': ' positive ', '💖': ' positive ', '😟': ' negative ', '😭': ' negative ',\n",
        "        '💯': ' positive ', '💗': ' positive ', '♡': ' positive ', '💜': ' positive ', '🤗': ' positive ',\n",
        "        '^^': ' positive ', '😨': ' negative ', '☺': ' positive ', '💋': ' positive ', '👌': ' positive ',\n",
        "        '😖': ' negative ', '😀': ' positive ', ':((': ' negative ', '😡': ' negative ', '😠': ' negative ',\n",
        "        '😒': ' negative ', '🙂': ' positive ', '😏': ' negative ', '😝': ' positive ', '😄': ' positive ',\n",
        "        '😙': ' positive ', '😤': ' negative ', '😎': ' positive ', '😆': ' positive ', '💚': ' positive ',\n",
        "        '✌': ' positive ', '💕': ' positive ', '😞': ' negative ', '😓': ' negative ', '️🆗️': ' positive ',\n",
        "        '😉': ' positive ', '😂': ' positive ', ':v': '  positive ', '=))': '  positive ', '😋': ' positive ',\n",
        "        '💓': ' positive ', '😐': ' negative ', ':3': ' positive ', '😫': ' negative ', '😥': ' negative ',\n",
        "        '😃': ' positive ', '😬': ' 😬 ', '😌': ' 😌 ', '💛': ' positive ', '🤝': ' positive ', '🎈': ' positive ',\n",
        "        '😗': ' positive ', '🤔': ' negative ', '😑': ' negative ', '🔥': ' positive ', '🙏': ' negative ',\n",
        "        '🆗': ' positive ', '😻': ' positive ', '💙': ' positive ', '💟': ' positive ',\n",
        "        '😚': ' positive ', '❌': ' negative ', '👏': ' positive ', ';)': ' positive ', '<3': ' positive ',\n",
        "        '🌝': ' positive ',  '🌷': ' positive ', '🌸': ' positive ', '🌺': ' positive ',\n",
        "        '🌼': ' positive ', '🍓': ' positive ', '🐅': ' positive ', '🐾': ' positive ', '👉': ' positive ',\n",
        "        '💐': ' positive ', '💞': ' positive ', '💥': ' positive ', '💪': ' positive ',\n",
        "        '💰': ' positive ',  '😇': ' positive ', '😛': ' positive ', '😜': ' positive ',\n",
        "        '🙃': ' positive ', '🤑': ' positive ', '🤪': ' positive ','☹': ' negative ',  '💀': ' negative ',\n",
        "        '😔': ' negative ', '😧': ' negative ', '😩': ' negative ', '😰': ' negative ', '😳': ' negative ',\n",
        "        '😵': ' negative ', '😶': ' negative ', '🙁': ' negative ', '🐔': ' negative ', '🐓': ' negative ',\n",
        "        '🐕': ' negative ','😼': ' negative ','🐶': ' negative ','😵': ' negative ','😕': ' negative ',\n",
        "        '😒': ' negative ','😐': ' negative ','❤️': ' positive ','😍': ' positive ','🤗': ' positive ',\n",
        "        '😘': ' positive ','👍': ' positive ','❤': ' positive ','😙': ' positive ','💪🏻': ' positive ',\n",
        "        '👍': ' positive ','👍🏻': ' positive ','❣👏': ' positive ','😻': ' positive ','💘': ' positive ',\n",
        "        \n",
        "\t  \n",
        "        #Chuẩn hóa 1 số sentiment words/English words\n",
        "        ':))': '  positive ', ':)': ' positive ', 'ô kêi': ' ok ', 'okie': ' ok ', ' o kê ': ' ok ',\n",
        "        'okey': ' ok ', 'ôkê': ' ok ', 'oki': ' ok ', ' oke ':  ' ok ',' okay':' ok ','okê':' ok ',\n",
        "        ' tks ': u' cám ơn ', 'thks': u' cám ơn ', 'thanks': u' cám ơn ', 'ths': u' cám ơn ', 'thank': u' cám ơn ',\n",
        "        '⭐': 'star ', '*': 'star ', '🌟': 'star ', '🎉': u' positive ',\n",
        "        'kg ': u' không ','not': u' không ', u' kg ': u' không ', '\"k ': u' không ',' kh ':u' không ','kô':u' không ','hok':u' không ',' kp ': u' không phải ',u' kô ': u' không ', '\"ko ': u' không ', u' ko ': u' không ', u' k ': u' không ', 'khong': u' không ', u' hok ': u' không ',\n",
        "        'he he': ' positive ','hehe': ' positive ','hihi': ' positive ', 'haha': ' positive ', 'hjhj': ' positive ',\n",
        "        ' lol ': ' negative ',' cc ': ' negative ','cute': u' dễ thương ','huhu': ' negative ', ' vs ': u' với ', 'wa': ' quá ', 'wá': u' quá', 'j': u' gì ', '“': ' ',\n",
        "        ' sz ': u' cỡ ', 'size': u' cỡ ', u' đx ': u' được ', 'dk': u' được ', 'dc': u' được ', 'đk': u' được ',\n",
        "        'đc': u' được ','authentic': u' chuẩn chính hãng ',u' aut ': u' chuẩn chính hãng ', u' auth ': u' chuẩn chính hãng ', 'thick': u' positive ', 'store': u' cửa hàng ',\n",
        "        'shop': u' cửa hàng ', 'sp': u' sản phẩm ', 'gud': u' tốt ','god': u' tốt ','wel done':' tốt ', 'good': u' tốt ', 'gút': u' tốt ',\n",
        "        'sấu': u' xấu ','gut': u' tốt ', u' tot ': u' tốt ', u' nice ': u' tốt ', 'perfect': 'rất tốt', 'bt': u' bình thường ',\n",
        "        'time': u' thời gian ', 'qá': u' quá ', u' ship ': u' giao hàng ', u' m ': u' mình ', u' mik ': u' mình ',\n",
        "        'ể': 'ể', 'product': 'sản phẩm', 'quality': 'chất lượng','chat':' chất ', 'excelent': 'hoàn hảo', 'bad': 'tệ','fresh': ' tươi ','sad': ' tệ ',\n",
        "        'date': u' hạn sử dụng ', 'hsd': u' hạn sử dụng ','quickly': u' nhanh ', 'quick': u' nhanh ','fast': u' nhanh ','delivery': u' giao hàng ',u' síp ': u' giao hàng ',\n",
        "        'beautiful': u' đẹp tuyệt vời ', u' tl ': u' trả lời ', u' r ': u' rồi ', u' shopE ': u' cửa hàng ',u' order ': u' đặt hàng ',\n",
        "        'chất lg': u' chất lượng ',u' sd ': u' sử dụng ',u' dt ': u' điện thoại ',u' nt ': u' nhắn tin ',u' tl ': u' trả lời ',u' sài ': u' xài ',u'bjo':u' bao giờ ',\n",
        "        'thik': u' thích ',u' sop ': u' cửa hàng ', ' fb ': ' facebook ', ' face ': ' facebook ', ' very ': u' rất ',u'quả ng ':u' quảng  ',\n",
        "        'dep': u' đẹp ',u' xau ': u' xấu ','delicious': u' ngon ', u'hàg': u' hàng ', u'qủa': u' quả ',\n",
        "        'iu': u' yêu ','fake': u' giả mạo ', 'trl': 'trả lời', '><': u' positive ',\n",
        "        ' por ': u' tệ ',' poor ': u' tệ ', 'ib':u' nhắn tin ', 'rep':u' trả lời ',u'fback':' feedback ','fedback':' feedback ',\n",
        "        #dưới 3* quy về 1*, trên 3* quy về 5*\n",
        "        '6 sao': ' 5star ','6 star': ' 5star ', '5star': ' 5star ','5 sao': ' 5star ','5sao': ' 5star ',\n",
        "        'starstarstarstarstar': ' 5star ', '1 sao': ' 1star ', '1sao': ' 1star ','2 sao':' 1star ','2sao':' 1star ',\n",
        "        '2 starstar':' 1star ','1star': ' 1star ', '0 sao': ' 1star ', '0star': ' 1star ',}\n",
        "\n",
        "    for k, v in replace_list.items():\n",
        "        text = text.replace(k, v)\n",
        "\n",
        "    # Thực hiện chuyển đổi các dấu câu thành space\n",
        "    translator = str.maketrans(string.punctuation, ' ' * len(string.punctuation))\n",
        "    text = text.translate(translator)\n",
        "\n",
        "    text = ViTokenizer.tokenize(text)\n",
        "    texts = text.split()\n",
        "    len_text = len(texts)\n",
        "\n",
        "    texts = [t.replace('_', ' ') for t in texts]\n",
        "    for i in range(len_text):\n",
        "        cp_text = texts[i]\n",
        "        if cp_text in not_list: # Xử lý vấn đề phủ định (VD: áo này chẳng đẹp--> áo này notpos)\n",
        "            numb_word = 2 if len_text - i - 1 >= 4 else len_text - i - 1\n",
        "\n",
        "            for j in range(numb_word):\n",
        "                if texts[i + j + 1] in pos_list:\n",
        "                    texts[i] = 'notpos'\n",
        "                    texts[i + j + 1] = ''\n",
        "\n",
        "                if texts[i + j + 1] in nag_list:\n",
        "                    texts[i] = 'notnag'\n",
        "                    texts[i + j + 1] = ''\n",
        "        else: #Thêm feature cho những sentiment words (áo này đẹp--> áo này đẹp positive)\n",
        "            if cp_text in pos_list:\n",
        "                texts.append('positive')\n",
        "            elif cp_text in nag_list:\n",
        "                texts.append('negative')\n",
        "\n",
        "    text = u' '.join(texts)\n",
        "\n",
        "    #remove nốt những ký tự thừa thãi\n",
        "    text = text.replace(u'\"', u' ')\n",
        "    text = text.replace(u'️', u'')\n",
        "    text = text.replace('🏻','')\n",
        "    return text\n",
        "\n",
        "print (\"Done process at : \", now.strftime(\"%Y-%m-%d %H:%M:%S\"))\n",
        "\n",
        "#Xây dựng Hàm bỏ dấu trong tiếng việt (Chuyển từ tiếng việt có dấu --> không dấu)\n",
        "VN_CHARS_LOWER = u'ạảãàáâậầấẩẫăắằặẳẵóòọõỏôộổỗồốơờớợởỡéèẻẹẽêếềệểễúùụủũưựữửừứíìịỉĩýỳỷỵỹđð'\n",
        "VN_CHARS_UPPER = u'ẠẢÃÀÁÂẬẦẤẨẪĂẮẰẶẲẴÓÒỌÕỎÔỘỔỖỒỐƠỜỚỢỞỠÉÈẺẸẼÊẾỀỆỂỄÚÙỤỦŨƯỰỮỬỪỨÍÌỊỈĨÝỲỶỴỸÐĐ'\n",
        "VN_CHARS = VN_CHARS_LOWER + VN_CHARS_UPPER\n",
        "\n",
        "def no_marks(s):\n",
        "    __INTAB = [ch for ch in VN_CHARS]\n",
        "    __OUTTAB = \"a\"*17 + \"o\"*17 + \"e\"*11 + \"u\"*11 + \"i\"*5 + \"y\"*5 + \"d\"*2\n",
        "    __OUTTAB += \"A\"*17 + \"O\"*17 + \"E\"*11 + \"U\"*11 + \"I\"*5 + \"Y\"*5 + \"D\"*2\n",
        "    __r = re.compile(\"|\".join(__INTAB))\n",
        "    __replaces_dict = dict(zip(__INTAB, __OUTTAB))\n",
        "    result = __r.sub(lambda m: __replaces_dict[m.group(0)], s)\n",
        "    return result\n",
        "\n",
        "print (\"Done process at : \", now.strftime(\"%Y-%m-%d %H:%M:%S\"))"
      ],
      "execution_count": null,
      "outputs": [
        {
          "output_type": "stream",
          "text": [
            "Done process at :  2020-11-13 12:55:47\n",
            "Done process at :  2020-11-13 12:55:47\n",
            "time: 345 ms\n"
          ],
          "name": "stdout"
        }
      ]
    },
    {
      "cell_type": "markdown",
      "metadata": {
        "id": "aVxWxkIdC-m4"
      },
      "source": [
        "## Tải dữ liêu vào các dataframe"
      ]
    },
    {
      "cell_type": "code",
      "metadata": {
        "id": "Zn8eH2F3UQEX",
        "colab": {
          "base_uri": "https://localhost:8080/",
          "height": 255
        },
        "outputId": "fda7036f-2681-4f1e-d8e4-3bf44c1a7146"
      },
      "source": [
        "import pandas as pd\n",
        "\n",
        "lactroi = pd.read_csv('/content/drive/My Drive/10 Kaggle Projects/AAAFinal Project/Data_Comment/clean_lactroi_binhluan_31k.csv', lineterminator='\\n')\n",
        "print(lactroi.shape)\n",
        "print (\"Done process at : \", now.strftime(\"%Y-%m-%d %H:%M:%S\"))\n",
        "\n",
        "lactroi = lactroi[['clear_all', 'clean_comment', 'text_length', 'Like Count']]\n",
        "#pd.set_option('display.max_rows', 100)\n",
        "lactroi.head(5)"
      ],
      "execution_count": null,
      "outputs": [
        {
          "output_type": "stream",
          "text": [
            "(31007, 10)\n",
            "Done process at :  2020-11-13 06:35:49\n"
          ],
          "name": "stdout"
        },
        {
          "output_type": "execute_result",
          "data": {
            "text/html": [
              "<div>\n",
              "<style scoped>\n",
              "    .dataframe tbody tr th:only-of-type {\n",
              "        vertical-align: middle;\n",
              "    }\n",
              "\n",
              "    .dataframe tbody tr th {\n",
              "        vertical-align: top;\n",
              "    }\n",
              "\n",
              "    .dataframe thead th {\n",
              "        text-align: right;\n",
              "    }\n",
              "</style>\n",
              "<table border=\"1\" class=\"dataframe\">\n",
              "  <thead>\n",
              "    <tr style=\"text-align: right;\">\n",
              "      <th></th>\n",
              "      <th>clear_all</th>\n",
              "      <th>clean_comment</th>\n",
              "      <th>text_length</th>\n",
              "      <th>Like Count</th>\n",
              "    </tr>\n",
              "  </thead>\n",
              "  <tbody>\n",
              "    <tr>\n",
              "      <th>0</th>\n",
              "      <td>lạc trôi (triple d remix) | 360 degree mv |  s...</td>\n",
              "      <td>lạc trôi (triple d remix) | 360 degree mv |  s...</td>\n",
              "      <td>36</td>\n",
              "      <td>27410</td>\n",
              "    </tr>\n",
              "    <tr>\n",
              "      <th>1</th>\n",
              "      <td>231m ai còn nghe ko</td>\n",
              "      <td>231m ai còn nghe ko</td>\n",
              "      <td>5</td>\n",
              "      <td>1</td>\n",
              "    </tr>\n",
              "    <tr>\n",
              "      <th>2</th>\n",
              "      <td>bn tôi nay có tâm sự à</td>\n",
              "      <td>bn tôi nay có tâm sự à</td>\n",
              "      <td>7</td>\n",
              "      <td>1</td>\n",
              "    </tr>\n",
              "    <tr>\n",
              "      <th>3</th>\n",
              "      <td>vấn vuong</td>\n",
              "      <td>vấn vuong</td>\n",
              "      <td>2</td>\n",
              "      <td>1</td>\n",
              "    </tr>\n",
              "    <tr>\n",
              "      <th>4</th>\n",
              "      <td>nghiện nghiện nghiện say say say\\nvấn vương...!</td>\n",
              "      <td>nghiện nghiện nghiện say say say\\nvấn vương...!</td>\n",
              "      <td>8</td>\n",
              "      <td>2</td>\n",
              "    </tr>\n",
              "  </tbody>\n",
              "</table>\n",
              "</div>"
            ],
            "text/plain": [
              "                                           clear_all  ... Like Count\n",
              "0  lạc trôi (triple d remix) | 360 degree mv |  s...  ...      27410\n",
              "1                                231m ai còn nghe ko  ...          1\n",
              "2                             bn tôi nay có tâm sự à  ...          1\n",
              "3                                          vấn vuong  ...          1\n",
              "4    nghiện nghiện nghiện say say say\\nvấn vương...!  ...          2\n",
              "\n",
              "[5 rows x 4 columns]"
            ]
          },
          "metadata": {
            "tags": []
          },
          "execution_count": 6
        },
        {
          "output_type": "stream",
          "text": [
            "time: 1.52 s\n"
          ],
          "name": "stdout"
        }
      ]
    },
    {
      "cell_type": "code",
      "metadata": {
        "id": "j5iwMyU6U_Db",
        "colab": {
          "base_uri": "https://localhost:8080/",
          "height": 255
        },
        "outputId": "8d328757-9da6-420b-975e-140774e7e149"
      },
      "source": [
        "tuhomnay = pd.read_csv('/content/drive/My Drive/10 Kaggle Projects/AAAFinal Project/Data_Comment/clean_TuHomNay_binhluan_45k.csv', lineterminator='\\n')\n",
        "print(tuhomnay.shape)\n",
        "print (\"Done process at : \", now.strftime(\"%Y-%m-%d %H:%M:%S\"))\n",
        "\n",
        "tuhomnay.rename(columns={'Clear_all': 'clear_all'}, inplace=True)\n",
        "tuhomnay = tuhomnay[['clear_all', 'clean_comment', 'text_length', 'Like Count']]\n",
        "#pd.set_option('display.max_rows', 100)\n",
        "tuhomnay.head(5)"
      ],
      "execution_count": null,
      "outputs": [
        {
          "output_type": "stream",
          "text": [
            "(45182, 10)\n",
            "Done process at :  2020-11-13 06:35:49\n"
          ],
          "name": "stdout"
        },
        {
          "output_type": "execute_result",
          "data": {
            "text/html": [
              "<div>\n",
              "<style scoped>\n",
              "    .dataframe tbody tr th:only-of-type {\n",
              "        vertical-align: middle;\n",
              "    }\n",
              "\n",
              "    .dataframe tbody tr th {\n",
              "        vertical-align: top;\n",
              "    }\n",
              "\n",
              "    .dataframe thead th {\n",
              "        text-align: right;\n",
              "    }\n",
              "</style>\n",
              "<table border=\"1\" class=\"dataframe\">\n",
              "  <thead>\n",
              "    <tr style=\"text-align: right;\">\n",
              "      <th></th>\n",
              "      <th>clear_all</th>\n",
              "      <th>clean_comment</th>\n",
              "      <th>text_length</th>\n",
              "      <th>Like Count</th>\n",
              "    </tr>\n",
              "  </thead>\n",
              "  <tbody>\n",
              "    <tr>\n",
              "      <th>0</th>\n",
              "      <td>oh likes nhiều mà</td>\n",
              "      <td>oh likes nhiều mà</td>\n",
              "      <td>4</td>\n",
              "      <td>0</td>\n",
              "    </tr>\n",
              "    <tr>\n",
              "      <th>1</th>\n",
              "      <td>không biết bây giờ chipu còn đóng 5s</td>\n",
              "      <td>không biết bây giờ chipu còn đóng 5s</td>\n",
              "      <td>8</td>\n",
              "      <td>0</td>\n",
              "    </tr>\n",
              "    <tr>\n",
              "      <th>2</th>\n",
              "      <td>hay quá chị ơi em yêu chị</td>\n",
              "      <td>hay quá chị ơi em yêu chị</td>\n",
              "      <td>7</td>\n",
              "      <td>1</td>\n",
              "    </tr>\n",
              "    <tr>\n",
              "      <th>3</th>\n",
              "      <td>2020 vẫn coi</td>\n",
              "      <td>2020 vẫn coi</td>\n",
              "      <td>3</td>\n",
              "      <td>0</td>\n",
              "    </tr>\n",
              "    <tr>\n",
              "      <th>4</th>\n",
              "      <td>16/10/2020 nghe lại vẫn hay chất lừ</td>\n",
              "      <td>16/10/2020 nghe lại vẫn hay chất lừ😊</td>\n",
              "      <td>7</td>\n",
              "      <td>0</td>\n",
              "    </tr>\n",
              "  </tbody>\n",
              "</table>\n",
              "</div>"
            ],
            "text/plain": [
              "                              clear_all  ... Like Count\n",
              "0                     oh likes nhiều mà  ...          0\n",
              "1  không biết bây giờ chipu còn đóng 5s  ...          0\n",
              "2             hay quá chị ơi em yêu chị  ...          1\n",
              "3                         2020 vẫn coi   ...          0\n",
              "4   16/10/2020 nghe lại vẫn hay chất lừ  ...          0\n",
              "\n",
              "[5 rows x 4 columns]"
            ]
          },
          "metadata": {
            "tags": []
          },
          "execution_count": 7
        },
        {
          "output_type": "stream",
          "text": [
            "time: 958 ms\n"
          ],
          "name": "stdout"
        }
      ]
    },
    {
      "cell_type": "code",
      "metadata": {
        "id": "1X2jQ3LXWhwm",
        "colab": {
          "base_uri": "https://localhost:8080/",
          "height": 255
        },
        "outputId": "e7354a29-a0d3-4fde-e06c-ee7dc938247d"
      },
      "source": [
        "htca = pd.read_csv('/content/drive/My Drive/10 Kaggle Projects/AAAFinal Project/Data_Comment/clean_htca_binhluan_521k.csv', lineterminator='\\n')\n",
        "print(htca.shape)\n",
        "print (\"Done process at : \", now.strftime(\"%Y-%m-%d %H:%M:%S\"))\n",
        "htca.rename(columns={'clean_comment.1': 'clear_all'}, inplace=True)\n",
        "htca = htca[['clear_all', 'clean_comment', 'text_length', 'Like Count']]\n",
        "pd.set_option('display.max_rows', 100)\n",
        "htca.head(5)"
      ],
      "execution_count": null,
      "outputs": [
        {
          "output_type": "stream",
          "text": [
            "(521870, 10)\n",
            "Done process at :  2020-11-13 06:35:49\n"
          ],
          "name": "stdout"
        },
        {
          "output_type": "execute_result",
          "data": {
            "text/html": [
              "<div>\n",
              "<style scoped>\n",
              "    .dataframe tbody tr th:only-of-type {\n",
              "        vertical-align: middle;\n",
              "    }\n",
              "\n",
              "    .dataframe tbody tr th {\n",
              "        vertical-align: top;\n",
              "    }\n",
              "\n",
              "    .dataframe thead th {\n",
              "        text-align: right;\n",
              "    }\n",
              "</style>\n",
              "<table border=\"1\" class=\"dataframe\">\n",
              "  <thead>\n",
              "    <tr style=\"text-align: right;\">\n",
              "      <th></th>\n",
              "      <th>clear_all</th>\n",
              "      <th>clean_comment</th>\n",
              "      <th>text_length</th>\n",
              "      <th>Like Count</th>\n",
              "    </tr>\n",
              "  </thead>\n",
              "  <tbody>\n",
              "    <tr>\n",
              "      <th>0</th>\n",
              "      <td>ngăn giọt lệ ngừng khiến khoé mi sầu biiiii</td>\n",
              "      <td>ngăn giọt lệ ngừng khiến khoé mi sầu biiiii</td>\n",
              "      <td>9</td>\n",
              "      <td>0</td>\n",
              "    </tr>\n",
              "    <tr>\n",
              "      <th>1</th>\n",
              "      <td>cá heo</td>\n",
              "      <td>cá heo</td>\n",
              "      <td>2</td>\n",
              "      <td>1</td>\n",
              "    </tr>\n",
              "    <tr>\n",
              "      <th>2</th>\n",
              "      <td>mv đỉnh nhất  vn thời đại</td>\n",
              "      <td>mv đỉnh nhất  vn thời đại</td>\n",
              "      <td>6</td>\n",
              "      <td>0</td>\n",
              "    </tr>\n",
              "    <tr>\n",
              "      <th>3</th>\n",
              "      <td>hay quá anh ơi</td>\n",
              "      <td>hay quá anh ơi</td>\n",
              "      <td>4</td>\n",
              "      <td>2</td>\n",
              "    </tr>\n",
              "    <tr>\n",
              "      <th>4</th>\n",
              "      <td>31/10 ai còn nghe ko</td>\n",
              "      <td>31/10 ai còn nghe ko</td>\n",
              "      <td>5</td>\n",
              "      <td>1</td>\n",
              "    </tr>\n",
              "  </tbody>\n",
              "</table>\n",
              "</div>"
            ],
            "text/plain": [
              "                                     clear_all  ... Like Count\n",
              "0  ngăn giọt lệ ngừng khiến khoé mi sầu biiiii  ...          0\n",
              "1                                       cá heo  ...          1\n",
              "2                    mv đỉnh nhất  vn thời đại  ...          0\n",
              "3                               hay quá anh ơi  ...          2\n",
              "4                         31/10 ai còn nghe ko  ...          1\n",
              "\n",
              "[5 rows x 4 columns]"
            ]
          },
          "metadata": {
            "tags": []
          },
          "execution_count": 8
        },
        {
          "output_type": "stream",
          "text": [
            "time: 2.69 s\n"
          ],
          "name": "stdout"
        }
      ]
    },
    {
      "cell_type": "markdown",
      "metadata": {
        "id": "rMOktMArclwB"
      },
      "source": [
        "# Bắt đầu chém gió\n"
      ]
    },
    {
      "cell_type": "markdown",
      "metadata": {
        "id": "kvkk6Vph_1KQ"
      },
      "source": [
        "### TỪ HÔM NAY"
      ]
    },
    {
      "cell_type": "code",
      "metadata": {
        "id": "OLtZ_X75ZHBc",
        "colab": {
          "base_uri": "https://localhost:8080/",
          "height": 477
        },
        "outputId": "4b3da326-7680-4796-da0a-05909079ca3f"
      },
      "source": [
        "import collections\n",
        "from collections import Counter\n",
        "\n",
        "tuhomnay['temp_list'] = tuhomnay['clean_comment'].apply(lambda x:str(x).split())\n",
        "top = Counter([item for sublist in tuhomnay['temp_list'] for item in sublist])\n",
        "temp = pd.DataFrame(top.most_common(20))\n",
        "temp.columns = ['Common_words','count']\n",
        "temp.style.background_gradient(cmap='afmhot_r')\n"
      ],
      "execution_count": null,
      "outputs": [
        {
          "output_type": "execute_result",
          "data": {
            "text/html": [
              "<style  type=\"text/css\" >\n",
              "#T_b7b25cb6_257a_11eb_b261_0242ac1c0002row0_col1{\n",
              "            background-color:  #000000;\n",
              "            color:  #f1f1f1;\n",
              "        }#T_b7b25cb6_257a_11eb_b261_0242ac1c0002row1_col1{\n",
              "            background-color:  #981900;\n",
              "            color:  #f1f1f1;\n",
              "        }#T_b7b25cb6_257a_11eb_b261_0242ac1c0002row2_col1{\n",
              "            background-color:  #ff9515;\n",
              "            color:  #000000;\n",
              "        }#T_b7b25cb6_257a_11eb_b261_0242ac1c0002row3_col1{\n",
              "            background-color:  #ff9b1b;\n",
              "            color:  #000000;\n",
              "        }#T_b7b25cb6_257a_11eb_b261_0242ac1c0002row4_col1{\n",
              "            background-color:  #ffa627;\n",
              "            color:  #000000;\n",
              "        }#T_b7b25cb6_257a_11eb_b261_0242ac1c0002row5_col1{\n",
              "            background-color:  #ffbc3d;\n",
              "            color:  #000000;\n",
              "        }#T_b7b25cb6_257a_11eb_b261_0242ac1c0002row6_col1{\n",
              "            background-color:  #ffc445;\n",
              "            color:  #000000;\n",
              "        }#T_b7b25cb6_257a_11eb_b261_0242ac1c0002row7_col1{\n",
              "            background-color:  #fff979;\n",
              "            color:  #000000;\n",
              "        }#T_b7b25cb6_257a_11eb_b261_0242ac1c0002row8_col1{\n",
              "            background-color:  #ffff83;\n",
              "            color:  #000000;\n",
              "        }#T_b7b25cb6_257a_11eb_b261_0242ac1c0002row9_col1{\n",
              "            background-color:  #ffffaf;\n",
              "            color:  #000000;\n",
              "        }#T_b7b25cb6_257a_11eb_b261_0242ac1c0002row10_col1{\n",
              "            background-color:  #ffffb3;\n",
              "            color:  #000000;\n",
              "        }#T_b7b25cb6_257a_11eb_b261_0242ac1c0002row11_col1{\n",
              "            background-color:  #ffffbd;\n",
              "            color:  #000000;\n",
              "        }#T_b7b25cb6_257a_11eb_b261_0242ac1c0002row12_col1,#T_b7b25cb6_257a_11eb_b261_0242ac1c0002row13_col1{\n",
              "            background-color:  #ffffe9;\n",
              "            color:  #000000;\n",
              "        }#T_b7b25cb6_257a_11eb_b261_0242ac1c0002row14_col1,#T_b7b25cb6_257a_11eb_b261_0242ac1c0002row15_col1{\n",
              "            background-color:  #ffffeb;\n",
              "            color:  #000000;\n",
              "        }#T_b7b25cb6_257a_11eb_b261_0242ac1c0002row16_col1{\n",
              "            background-color:  #fffff3;\n",
              "            color:  #000000;\n",
              "        }#T_b7b25cb6_257a_11eb_b261_0242ac1c0002row17_col1{\n",
              "            background-color:  #fffffb;\n",
              "            color:  #000000;\n",
              "        }#T_b7b25cb6_257a_11eb_b261_0242ac1c0002row18_col1{\n",
              "            background-color:  #fffffd;\n",
              "            color:  #000000;\n",
              "        }#T_b7b25cb6_257a_11eb_b261_0242ac1c0002row19_col1{\n",
              "            background-color:  #ffffff;\n",
              "            color:  #000000;\n",
              "        }</style><table id=\"T_b7b25cb6_257a_11eb_b261_0242ac1c0002\" ><thead>    <tr>        <th class=\"blank level0\" ></th>        <th class=\"col_heading level0 col0\" >Common_words</th>        <th class=\"col_heading level0 col1\" >count</th>    </tr></thead><tbody>\n",
              "                <tr>\n",
              "                        <th id=\"T_b7b25cb6_257a_11eb_b261_0242ac1c0002level0_row0\" class=\"row_heading level0 row0\" >0</th>\n",
              "                        <td id=\"T_b7b25cb6_257a_11eb_b261_0242ac1c0002row0_col0\" class=\"data row0 col0\" >hay</td>\n",
              "                        <td id=\"T_b7b25cb6_257a_11eb_b261_0242ac1c0002row0_col1\" class=\"data row0 col1\" >17955</td>\n",
              "            </tr>\n",
              "            <tr>\n",
              "                        <th id=\"T_b7b25cb6_257a_11eb_b261_0242ac1c0002level0_row1\" class=\"row_heading level0 row1\" >1</th>\n",
              "                        <td id=\"T_b7b25cb6_257a_11eb_b261_0242ac1c0002row1_col0\" class=\"data row1 col0\" >hát</td>\n",
              "                        <td id=\"T_b7b25cb6_257a_11eb_b261_0242ac1c0002row1_col1\" class=\"data row1 col1\" >14453</td>\n",
              "            </tr>\n",
              "            <tr>\n",
              "                        <th id=\"T_b7b25cb6_257a_11eb_b261_0242ac1c0002level0_row2\" class=\"row_heading level0 row2\" >2</th>\n",
              "                        <td id=\"T_b7b25cb6_257a_11eb_b261_0242ac1c0002row2_col0\" class=\"data row2 col0\" >chi</td>\n",
              "                        <td id=\"T_b7b25cb6_257a_11eb_b261_0242ac1c0002row2_col1\" class=\"data row2 col1\" >11606</td>\n",
              "            </tr>\n",
              "            <tr>\n",
              "                        <th id=\"T_b7b25cb6_257a_11eb_b261_0242ac1c0002level0_row3\" class=\"row_heading level0 row3\" >3</th>\n",
              "                        <td id=\"T_b7b25cb6_257a_11eb_b261_0242ac1c0002row3_col0\" class=\"data row3 col0\" >mà</td>\n",
              "                        <td id=\"T_b7b25cb6_257a_11eb_b261_0242ac1c0002row3_col1\" class=\"data row3 col1\" >11429</td>\n",
              "            </tr>\n",
              "            <tr>\n",
              "                        <th id=\"T_b7b25cb6_257a_11eb_b261_0242ac1c0002level0_row4\" class=\"row_heading level0 row4\" >4</th>\n",
              "                        <td id=\"T_b7b25cb6_257a_11eb_b261_0242ac1c0002row4_col0\" class=\"data row4 col0\" >là</td>\n",
              "                        <td id=\"T_b7b25cb6_257a_11eb_b261_0242ac1c0002row4_col1\" class=\"data row4 col1\" >11166</td>\n",
              "            </tr>\n",
              "            <tr>\n",
              "                        <th id=\"T_b7b25cb6_257a_11eb_b261_0242ac1c0002level0_row5\" class=\"row_heading level0 row5\" >5</th>\n",
              "                        <td id=\"T_b7b25cb6_257a_11eb_b261_0242ac1c0002row5_col0\" class=\"data row5 col0\" >có</td>\n",
              "                        <td id=\"T_b7b25cb6_257a_11eb_b261_0242ac1c0002row5_col1\" class=\"data row5 col1\" >10658</td>\n",
              "            </tr>\n",
              "            <tr>\n",
              "                        <th id=\"T_b7b25cb6_257a_11eb_b261_0242ac1c0002level0_row6\" class=\"row_heading level0 row6\" >6</th>\n",
              "                        <td id=\"T_b7b25cb6_257a_11eb_b261_0242ac1c0002row6_col0\" class=\"data row6 col0\" >nghe</td>\n",
              "                        <td id=\"T_b7b25cb6_257a_11eb_b261_0242ac1c0002row6_col1\" class=\"data row6 col1\" >10494</td>\n",
              "            </tr>\n",
              "            <tr>\n",
              "                        <th id=\"T_b7b25cb6_257a_11eb_b261_0242ac1c0002level0_row7\" class=\"row_heading level0 row7\" >7</th>\n",
              "                        <td id=\"T_b7b25cb6_257a_11eb_b261_0242ac1c0002row7_col0\" class=\"data row7 col0\" >chị</td>\n",
              "                        <td id=\"T_b7b25cb6_257a_11eb_b261_0242ac1c0002row7_col1\" class=\"data row7 col1\" >9278</td>\n",
              "            </tr>\n",
              "            <tr>\n",
              "                        <th id=\"T_b7b25cb6_257a_11eb_b261_0242ac1c0002level0_row8\" class=\"row_heading level0 row8\" >8</th>\n",
              "                        <td id=\"T_b7b25cb6_257a_11eb_b261_0242ac1c0002row8_col0\" class=\"data row8 col0\" >thì</td>\n",
              "                        <td id=\"T_b7b25cb6_257a_11eb_b261_0242ac1c0002row8_col1\" class=\"data row8 col1\" >9063</td>\n",
              "            </tr>\n",
              "            <tr>\n",
              "                        <th id=\"T_b7b25cb6_257a_11eb_b261_0242ac1c0002level0_row9\" class=\"row_heading level0 row9\" >9</th>\n",
              "                        <td id=\"T_b7b25cb6_257a_11eb_b261_0242ac1c0002row9_col0\" class=\"data row9 col0\" >bài</td>\n",
              "                        <td id=\"T_b7b25cb6_257a_11eb_b261_0242ac1c0002row9_col1\" class=\"data row9 col1\" >8028</td>\n",
              "            </tr>\n",
              "            <tr>\n",
              "                        <th id=\"T_b7b25cb6_257a_11eb_b261_0242ac1c0002level0_row10\" class=\"row_heading level0 row10\" >10</th>\n",
              "                        <td id=\"T_b7b25cb6_257a_11eb_b261_0242ac1c0002row10_col0\" class=\"data row10 col0\" >cũng</td>\n",
              "                        <td id=\"T_b7b25cb6_257a_11eb_b261_0242ac1c0002row10_col1\" class=\"data row10 col1\" >7941</td>\n",
              "            </tr>\n",
              "            <tr>\n",
              "                        <th id=\"T_b7b25cb6_257a_11eb_b261_0242ac1c0002level0_row11\" class=\"row_heading level0 row11\" >11</th>\n",
              "                        <td id=\"T_b7b25cb6_257a_11eb_b261_0242ac1c0002row11_col0\" class=\"data row11 col0\" >thấy</td>\n",
              "                        <td id=\"T_b7b25cb6_257a_11eb_b261_0242ac1c0002row11_col1\" class=\"data row11 col1\" >7725</td>\n",
              "            </tr>\n",
              "            <tr>\n",
              "                        <th id=\"T_b7b25cb6_257a_11eb_b261_0242ac1c0002level0_row12\" class=\"row_heading level0 row12\" >12</th>\n",
              "                        <td id=\"T_b7b25cb6_257a_11eb_b261_0242ac1c0002row12_col0\" class=\"data row12 col0\" >này</td>\n",
              "                        <td id=\"T_b7b25cb6_257a_11eb_b261_0242ac1c0002row12_col1\" class=\"data row12 col1\" >6713</td>\n",
              "            </tr>\n",
              "            <tr>\n",
              "                        <th id=\"T_b7b25cb6_257a_11eb_b261_0242ac1c0002level0_row13\" class=\"row_heading level0 row13\" >13</th>\n",
              "                        <td id=\"T_b7b25cb6_257a_11eb_b261_0242ac1c0002row13_col0\" class=\"data row13 col0\" >không</td>\n",
              "                        <td id=\"T_b7b25cb6_257a_11eb_b261_0242ac1c0002row13_col1\" class=\"data row13 col1\" >6712</td>\n",
              "            </tr>\n",
              "            <tr>\n",
              "                        <th id=\"T_b7b25cb6_257a_11eb_b261_0242ac1c0002level0_row14\" class=\"row_heading level0 row14\" >14</th>\n",
              "                        <td id=\"T_b7b25cb6_257a_11eb_b261_0242ac1c0002row14_col0\" class=\"data row14 col0\" >mv</td>\n",
              "                        <td id=\"T_b7b25cb6_257a_11eb_b261_0242ac1c0002row14_col1\" class=\"data row14 col1\" >6674</td>\n",
              "            </tr>\n",
              "            <tr>\n",
              "                        <th id=\"T_b7b25cb6_257a_11eb_b261_0242ac1c0002level0_row15\" class=\"row_heading level0 row15\" >15</th>\n",
              "                        <td id=\"T_b7b25cb6_257a_11eb_b261_0242ac1c0002row15_col0\" class=\"data row15 col0\" >ko</td>\n",
              "                        <td id=\"T_b7b25cb6_257a_11eb_b261_0242ac1c0002row15_col1\" class=\"data row15 col1\" >6652</td>\n",
              "            </tr>\n",
              "            <tr>\n",
              "                        <th id=\"T_b7b25cb6_257a_11eb_b261_0242ac1c0002level0_row16\" class=\"row_heading level0 row16\" >16</th>\n",
              "                        <td id=\"T_b7b25cb6_257a_11eb_b261_0242ac1c0002row16_col0\" class=\"data row16 col0\" >như</td>\n",
              "                        <td id=\"T_b7b25cb6_257a_11eb_b261_0242ac1c0002row16_col1\" class=\"data row16 col1\" >6499</td>\n",
              "            </tr>\n",
              "            <tr>\n",
              "                        <th id=\"T_b7b25cb6_257a_11eb_b261_0242ac1c0002level0_row17\" class=\"row_heading level0 row17\" >17</th>\n",
              "                        <td id=\"T_b7b25cb6_257a_11eb_b261_0242ac1c0002row17_col0\" class=\"data row17 col0\" >nhưng</td>\n",
              "                        <td id=\"T_b7b25cb6_257a_11eb_b261_0242ac1c0002row17_col1\" class=\"data row17 col1\" >6298</td>\n",
              "            </tr>\n",
              "            <tr>\n",
              "                        <th id=\"T_b7b25cb6_257a_11eb_b261_0242ac1c0002level0_row18\" class=\"row_heading level0 row18\" >18</th>\n",
              "                        <td id=\"T_b7b25cb6_257a_11eb_b261_0242ac1c0002row18_col0\" class=\"data row18 col0\" >pu</td>\n",
              "                        <td id=\"T_b7b25cb6_257a_11eb_b261_0242ac1c0002row18_col1\" class=\"data row18 col1\" >6270</td>\n",
              "            </tr>\n",
              "            <tr>\n",
              "                        <th id=\"T_b7b25cb6_257a_11eb_b261_0242ac1c0002level0_row19\" class=\"row_heading level0 row19\" >19</th>\n",
              "                        <td id=\"T_b7b25cb6_257a_11eb_b261_0242ac1c0002row19_col0\" class=\"data row19 col0\" >mình</td>\n",
              "                        <td id=\"T_b7b25cb6_257a_11eb_b261_0242ac1c0002row19_col1\" class=\"data row19 col1\" >6187</td>\n",
              "            </tr>\n",
              "    </tbody></table>"
            ],
            "text/plain": [
              "<pandas.io.formats.style.Styler at 0x7fe65ac1dc50>"
            ]
          },
          "metadata": {
            "tags": []
          },
          "execution_count": 9
        },
        {
          "output_type": "stream",
          "text": [
            "time: 381 ms\n"
          ],
          "name": "stdout"
        }
      ]
    },
    {
      "cell_type": "code",
      "metadata": {
        "id": "3_KExqimelKL",
        "colab": {
          "base_uri": "https://localhost:8080/",
          "height": 734
        },
        "outputId": "1518be5c-b2c3-48b5-a221-6acc12daaf6a"
      },
      "source": [
        "import pandas as pd\n",
        "import plotly\n",
        "import plotly_express as px\n",
        "\n",
        "#pd.options.plotting.backend = \"plotly\" \n",
        "\n",
        "fig = px.bar(temp, x=\"count\", y=\"Common_words\", title='Từ Thông Dụng của #Từ Hôm Nay', orientation='h', width=700, height=700,color='Common_words')\n",
        "fig.show()"
      ],
      "execution_count": null,
      "outputs": [
        {
          "output_type": "display_data",
          "data": {
            "text/html": [
              "<html>\n",
              "<head><meta charset=\"utf-8\" /></head>\n",
              "<body>\n",
              "    <div>            <script src=\"https://cdnjs.cloudflare.com/ajax/libs/mathjax/2.7.5/MathJax.js?config=TeX-AMS-MML_SVG\"></script><script type=\"text/javascript\">if (window.MathJax) {MathJax.Hub.Config({SVG: {font: \"STIX-Web\"}});}</script>                <script type=\"text/javascript\">window.PlotlyConfig = {MathJaxConfig: 'local'};</script>\n",
              "        <script src=\"https://cdn.plot.ly/plotly-latest.min.js\"></script>                <div id=\"f1ad97a9-652e-4aa2-b0f4-c240a0a793bb\" class=\"plotly-graph-div\" style=\"height:700px; width:700px;\"></div>            <script type=\"text/javascript\">                                    window.PLOTLYENV=window.PLOTLYENV || {};                                    if (document.getElementById(\"f1ad97a9-652e-4aa2-b0f4-c240a0a793bb\")) {                    Plotly.newPlot(                        \"f1ad97a9-652e-4aa2-b0f4-c240a0a793bb\",                        [{\"alignmentgroup\": \"True\", \"hovertemplate\": \"Common_words=%{y}<br>count=%{x}<extra></extra>\", \"legendgroup\": \"hay\", \"marker\": {\"color\": \"#636efa\"}, \"name\": \"hay\", \"offsetgroup\": \"hay\", \"orientation\": \"h\", \"showlegend\": true, \"textposition\": \"auto\", \"type\": \"bar\", \"x\": [17955], \"xaxis\": \"x\", \"y\": [\"hay\"], \"yaxis\": \"y\"}, {\"alignmentgroup\": \"True\", \"hovertemplate\": \"Common_words=%{y}<br>count=%{x}<extra></extra>\", \"legendgroup\": \"h\\u00e1t\", \"marker\": {\"color\": \"#EF553B\"}, \"name\": \"h\\u00e1t\", \"offsetgroup\": \"h\\u00e1t\", \"orientation\": \"h\", \"showlegend\": true, \"textposition\": \"auto\", \"type\": \"bar\", \"x\": [14453], \"xaxis\": \"x\", \"y\": [\"h\\u00e1t\"], \"yaxis\": \"y\"}, {\"alignmentgroup\": \"True\", \"hovertemplate\": \"Common_words=%{y}<br>count=%{x}<extra></extra>\", \"legendgroup\": \"chi\", \"marker\": {\"color\": \"#00cc96\"}, \"name\": \"chi\", \"offsetgroup\": \"chi\", \"orientation\": \"h\", \"showlegend\": true, \"textposition\": \"auto\", \"type\": \"bar\", \"x\": [11606], \"xaxis\": \"x\", \"y\": [\"chi\"], \"yaxis\": \"y\"}, {\"alignmentgroup\": \"True\", \"hovertemplate\": \"Common_words=%{y}<br>count=%{x}<extra></extra>\", \"legendgroup\": \"m\\u00e0\", \"marker\": {\"color\": \"#ab63fa\"}, \"name\": \"m\\u00e0\", \"offsetgroup\": \"m\\u00e0\", \"orientation\": \"h\", \"showlegend\": true, \"textposition\": \"auto\", \"type\": \"bar\", \"x\": [11429], \"xaxis\": \"x\", \"y\": [\"m\\u00e0\"], \"yaxis\": \"y\"}, {\"alignmentgroup\": \"True\", \"hovertemplate\": \"Common_words=%{y}<br>count=%{x}<extra></extra>\", \"legendgroup\": \"l\\u00e0\", \"marker\": {\"color\": \"#FFA15A\"}, \"name\": \"l\\u00e0\", \"offsetgroup\": \"l\\u00e0\", \"orientation\": \"h\", \"showlegend\": true, \"textposition\": \"auto\", \"type\": \"bar\", \"x\": [11166], \"xaxis\": \"x\", \"y\": [\"l\\u00e0\"], \"yaxis\": \"y\"}, {\"alignmentgroup\": \"True\", \"hovertemplate\": \"Common_words=%{y}<br>count=%{x}<extra></extra>\", \"legendgroup\": \"c\\u00f3\", \"marker\": {\"color\": \"#19d3f3\"}, \"name\": \"c\\u00f3\", \"offsetgroup\": \"c\\u00f3\", \"orientation\": \"h\", \"showlegend\": true, \"textposition\": \"auto\", \"type\": \"bar\", \"x\": [10658], \"xaxis\": \"x\", \"y\": [\"c\\u00f3\"], \"yaxis\": \"y\"}, {\"alignmentgroup\": \"True\", \"hovertemplate\": \"Common_words=%{y}<br>count=%{x}<extra></extra>\", \"legendgroup\": \"nghe\", \"marker\": {\"color\": \"#FF6692\"}, \"name\": \"nghe\", \"offsetgroup\": \"nghe\", \"orientation\": \"h\", \"showlegend\": true, \"textposition\": \"auto\", \"type\": \"bar\", \"x\": [10494], \"xaxis\": \"x\", \"y\": [\"nghe\"], \"yaxis\": \"y\"}, {\"alignmentgroup\": \"True\", \"hovertemplate\": \"Common_words=%{y}<br>count=%{x}<extra></extra>\", \"legendgroup\": \"ch\\u1ecb\", \"marker\": {\"color\": \"#B6E880\"}, \"name\": \"ch\\u1ecb\", \"offsetgroup\": \"ch\\u1ecb\", \"orientation\": \"h\", \"showlegend\": true, \"textposition\": \"auto\", \"type\": \"bar\", \"x\": [9278], \"xaxis\": \"x\", \"y\": [\"ch\\u1ecb\"], \"yaxis\": \"y\"}, {\"alignmentgroup\": \"True\", \"hovertemplate\": \"Common_words=%{y}<br>count=%{x}<extra></extra>\", \"legendgroup\": \"th\\u00ec\", \"marker\": {\"color\": \"#FF97FF\"}, \"name\": \"th\\u00ec\", \"offsetgroup\": \"th\\u00ec\", \"orientation\": \"h\", \"showlegend\": true, \"textposition\": \"auto\", \"type\": \"bar\", \"x\": [9063], \"xaxis\": \"x\", \"y\": [\"th\\u00ec\"], \"yaxis\": \"y\"}, {\"alignmentgroup\": \"True\", \"hovertemplate\": \"Common_words=%{y}<br>count=%{x}<extra></extra>\", \"legendgroup\": \"b\\u00e0i\", \"marker\": {\"color\": \"#FECB52\"}, \"name\": \"b\\u00e0i\", \"offsetgroup\": \"b\\u00e0i\", \"orientation\": \"h\", \"showlegend\": true, \"textposition\": \"auto\", \"type\": \"bar\", \"x\": [8028], \"xaxis\": \"x\", \"y\": [\"b\\u00e0i\"], \"yaxis\": \"y\"}, {\"alignmentgroup\": \"True\", \"hovertemplate\": \"Common_words=%{y}<br>count=%{x}<extra></extra>\", \"legendgroup\": \"c\\u0169ng\", \"marker\": {\"color\": \"#636efa\"}, \"name\": \"c\\u0169ng\", \"offsetgroup\": \"c\\u0169ng\", \"orientation\": \"h\", \"showlegend\": true, \"textposition\": \"auto\", \"type\": \"bar\", \"x\": [7941], \"xaxis\": \"x\", \"y\": [\"c\\u0169ng\"], \"yaxis\": \"y\"}, {\"alignmentgroup\": \"True\", \"hovertemplate\": \"Common_words=%{y}<br>count=%{x}<extra></extra>\", \"legendgroup\": \"th\\u1ea5y\", \"marker\": {\"color\": \"#EF553B\"}, \"name\": \"th\\u1ea5y\", \"offsetgroup\": \"th\\u1ea5y\", \"orientation\": \"h\", \"showlegend\": true, \"textposition\": \"auto\", \"type\": \"bar\", \"x\": [7725], \"xaxis\": \"x\", \"y\": [\"th\\u1ea5y\"], \"yaxis\": \"y\"}, {\"alignmentgroup\": \"True\", \"hovertemplate\": \"Common_words=%{y}<br>count=%{x}<extra></extra>\", \"legendgroup\": \"n\\u00e0y\", \"marker\": {\"color\": \"#00cc96\"}, \"name\": \"n\\u00e0y\", \"offsetgroup\": \"n\\u00e0y\", \"orientation\": \"h\", \"showlegend\": true, \"textposition\": \"auto\", \"type\": \"bar\", \"x\": [6713], \"xaxis\": \"x\", \"y\": [\"n\\u00e0y\"], \"yaxis\": \"y\"}, {\"alignmentgroup\": \"True\", \"hovertemplate\": \"Common_words=%{y}<br>count=%{x}<extra></extra>\", \"legendgroup\": \"kh\\u00f4ng\", \"marker\": {\"color\": \"#ab63fa\"}, \"name\": \"kh\\u00f4ng\", \"offsetgroup\": \"kh\\u00f4ng\", \"orientation\": \"h\", \"showlegend\": true, \"textposition\": \"auto\", \"type\": \"bar\", \"x\": [6712], \"xaxis\": \"x\", \"y\": [\"kh\\u00f4ng\"], \"yaxis\": \"y\"}, {\"alignmentgroup\": \"True\", \"hovertemplate\": \"Common_words=%{y}<br>count=%{x}<extra></extra>\", \"legendgroup\": \"mv\", \"marker\": {\"color\": \"#FFA15A\"}, \"name\": \"mv\", \"offsetgroup\": \"mv\", \"orientation\": \"h\", \"showlegend\": true, \"textposition\": \"auto\", \"type\": \"bar\", \"x\": [6674], \"xaxis\": \"x\", \"y\": [\"mv\"], \"yaxis\": \"y\"}, {\"alignmentgroup\": \"True\", \"hovertemplate\": \"Common_words=%{y}<br>count=%{x}<extra></extra>\", \"legendgroup\": \"ko\", \"marker\": {\"color\": \"#19d3f3\"}, \"name\": \"ko\", \"offsetgroup\": \"ko\", \"orientation\": \"h\", \"showlegend\": true, \"textposition\": \"auto\", \"type\": \"bar\", \"x\": [6652], \"xaxis\": \"x\", \"y\": [\"ko\"], \"yaxis\": \"y\"}, {\"alignmentgroup\": \"True\", \"hovertemplate\": \"Common_words=%{y}<br>count=%{x}<extra></extra>\", \"legendgroup\": \"nh\\u01b0\", \"marker\": {\"color\": \"#FF6692\"}, \"name\": \"nh\\u01b0\", \"offsetgroup\": \"nh\\u01b0\", \"orientation\": \"h\", \"showlegend\": true, \"textposition\": \"auto\", \"type\": \"bar\", \"x\": [6499], \"xaxis\": \"x\", \"y\": [\"nh\\u01b0\"], \"yaxis\": \"y\"}, {\"alignmentgroup\": \"True\", \"hovertemplate\": \"Common_words=%{y}<br>count=%{x}<extra></extra>\", \"legendgroup\": \"nh\\u01b0ng\", \"marker\": {\"color\": \"#B6E880\"}, \"name\": \"nh\\u01b0ng\", \"offsetgroup\": \"nh\\u01b0ng\", \"orientation\": \"h\", \"showlegend\": true, \"textposition\": \"auto\", \"type\": \"bar\", \"x\": [6298], \"xaxis\": \"x\", \"y\": [\"nh\\u01b0ng\"], \"yaxis\": \"y\"}, {\"alignmentgroup\": \"True\", \"hovertemplate\": \"Common_words=%{y}<br>count=%{x}<extra></extra>\", \"legendgroup\": \"pu\", \"marker\": {\"color\": \"#FF97FF\"}, \"name\": \"pu\", \"offsetgroup\": \"pu\", \"orientation\": \"h\", \"showlegend\": true, \"textposition\": \"auto\", \"type\": \"bar\", \"x\": [6270], \"xaxis\": \"x\", \"y\": [\"pu\"], \"yaxis\": \"y\"}, {\"alignmentgroup\": \"True\", \"hovertemplate\": \"Common_words=%{y}<br>count=%{x}<extra></extra>\", \"legendgroup\": \"m\\u00ecnh\", \"marker\": {\"color\": \"#FECB52\"}, \"name\": \"m\\u00ecnh\", \"offsetgroup\": \"m\\u00ecnh\", \"orientation\": \"h\", \"showlegend\": true, \"textposition\": \"auto\", \"type\": \"bar\", \"x\": [6187], \"xaxis\": \"x\", \"y\": [\"m\\u00ecnh\"], \"yaxis\": \"y\"}],                        {\"barmode\": \"relative\", \"height\": 700, \"legend\": {\"title\": {\"text\": \"Common_words\"}, \"tracegroupgap\": 0}, \"template\": {\"data\": {\"bar\": [{\"error_x\": {\"color\": \"#2a3f5f\"}, \"error_y\": {\"color\": \"#2a3f5f\"}, \"marker\": {\"line\": {\"color\": \"#E5ECF6\", \"width\": 0.5}}, \"type\": \"bar\"}], \"barpolar\": [{\"marker\": {\"line\": {\"color\": \"#E5ECF6\", \"width\": 0.5}}, \"type\": \"barpolar\"}], \"carpet\": [{\"aaxis\": {\"endlinecolor\": \"#2a3f5f\", \"gridcolor\": \"white\", \"linecolor\": \"white\", \"minorgridcolor\": \"white\", \"startlinecolor\": \"#2a3f5f\"}, \"baxis\": {\"endlinecolor\": \"#2a3f5f\", \"gridcolor\": \"white\", \"linecolor\": \"white\", \"minorgridcolor\": \"white\", \"startlinecolor\": \"#2a3f5f\"}, \"type\": \"carpet\"}], \"choropleth\": [{\"colorbar\": {\"outlinewidth\": 0, \"ticks\": \"\"}, \"type\": \"choropleth\"}], \"contour\": [{\"colorbar\": {\"outlinewidth\": 0, \"ticks\": \"\"}, \"colorscale\": [[0.0, \"#0d0887\"], [0.1111111111111111, \"#46039f\"], [0.2222222222222222, \"#7201a8\"], [0.3333333333333333, \"#9c179e\"], [0.4444444444444444, \"#bd3786\"], [0.5555555555555556, \"#d8576b\"], [0.6666666666666666, \"#ed7953\"], [0.7777777777777778, \"#fb9f3a\"], [0.8888888888888888, \"#fdca26\"], [1.0, \"#f0f921\"]], \"type\": \"contour\"}], \"contourcarpet\": [{\"colorbar\": {\"outlinewidth\": 0, \"ticks\": \"\"}, \"type\": \"contourcarpet\"}], \"heatmap\": [{\"colorbar\": {\"outlinewidth\": 0, \"ticks\": \"\"}, \"colorscale\": [[0.0, \"#0d0887\"], [0.1111111111111111, \"#46039f\"], [0.2222222222222222, \"#7201a8\"], [0.3333333333333333, \"#9c179e\"], [0.4444444444444444, \"#bd3786\"], [0.5555555555555556, \"#d8576b\"], [0.6666666666666666, \"#ed7953\"], [0.7777777777777778, \"#fb9f3a\"], [0.8888888888888888, \"#fdca26\"], [1.0, \"#f0f921\"]], \"type\": \"heatmap\"}], \"heatmapgl\": [{\"colorbar\": {\"outlinewidth\": 0, \"ticks\": \"\"}, \"colorscale\": [[0.0, \"#0d0887\"], [0.1111111111111111, \"#46039f\"], [0.2222222222222222, \"#7201a8\"], [0.3333333333333333, \"#9c179e\"], [0.4444444444444444, \"#bd3786\"], [0.5555555555555556, \"#d8576b\"], [0.6666666666666666, \"#ed7953\"], [0.7777777777777778, \"#fb9f3a\"], [0.8888888888888888, \"#fdca26\"], [1.0, \"#f0f921\"]], \"type\": \"heatmapgl\"}], \"histogram\": [{\"marker\": {\"colorbar\": {\"outlinewidth\": 0, \"ticks\": \"\"}}, \"type\": \"histogram\"}], \"histogram2d\": [{\"colorbar\": {\"outlinewidth\": 0, \"ticks\": \"\"}, \"colorscale\": [[0.0, \"#0d0887\"], [0.1111111111111111, \"#46039f\"], [0.2222222222222222, \"#7201a8\"], [0.3333333333333333, \"#9c179e\"], [0.4444444444444444, \"#bd3786\"], [0.5555555555555556, \"#d8576b\"], [0.6666666666666666, \"#ed7953\"], [0.7777777777777778, \"#fb9f3a\"], [0.8888888888888888, \"#fdca26\"], [1.0, \"#f0f921\"]], \"type\": \"histogram2d\"}], \"histogram2dcontour\": [{\"colorbar\": {\"outlinewidth\": 0, \"ticks\": \"\"}, \"colorscale\": [[0.0, \"#0d0887\"], [0.1111111111111111, \"#46039f\"], [0.2222222222222222, \"#7201a8\"], [0.3333333333333333, \"#9c179e\"], [0.4444444444444444, \"#bd3786\"], [0.5555555555555556, \"#d8576b\"], [0.6666666666666666, \"#ed7953\"], [0.7777777777777778, \"#fb9f3a\"], [0.8888888888888888, \"#fdca26\"], [1.0, \"#f0f921\"]], \"type\": \"histogram2dcontour\"}], \"mesh3d\": [{\"colorbar\": {\"outlinewidth\": 0, \"ticks\": \"\"}, \"type\": \"mesh3d\"}], \"parcoords\": [{\"line\": {\"colorbar\": {\"outlinewidth\": 0, \"ticks\": \"\"}}, \"type\": \"parcoords\"}], \"pie\": [{\"automargin\": true, \"type\": \"pie\"}], \"scatter\": [{\"marker\": {\"colorbar\": {\"outlinewidth\": 0, \"ticks\": \"\"}}, \"type\": \"scatter\"}], \"scatter3d\": [{\"line\": {\"colorbar\": {\"outlinewidth\": 0, \"ticks\": \"\"}}, \"marker\": {\"colorbar\": {\"outlinewidth\": 0, \"ticks\": \"\"}}, \"type\": \"scatter3d\"}], \"scattercarpet\": [{\"marker\": {\"colorbar\": {\"outlinewidth\": 0, \"ticks\": \"\"}}, \"type\": \"scattercarpet\"}], \"scattergeo\": [{\"marker\": {\"colorbar\": {\"outlinewidth\": 0, \"ticks\": \"\"}}, \"type\": \"scattergeo\"}], \"scattergl\": [{\"marker\": {\"colorbar\": {\"outlinewidth\": 0, \"ticks\": \"\"}}, \"type\": \"scattergl\"}], \"scattermapbox\": [{\"marker\": {\"colorbar\": {\"outlinewidth\": 0, \"ticks\": \"\"}}, \"type\": \"scattermapbox\"}], \"scatterpolar\": [{\"marker\": {\"colorbar\": {\"outlinewidth\": 0, \"ticks\": \"\"}}, \"type\": \"scatterpolar\"}], \"scatterpolargl\": [{\"marker\": {\"colorbar\": {\"outlinewidth\": 0, \"ticks\": \"\"}}, \"type\": \"scatterpolargl\"}], \"scatterternary\": [{\"marker\": {\"colorbar\": {\"outlinewidth\": 0, \"ticks\": \"\"}}, \"type\": \"scatterternary\"}], \"surface\": [{\"colorbar\": {\"outlinewidth\": 0, \"ticks\": \"\"}, \"colorscale\": [[0.0, \"#0d0887\"], [0.1111111111111111, \"#46039f\"], [0.2222222222222222, \"#7201a8\"], [0.3333333333333333, \"#9c179e\"], [0.4444444444444444, \"#bd3786\"], [0.5555555555555556, \"#d8576b\"], [0.6666666666666666, \"#ed7953\"], [0.7777777777777778, \"#fb9f3a\"], [0.8888888888888888, \"#fdca26\"], [1.0, \"#f0f921\"]], \"type\": \"surface\"}], \"table\": [{\"cells\": {\"fill\": {\"color\": \"#EBF0F8\"}, \"line\": {\"color\": \"white\"}}, \"header\": {\"fill\": {\"color\": \"#C8D4E3\"}, \"line\": {\"color\": \"white\"}}, \"type\": \"table\"}]}, \"layout\": {\"annotationdefaults\": {\"arrowcolor\": \"#2a3f5f\", \"arrowhead\": 0, \"arrowwidth\": 1}, \"coloraxis\": {\"colorbar\": {\"outlinewidth\": 0, \"ticks\": \"\"}}, \"colorscale\": {\"diverging\": [[0, \"#8e0152\"], [0.1, \"#c51b7d\"], [0.2, \"#de77ae\"], [0.3, \"#f1b6da\"], [0.4, \"#fde0ef\"], [0.5, \"#f7f7f7\"], [0.6, \"#e6f5d0\"], [0.7, \"#b8e186\"], [0.8, \"#7fbc41\"], [0.9, \"#4d9221\"], [1, \"#276419\"]], \"sequential\": [[0.0, \"#0d0887\"], [0.1111111111111111, \"#46039f\"], [0.2222222222222222, \"#7201a8\"], [0.3333333333333333, \"#9c179e\"], [0.4444444444444444, \"#bd3786\"], [0.5555555555555556, \"#d8576b\"], [0.6666666666666666, \"#ed7953\"], [0.7777777777777778, \"#fb9f3a\"], [0.8888888888888888, \"#fdca26\"], [1.0, \"#f0f921\"]], \"sequentialminus\": [[0.0, \"#0d0887\"], [0.1111111111111111, \"#46039f\"], [0.2222222222222222, \"#7201a8\"], [0.3333333333333333, \"#9c179e\"], [0.4444444444444444, \"#bd3786\"], [0.5555555555555556, \"#d8576b\"], [0.6666666666666666, \"#ed7953\"], [0.7777777777777778, \"#fb9f3a\"], [0.8888888888888888, \"#fdca26\"], [1.0, \"#f0f921\"]]}, \"colorway\": [\"#636efa\", \"#EF553B\", \"#00cc96\", \"#ab63fa\", \"#FFA15A\", \"#19d3f3\", \"#FF6692\", \"#B6E880\", \"#FF97FF\", \"#FECB52\"], \"font\": {\"color\": \"#2a3f5f\"}, \"geo\": {\"bgcolor\": \"white\", \"lakecolor\": \"white\", \"landcolor\": \"#E5ECF6\", \"showlakes\": true, \"showland\": true, \"subunitcolor\": \"white\"}, \"hoverlabel\": {\"align\": \"left\"}, \"hovermode\": \"closest\", \"mapbox\": {\"style\": \"light\"}, \"paper_bgcolor\": \"white\", \"plot_bgcolor\": \"#E5ECF6\", \"polar\": {\"angularaxis\": {\"gridcolor\": \"white\", \"linecolor\": \"white\", \"ticks\": \"\"}, \"bgcolor\": \"#E5ECF6\", \"radialaxis\": {\"gridcolor\": \"white\", \"linecolor\": \"white\", \"ticks\": \"\"}}, \"scene\": {\"xaxis\": {\"backgroundcolor\": \"#E5ECF6\", \"gridcolor\": \"white\", \"gridwidth\": 2, \"linecolor\": \"white\", \"showbackground\": true, \"ticks\": \"\", \"zerolinecolor\": \"white\"}, \"yaxis\": {\"backgroundcolor\": \"#E5ECF6\", \"gridcolor\": \"white\", \"gridwidth\": 2, \"linecolor\": \"white\", \"showbackground\": true, \"ticks\": \"\", \"zerolinecolor\": \"white\"}, \"zaxis\": {\"backgroundcolor\": \"#E5ECF6\", \"gridcolor\": \"white\", \"gridwidth\": 2, \"linecolor\": \"white\", \"showbackground\": true, \"ticks\": \"\", \"zerolinecolor\": \"white\"}}, \"shapedefaults\": {\"line\": {\"color\": \"#2a3f5f\"}}, \"ternary\": {\"aaxis\": {\"gridcolor\": \"white\", \"linecolor\": \"white\", \"ticks\": \"\"}, \"baxis\": {\"gridcolor\": \"white\", \"linecolor\": \"white\", \"ticks\": \"\"}, \"bgcolor\": \"#E5ECF6\", \"caxis\": {\"gridcolor\": \"white\", \"linecolor\": \"white\", \"ticks\": \"\"}}, \"title\": {\"x\": 0.05}, \"xaxis\": {\"automargin\": true, \"gridcolor\": \"white\", \"linecolor\": \"white\", \"ticks\": \"\", \"title\": {\"standoff\": 15}, \"zerolinecolor\": \"white\", \"zerolinewidth\": 2}, \"yaxis\": {\"automargin\": true, \"gridcolor\": \"white\", \"linecolor\": \"white\", \"ticks\": \"\", \"title\": {\"standoff\": 15}, \"zerolinecolor\": \"white\", \"zerolinewidth\": 2}}}, \"title\": {\"text\": \"T\\u1eeb Th\\u00f4ng D\\u1ee5ng c\\u1ee7a #T\\u1eeb H\\u00f4m Nay\"}, \"width\": 700, \"xaxis\": {\"anchor\": \"y\", \"domain\": [0.0, 1.0], \"title\": {\"text\": \"count\"}}, \"yaxis\": {\"anchor\": \"x\", \"categoryarray\": [\"m\\u00ecnh\", \"pu\", \"nh\\u01b0ng\", \"nh\\u01b0\", \"ko\", \"mv\", \"kh\\u00f4ng\", \"n\\u00e0y\", \"th\\u1ea5y\", \"c\\u0169ng\", \"b\\u00e0i\", \"th\\u00ec\", \"ch\\u1ecb\", \"nghe\", \"c\\u00f3\", \"l\\u00e0\", \"m\\u00e0\", \"chi\", \"h\\u00e1t\", \"hay\"], \"categoryorder\": \"array\", \"domain\": [0.0, 1.0], \"title\": {\"text\": \"Common_words\"}}},                        {\"responsive\": true}                    ).then(function(){\n",
              "                            \n",
              "var gd = document.getElementById('f1ad97a9-652e-4aa2-b0f4-c240a0a793bb');\n",
              "var x = new MutationObserver(function (mutations, observer) {{\n",
              "        var display = window.getComputedStyle(gd).display;\n",
              "        if (!display || display === 'none') {{\n",
              "            console.log([gd, 'removed!']);\n",
              "            Plotly.purge(gd);\n",
              "            observer.disconnect();\n",
              "        }}\n",
              "}});\n",
              "\n",
              "// Listen for the removal of the full notebook cells\n",
              "var notebookContainer = gd.closest('#notebook-container');\n",
              "if (notebookContainer) {{\n",
              "    x.observe(notebookContainer, {childList: true});\n",
              "}}\n",
              "\n",
              "// Listen for the clearing of the current output cell\n",
              "var outputEl = gd.closest('.output');\n",
              "if (outputEl) {{\n",
              "    x.observe(outputEl, {childList: true});\n",
              "}}\n",
              "\n",
              "                        })                };                            </script>        </div>\n",
              "</body>\n",
              "</html>"
            ]
          },
          "metadata": {
            "tags": []
          }
        },
        {
          "output_type": "stream",
          "text": [
            "time: 713 ms\n"
          ],
          "name": "stdout"
        }
      ]
    },
    {
      "cell_type": "code",
      "metadata": {
        "id": "23u_6DhCECIL",
        "colab": {
          "base_uri": "https://localhost:8080/",
          "height": 559
        },
        "outputId": "ab8fd5a2-7f25-4400-e984-c3dda8372a5c"
      },
      "source": [
        "fig = px.treemap(temp, path=['Common_words'], values='count',title='Phân Bổ của Từ Ngữ #Từ Hôm Nay')\n",
        "fig.show()"
      ],
      "execution_count": null,
      "outputs": [
        {
          "output_type": "display_data",
          "data": {
            "text/html": [
              "<html>\n",
              "<head><meta charset=\"utf-8\" /></head>\n",
              "<body>\n",
              "    <div>            <script src=\"https://cdnjs.cloudflare.com/ajax/libs/mathjax/2.7.5/MathJax.js?config=TeX-AMS-MML_SVG\"></script><script type=\"text/javascript\">if (window.MathJax) {MathJax.Hub.Config({SVG: {font: \"STIX-Web\"}});}</script>                <script type=\"text/javascript\">window.PlotlyConfig = {MathJaxConfig: 'local'};</script>\n",
              "        <script src=\"https://cdn.plot.ly/plotly-latest.min.js\"></script>                <div id=\"4b66ec02-ac40-4868-8dda-d482f0fb7805\" class=\"plotly-graph-div\" style=\"height:525px; width:100%;\"></div>            <script type=\"text/javascript\">                                    window.PLOTLYENV=window.PLOTLYENV || {};                                    if (document.getElementById(\"4b66ec02-ac40-4868-8dda-d482f0fb7805\")) {                    Plotly.newPlot(                        \"4b66ec02-ac40-4868-8dda-d482f0fb7805\",                        [{\"branchvalues\": \"total\", \"domain\": {\"x\": [0.0, 1.0], \"y\": [0.0, 1.0]}, \"hovertemplate\": \"labels=%{label}<br>count=%{value}<br>parent=%{parent}<br>id=%{id}<extra></extra>\", \"ids\": [\"b\\u00e0i\", \"chi\", \"ch\\u1ecb\", \"c\\u00f3\", \"c\\u0169ng\", \"hay\", \"h\\u00e1t\", \"kh\\u00f4ng\", \"ko\", \"l\\u00e0\", \"mv\", \"m\\u00e0\", \"m\\u00ecnh\", \"nghe\", \"nh\\u01b0\", \"nh\\u01b0ng\", \"n\\u00e0y\", \"pu\", \"th\\u00ec\", \"th\\u1ea5y\"], \"labels\": [\"b\\u00e0i\", \"chi\", \"ch\\u1ecb\", \"c\\u00f3\", \"c\\u0169ng\", \"hay\", \"h\\u00e1t\", \"kh\\u00f4ng\", \"ko\", \"l\\u00e0\", \"mv\", \"m\\u00e0\", \"m\\u00ecnh\", \"nghe\", \"nh\\u01b0\", \"nh\\u01b0ng\", \"n\\u00e0y\", \"pu\", \"th\\u00ec\", \"th\\u1ea5y\"], \"name\": \"\", \"parents\": [\"\", \"\", \"\", \"\", \"\", \"\", \"\", \"\", \"\", \"\", \"\", \"\", \"\", \"\", \"\", \"\", \"\", \"\", \"\", \"\"], \"type\": \"treemap\", \"values\": [8028, 11606, 9278, 10658, 7941, 17955, 14453, 6712, 6652, 11166, 6674, 11429, 6187, 10494, 6499, 6298, 6713, 6270, 9063, 7725]}],                        {\"legend\": {\"tracegroupgap\": 0}, \"template\": {\"data\": {\"bar\": [{\"error_x\": {\"color\": \"#2a3f5f\"}, \"error_y\": {\"color\": \"#2a3f5f\"}, \"marker\": {\"line\": {\"color\": \"#E5ECF6\", \"width\": 0.5}}, \"type\": \"bar\"}], \"barpolar\": [{\"marker\": {\"line\": {\"color\": \"#E5ECF6\", \"width\": 0.5}}, \"type\": \"barpolar\"}], \"carpet\": [{\"aaxis\": {\"endlinecolor\": \"#2a3f5f\", \"gridcolor\": \"white\", \"linecolor\": \"white\", \"minorgridcolor\": \"white\", \"startlinecolor\": \"#2a3f5f\"}, \"baxis\": {\"endlinecolor\": \"#2a3f5f\", \"gridcolor\": \"white\", \"linecolor\": \"white\", \"minorgridcolor\": \"white\", \"startlinecolor\": \"#2a3f5f\"}, \"type\": \"carpet\"}], \"choropleth\": [{\"colorbar\": {\"outlinewidth\": 0, \"ticks\": \"\"}, \"type\": \"choropleth\"}], \"contour\": [{\"colorbar\": {\"outlinewidth\": 0, \"ticks\": \"\"}, \"colorscale\": [[0.0, \"#0d0887\"], [0.1111111111111111, \"#46039f\"], [0.2222222222222222, \"#7201a8\"], [0.3333333333333333, \"#9c179e\"], [0.4444444444444444, \"#bd3786\"], [0.5555555555555556, \"#d8576b\"], [0.6666666666666666, \"#ed7953\"], [0.7777777777777778, \"#fb9f3a\"], [0.8888888888888888, \"#fdca26\"], [1.0, \"#f0f921\"]], \"type\": \"contour\"}], \"contourcarpet\": [{\"colorbar\": {\"outlinewidth\": 0, \"ticks\": \"\"}, \"type\": \"contourcarpet\"}], \"heatmap\": [{\"colorbar\": {\"outlinewidth\": 0, \"ticks\": \"\"}, \"colorscale\": [[0.0, \"#0d0887\"], [0.1111111111111111, \"#46039f\"], [0.2222222222222222, \"#7201a8\"], [0.3333333333333333, \"#9c179e\"], [0.4444444444444444, \"#bd3786\"], [0.5555555555555556, \"#d8576b\"], [0.6666666666666666, \"#ed7953\"], [0.7777777777777778, \"#fb9f3a\"], [0.8888888888888888, \"#fdca26\"], [1.0, \"#f0f921\"]], \"type\": \"heatmap\"}], \"heatmapgl\": [{\"colorbar\": {\"outlinewidth\": 0, \"ticks\": \"\"}, \"colorscale\": [[0.0, \"#0d0887\"], [0.1111111111111111, \"#46039f\"], [0.2222222222222222, \"#7201a8\"], [0.3333333333333333, \"#9c179e\"], [0.4444444444444444, \"#bd3786\"], [0.5555555555555556, \"#d8576b\"], [0.6666666666666666, \"#ed7953\"], [0.7777777777777778, \"#fb9f3a\"], [0.8888888888888888, \"#fdca26\"], [1.0, \"#f0f921\"]], \"type\": \"heatmapgl\"}], \"histogram\": [{\"marker\": {\"colorbar\": {\"outlinewidth\": 0, \"ticks\": \"\"}}, \"type\": \"histogram\"}], \"histogram2d\": [{\"colorbar\": {\"outlinewidth\": 0, \"ticks\": \"\"}, \"colorscale\": [[0.0, \"#0d0887\"], [0.1111111111111111, \"#46039f\"], [0.2222222222222222, \"#7201a8\"], [0.3333333333333333, \"#9c179e\"], [0.4444444444444444, \"#bd3786\"], [0.5555555555555556, \"#d8576b\"], [0.6666666666666666, \"#ed7953\"], [0.7777777777777778, \"#fb9f3a\"], [0.8888888888888888, \"#fdca26\"], [1.0, \"#f0f921\"]], \"type\": \"histogram2d\"}], \"histogram2dcontour\": [{\"colorbar\": {\"outlinewidth\": 0, \"ticks\": \"\"}, \"colorscale\": [[0.0, \"#0d0887\"], [0.1111111111111111, \"#46039f\"], [0.2222222222222222, \"#7201a8\"], [0.3333333333333333, \"#9c179e\"], [0.4444444444444444, \"#bd3786\"], [0.5555555555555556, \"#d8576b\"], [0.6666666666666666, \"#ed7953\"], [0.7777777777777778, \"#fb9f3a\"], [0.8888888888888888, \"#fdca26\"], [1.0, \"#f0f921\"]], \"type\": \"histogram2dcontour\"}], \"mesh3d\": [{\"colorbar\": {\"outlinewidth\": 0, \"ticks\": \"\"}, \"type\": \"mesh3d\"}], \"parcoords\": [{\"line\": {\"colorbar\": {\"outlinewidth\": 0, \"ticks\": \"\"}}, \"type\": \"parcoords\"}], \"pie\": [{\"automargin\": true, \"type\": \"pie\"}], \"scatter\": [{\"marker\": {\"colorbar\": {\"outlinewidth\": 0, \"ticks\": \"\"}}, \"type\": \"scatter\"}], \"scatter3d\": [{\"line\": {\"colorbar\": {\"outlinewidth\": 0, \"ticks\": \"\"}}, \"marker\": {\"colorbar\": {\"outlinewidth\": 0, \"ticks\": \"\"}}, \"type\": \"scatter3d\"}], \"scattercarpet\": [{\"marker\": {\"colorbar\": {\"outlinewidth\": 0, \"ticks\": \"\"}}, \"type\": \"scattercarpet\"}], \"scattergeo\": [{\"marker\": {\"colorbar\": {\"outlinewidth\": 0, \"ticks\": \"\"}}, \"type\": \"scattergeo\"}], \"scattergl\": [{\"marker\": {\"colorbar\": {\"outlinewidth\": 0, \"ticks\": \"\"}}, \"type\": \"scattergl\"}], \"scattermapbox\": [{\"marker\": {\"colorbar\": {\"outlinewidth\": 0, \"ticks\": \"\"}}, \"type\": \"scattermapbox\"}], \"scatterpolar\": [{\"marker\": {\"colorbar\": {\"outlinewidth\": 0, \"ticks\": \"\"}}, \"type\": \"scatterpolar\"}], \"scatterpolargl\": [{\"marker\": {\"colorbar\": {\"outlinewidth\": 0, \"ticks\": \"\"}}, \"type\": \"scatterpolargl\"}], \"scatterternary\": [{\"marker\": {\"colorbar\": {\"outlinewidth\": 0, \"ticks\": \"\"}}, \"type\": \"scatterternary\"}], \"surface\": [{\"colorbar\": {\"outlinewidth\": 0, \"ticks\": \"\"}, \"colorscale\": [[0.0, \"#0d0887\"], [0.1111111111111111, \"#46039f\"], [0.2222222222222222, \"#7201a8\"], [0.3333333333333333, \"#9c179e\"], [0.4444444444444444, \"#bd3786\"], [0.5555555555555556, \"#d8576b\"], [0.6666666666666666, \"#ed7953\"], [0.7777777777777778, \"#fb9f3a\"], [0.8888888888888888, \"#fdca26\"], [1.0, \"#f0f921\"]], \"type\": \"surface\"}], \"table\": [{\"cells\": {\"fill\": {\"color\": \"#EBF0F8\"}, \"line\": {\"color\": \"white\"}}, \"header\": {\"fill\": {\"color\": \"#C8D4E3\"}, \"line\": {\"color\": \"white\"}}, \"type\": \"table\"}]}, \"layout\": {\"annotationdefaults\": {\"arrowcolor\": \"#2a3f5f\", \"arrowhead\": 0, \"arrowwidth\": 1}, \"coloraxis\": {\"colorbar\": {\"outlinewidth\": 0, \"ticks\": \"\"}}, \"colorscale\": {\"diverging\": [[0, \"#8e0152\"], [0.1, \"#c51b7d\"], [0.2, \"#de77ae\"], [0.3, \"#f1b6da\"], [0.4, \"#fde0ef\"], [0.5, \"#f7f7f7\"], [0.6, \"#e6f5d0\"], [0.7, \"#b8e186\"], [0.8, \"#7fbc41\"], [0.9, \"#4d9221\"], [1, \"#276419\"]], \"sequential\": [[0.0, \"#0d0887\"], [0.1111111111111111, \"#46039f\"], [0.2222222222222222, \"#7201a8\"], [0.3333333333333333, \"#9c179e\"], [0.4444444444444444, \"#bd3786\"], [0.5555555555555556, \"#d8576b\"], [0.6666666666666666, \"#ed7953\"], [0.7777777777777778, \"#fb9f3a\"], [0.8888888888888888, \"#fdca26\"], [1.0, \"#f0f921\"]], \"sequentialminus\": [[0.0, \"#0d0887\"], [0.1111111111111111, \"#46039f\"], [0.2222222222222222, \"#7201a8\"], [0.3333333333333333, \"#9c179e\"], [0.4444444444444444, \"#bd3786\"], [0.5555555555555556, \"#d8576b\"], [0.6666666666666666, \"#ed7953\"], [0.7777777777777778, \"#fb9f3a\"], [0.8888888888888888, \"#fdca26\"], [1.0, \"#f0f921\"]]}, \"colorway\": [\"#636efa\", \"#EF553B\", \"#00cc96\", \"#ab63fa\", \"#FFA15A\", \"#19d3f3\", \"#FF6692\", \"#B6E880\", \"#FF97FF\", \"#FECB52\"], \"font\": {\"color\": \"#2a3f5f\"}, \"geo\": {\"bgcolor\": \"white\", \"lakecolor\": \"white\", \"landcolor\": \"#E5ECF6\", \"showlakes\": true, \"showland\": true, \"subunitcolor\": \"white\"}, \"hoverlabel\": {\"align\": \"left\"}, \"hovermode\": \"closest\", \"mapbox\": {\"style\": \"light\"}, \"paper_bgcolor\": \"white\", \"plot_bgcolor\": \"#E5ECF6\", \"polar\": {\"angularaxis\": {\"gridcolor\": \"white\", \"linecolor\": \"white\", \"ticks\": \"\"}, \"bgcolor\": \"#E5ECF6\", \"radialaxis\": {\"gridcolor\": \"white\", \"linecolor\": \"white\", \"ticks\": \"\"}}, \"scene\": {\"xaxis\": {\"backgroundcolor\": \"#E5ECF6\", \"gridcolor\": \"white\", \"gridwidth\": 2, \"linecolor\": \"white\", \"showbackground\": true, \"ticks\": \"\", \"zerolinecolor\": \"white\"}, \"yaxis\": {\"backgroundcolor\": \"#E5ECF6\", \"gridcolor\": \"white\", \"gridwidth\": 2, \"linecolor\": \"white\", \"showbackground\": true, \"ticks\": \"\", \"zerolinecolor\": \"white\"}, \"zaxis\": {\"backgroundcolor\": \"#E5ECF6\", \"gridcolor\": \"white\", \"gridwidth\": 2, \"linecolor\": \"white\", \"showbackground\": true, \"ticks\": \"\", \"zerolinecolor\": \"white\"}}, \"shapedefaults\": {\"line\": {\"color\": \"#2a3f5f\"}}, \"ternary\": {\"aaxis\": {\"gridcolor\": \"white\", \"linecolor\": \"white\", \"ticks\": \"\"}, \"baxis\": {\"gridcolor\": \"white\", \"linecolor\": \"white\", \"ticks\": \"\"}, \"bgcolor\": \"#E5ECF6\", \"caxis\": {\"gridcolor\": \"white\", \"linecolor\": \"white\", \"ticks\": \"\"}}, \"title\": {\"x\": 0.05}, \"xaxis\": {\"automargin\": true, \"gridcolor\": \"white\", \"linecolor\": \"white\", \"ticks\": \"\", \"title\": {\"standoff\": 15}, \"zerolinecolor\": \"white\", \"zerolinewidth\": 2}, \"yaxis\": {\"automargin\": true, \"gridcolor\": \"white\", \"linecolor\": \"white\", \"ticks\": \"\", \"title\": {\"standoff\": 15}, \"zerolinecolor\": \"white\", \"zerolinewidth\": 2}}}, \"title\": {\"text\": \"Ph\\u00e2n B\\u1ed5 c\\u1ee7a T\\u1eeb Ng\\u1eef #T\\u1eeb H\\u00f4m Nay\"}},                        {\"responsive\": true}                    ).then(function(){\n",
              "                            \n",
              "var gd = document.getElementById('4b66ec02-ac40-4868-8dda-d482f0fb7805');\n",
              "var x = new MutationObserver(function (mutations, observer) {{\n",
              "        var display = window.getComputedStyle(gd).display;\n",
              "        if (!display || display === 'none') {{\n",
              "            console.log([gd, 'removed!']);\n",
              "            Plotly.purge(gd);\n",
              "            observer.disconnect();\n",
              "        }}\n",
              "}});\n",
              "\n",
              "// Listen for the removal of the full notebook cells\n",
              "var notebookContainer = gd.closest('#notebook-container');\n",
              "if (notebookContainer) {{\n",
              "    x.observe(notebookContainer, {childList: true});\n",
              "}}\n",
              "\n",
              "// Listen for the clearing of the current output cell\n",
              "var outputEl = gd.closest('.output');\n",
              "if (outputEl) {{\n",
              "    x.observe(outputEl, {childList: true});\n",
              "}}\n",
              "\n",
              "                        })                };                            </script>        </div>\n",
              "</body>\n",
              "</html>"
            ]
          },
          "metadata": {
            "tags": []
          }
        },
        {
          "output_type": "stream",
          "text": [
            "time: 73.5 ms\n"
          ],
          "name": "stdout"
        }
      ]
    },
    {
      "cell_type": "code",
      "metadata": {
        "id": "2dGGkciZx2HO",
        "colab": {
          "base_uri": "https://localhost:8080/",
          "height": 608
        },
        "outputId": "8b9663ae-be16-4fc7-eed9-4942e12199d1"
      },
      "source": [
        "from palettable.colorbrewer.qualitative import Pastel1_7\n",
        "import matplotlib.pyplot as plt\n",
        "\n",
        "plt.figure(figsize=(16,10))\n",
        "my_circle=plt.Circle((0,0), 0.7, color='white')\n",
        "plt.pie(temp['count'], labels=temp.Common_words, colors=Pastel1_7.hex_colors)\n",
        "p=plt.gcf()\n",
        "p.gca().add_artist(my_circle)\n",
        "plt.title('DoNut Plot Of # TỪ HÔM NAY')\n",
        "plt.show()"
      ],
      "execution_count": null,
      "outputs": [
        {
          "output_type": "display_data",
          "data": {
            "image/png": "[encoded data removed]",
            "text/plain": [
              "<Figure size 1152x720 with 1 Axes>"
            ]
          },
          "metadata": {
            "tags": []
          }
        },
        {
          "output_type": "stream",
          "text": [
            "time: 142 ms\n"
          ],
          "name": "stdout"
        }
      ]
    },
    {
      "cell_type": "code",
      "metadata": {
        "id": "WLMzYgKrVP5z",
        "colab": {
          "base_uri": "https://localhost:8080/"
        },
        "outputId": "d66f4855-5414-4398-ca75-6e007555cf90"
      },
      "source": [
        "def plot_wordcloud(text, mask=None, max_words=200, max_font_size=100, figure_size=(13.0,8.0), color = 'white',\n",
        "                   title = None, title_size=40, image_color=False):\n",
        "    stopwords = set(STOPWORDS)\n",
        "    more_stopwords = {'u', \"im\"}\n",
        "    stopwords = stopwords.union(more_stopwords)\n",
        "\n",
        "    wordcloud = WordCloud(background_color=color,\n",
        "                    stopwords = stopwords,\n",
        "                    max_words = max_words,\n",
        "                    max_font_size = max_font_size, \n",
        "                    random_state = 42,\n",
        "                    width=100, \n",
        "                    height=60,\n",
        "                    mask = mask)\n",
        "    wordcloud.generate(str(text))\n",
        "    \n",
        "    plt.figure(figsize=figure_size)\n",
        "    if image_color:\n",
        "        image_colors = ImageColorGenerator(mask);\n",
        "        plt.imshow(wordcloud.recolor(color_func=image_colors), interpolation=\"bilinear\");\n",
        "        plt.title(title, fontdict={'size': title_size,  \n",
        "                                  'verticalalignment': 'bottom'})\n",
        "    else:\n",
        "        plt.imshow(wordcloud);\n",
        "        plt.title(title, fontdict={'size': title_size, 'color': 'black', \n",
        "                                  'verticalalignment': 'bottom'})\n",
        "    plt.axis('off');\n",
        "    plt.tight_layout()  "
      ],
      "execution_count": null,
      "outputs": [
        {
          "output_type": "stream",
          "text": [
            "time: 10.7 ms\n"
          ],
          "name": "stdout"
        }
      ]
    },
    {
      "cell_type": "code",
      "metadata": {
        "id": "Rd4FaNfT4k8G",
        "colab": {
          "base_uri": "https://localhost:8080/",
          "height": 602
        },
        "outputId": "7da63f85-23db-4d10-bdbb-ea2e1bcbdc43"
      },
      "source": [
        "\n",
        "\n",
        "\n",
        "d = '/kaggle/input/masks-for-wordclouds/'\n",
        "#Neutral_sent = tuhomnay[tuhomnay['clean_comment']!= 0]\n",
        "Neutral_sent = tuhomnay[tuhomnay['Like Count']!= 0]\n",
        "#pos_mask = np.array(Image.open(d+ 'twitter_mask.png'))\n",
        "pos_mask = np.array(Image.open('/content/drive/My Drive/10 Kaggle Projects/AAAFinal Project/Vi dụ demo/comment.png'))\n",
        "plot_wordcloud(Neutral_sent.clean_comment,mask=pos_mask,color='white',max_font_size=150,title_size=20,title=\"WordCloud of #TừHômNay\")"
      ],
      "execution_count": null,
      "outputs": [
        {
          "output_type": "display_data",
          "data": {
            "image/png": "[encoded data removed]",
            "text/plain": [
              "<Figure size 936x576 with 1 Axes>"
            ]
          },
          "metadata": {
            "tags": [],
            "needs_background": "light"
          }
        },
        {
          "output_type": "stream",
          "text": [
            "time: 3.1 s\n"
          ],
          "name": "stdout"
        }
      ]
    },
    {
      "cell_type": "markdown",
      "metadata": {
        "id": "DP15vxP9__Lh"
      },
      "source": [
        "### Lạc Rang"
      ]
    },
    {
      "cell_type": "code",
      "metadata": {
        "id": "TGd6MmeP_WdB",
        "colab": {
          "base_uri": "https://localhost:8080/",
          "height": 477
        },
        "outputId": "9958cba5-b321-4bd4-840a-d85152d632e2"
      },
      "source": [
        "import collections\n",
        "from collections import Counter\n",
        "\n",
        "lactroi['temp_list'] = lactroi['clear_all'].apply(lambda x:str(x).split())\n",
        "top = Counter([item for sublist in lactroi['temp_list'] for item in sublist])\n",
        "temp = pd.DataFrame(top.most_common(20))\n",
        "temp.columns = ['Common_words','count']\n",
        "temp.style.background_gradient(cmap='afmhot_r')\n"
      ],
      "execution_count": null,
      "outputs": [
        {
          "output_type": "execute_result",
          "data": {
            "text/html": [
              "<style  type=\"text/css\" >\n",
              "#T_204b63f8_257b_11eb_b261_0242ac1c0002row0_col1{\n",
              "            background-color:  #000000;\n",
              "            color:  #f1f1f1;\n",
              "        }#T_204b63f8_257b_11eb_b261_0242ac1c0002row1_col1{\n",
              "            background-color:  #2a0000;\n",
              "            color:  #f1f1f1;\n",
              "        }#T_204b63f8_257b_11eb_b261_0242ac1c0002row2_col1{\n",
              "            background-color:  #9c1d00;\n",
              "            color:  #f1f1f1;\n",
              "        }#T_204b63f8_257b_11eb_b261_0242ac1c0002row3_col1{\n",
              "            background-color:  #ffe263;\n",
              "            color:  #000000;\n",
              "        }#T_204b63f8_257b_11eb_b261_0242ac1c0002row4_col1{\n",
              "            background-color:  #fff273;\n",
              "            color:  #000000;\n",
              "        }#T_204b63f8_257b_11eb_b261_0242ac1c0002row5_col1{\n",
              "            background-color:  #ffff8d;\n",
              "            color:  #000000;\n",
              "        }#T_204b63f8_257b_11eb_b261_0242ac1c0002row6_col1{\n",
              "            background-color:  #ffff93;\n",
              "            color:  #000000;\n",
              "        }#T_204b63f8_257b_11eb_b261_0242ac1c0002row7_col1{\n",
              "            background-color:  #ffff95;\n",
              "            color:  #000000;\n",
              "        }#T_204b63f8_257b_11eb_b261_0242ac1c0002row8_col1{\n",
              "            background-color:  #ffff9f;\n",
              "            color:  #000000;\n",
              "        }#T_204b63f8_257b_11eb_b261_0242ac1c0002row9_col1{\n",
              "            background-color:  #ffffc9;\n",
              "            color:  #000000;\n",
              "        }#T_204b63f8_257b_11eb_b261_0242ac1c0002row10_col1{\n",
              "            background-color:  #ffffcf;\n",
              "            color:  #000000;\n",
              "        }#T_204b63f8_257b_11eb_b261_0242ac1c0002row11_col1{\n",
              "            background-color:  #ffffd3;\n",
              "            color:  #000000;\n",
              "        }#T_204b63f8_257b_11eb_b261_0242ac1c0002row12_col1{\n",
              "            background-color:  #ffffd5;\n",
              "            color:  #000000;\n",
              "        }#T_204b63f8_257b_11eb_b261_0242ac1c0002row13_col1,#T_204b63f8_257b_11eb_b261_0242ac1c0002row14_col1{\n",
              "            background-color:  #ffffd7;\n",
              "            color:  #000000;\n",
              "        }#T_204b63f8_257b_11eb_b261_0242ac1c0002row15_col1{\n",
              "            background-color:  #ffffdd;\n",
              "            color:  #000000;\n",
              "        }#T_204b63f8_257b_11eb_b261_0242ac1c0002row16_col1,#T_204b63f8_257b_11eb_b261_0242ac1c0002row17_col1{\n",
              "            background-color:  #ffffe5;\n",
              "            color:  #000000;\n",
              "        }#T_204b63f8_257b_11eb_b261_0242ac1c0002row18_col1{\n",
              "            background-color:  #fffff9;\n",
              "            color:  #000000;\n",
              "        }#T_204b63f8_257b_11eb_b261_0242ac1c0002row19_col1{\n",
              "            background-color:  #ffffff;\n",
              "            color:  #000000;\n",
              "        }</style><table id=\"T_204b63f8_257b_11eb_b261_0242ac1c0002\" ><thead>    <tr>        <th class=\"blank level0\" ></th>        <th class=\"col_heading level0 col0\" >Common_words</th>        <th class=\"col_heading level0 col1\" >count</th>    </tr></thead><tbody>\n",
              "                <tr>\n",
              "                        <th id=\"T_204b63f8_257b_11eb_b261_0242ac1c0002level0_row0\" class=\"row_heading level0 row0\" >0</th>\n",
              "                        <td id=\"T_204b63f8_257b_11eb_b261_0242ac1c0002row0_col0\" class=\"data row0 col0\" >ai</td>\n",
              "                        <td id=\"T_204b63f8_257b_11eb_b261_0242ac1c0002row0_col1\" class=\"data row0 col1\" >6271</td>\n",
              "            </tr>\n",
              "            <tr>\n",
              "                        <th id=\"T_204b63f8_257b_11eb_b261_0242ac1c0002level0_row1\" class=\"row_heading level0 row1\" >1</th>\n",
              "                        <td id=\"T_204b63f8_257b_11eb_b261_0242ac1c0002row1_col0\" class=\"data row1 col0\" >nghe</td>\n",
              "                        <td id=\"T_204b63f8_257b_11eb_b261_0242ac1c0002row1_col1\" class=\"data row1 col1\" >5881</td>\n",
              "            </tr>\n",
              "            <tr>\n",
              "                        <th id=\"T_204b63f8_257b_11eb_b261_0242ac1c0002level0_row2\" class=\"row_heading level0 row2\" >2</th>\n",
              "                        <td id=\"T_204b63f8_257b_11eb_b261_0242ac1c0002row2_col0\" class=\"data row2 col0\" >còn</td>\n",
              "                        <td id=\"T_204b63f8_257b_11eb_b261_0242ac1c0002row2_col1\" class=\"data row2 col1\" >4861</td>\n",
              "            </tr>\n",
              "            <tr>\n",
              "                        <th id=\"T_204b63f8_257b_11eb_b261_0242ac1c0002level0_row3\" class=\"row_heading level0 row3\" >3</th>\n",
              "                        <td id=\"T_204b63f8_257b_11eb_b261_0242ac1c0002row3_col0\" class=\"data row3 col0\" >xem</td>\n",
              "                        <td id=\"T_204b63f8_257b_11eb_b261_0242ac1c0002row3_col1\" class=\"data row3 col1\" >3092</td>\n",
              "            </tr>\n",
              "            <tr>\n",
              "                        <th id=\"T_204b63f8_257b_11eb_b261_0242ac1c0002level0_row4\" class=\"row_heading level0 row4\" >4</th>\n",
              "                        <td id=\"T_204b63f8_257b_11eb_b261_0242ac1c0002row4_col0\" class=\"data row4 col0\" >lạc</td>\n",
              "                        <td id=\"T_204b63f8_257b_11eb_b261_0242ac1c0002row4_col1\" class=\"data row4 col1\" >2956</td>\n",
              "            </tr>\n",
              "            <tr>\n",
              "                        <th id=\"T_204b63f8_257b_11eb_b261_0242ac1c0002level0_row5\" class=\"row_heading level0 row5\" >5</th>\n",
              "                        <td id=\"T_204b63f8_257b_11eb_b261_0242ac1c0002row5_col0\" class=\"data row5 col0\" >có</td>\n",
              "                        <td id=\"T_204b63f8_257b_11eb_b261_0242ac1c0002row5_col1\" class=\"data row5 col1\" >2719</td>\n",
              "            </tr>\n",
              "            <tr>\n",
              "                        <th id=\"T_204b63f8_257b_11eb_b261_0242ac1c0002level0_row6\" class=\"row_heading level0 row6\" >6</th>\n",
              "                        <td id=\"T_204b63f8_257b_11eb_b261_0242ac1c0002row6_col0\" class=\"data row6 col0\" >trôi</td>\n",
              "                        <td id=\"T_204b63f8_257b_11eb_b261_0242ac1c0002row6_col1\" class=\"data row6 col1\" >2655</td>\n",
              "            </tr>\n",
              "            <tr>\n",
              "                        <th id=\"T_204b63f8_257b_11eb_b261_0242ac1c0002level0_row7\" class=\"row_heading level0 row7\" >7</th>\n",
              "                        <td id=\"T_204b63f8_257b_11eb_b261_0242ac1c0002row7_col0\" class=\"data row7 col0\" >hay</td>\n",
              "                        <td id=\"T_204b63f8_257b_11eb_b261_0242ac1c0002row7_col1\" class=\"data row7 col1\" >2643</td>\n",
              "            </tr>\n",
              "            <tr>\n",
              "                        <th id=\"T_204b63f8_257b_11eb_b261_0242ac1c0002level0_row8\" class=\"row_heading level0 row8\" >8</th>\n",
              "                        <td id=\"T_204b63f8_257b_11eb_b261_0242ac1c0002row8_col0\" class=\"data row8 col0\" >vẫn</td>\n",
              "                        <td id=\"T_204b63f8_257b_11eb_b261_0242ac1c0002row8_col1\" class=\"data row8 col1\" >2548</td>\n",
              "            </tr>\n",
              "            <tr>\n",
              "                        <th id=\"T_204b63f8_257b_11eb_b261_0242ac1c0002level0_row9\" class=\"row_heading level0 row9\" >9</th>\n",
              "                        <td id=\"T_204b63f8_257b_11eb_b261_0242ac1c0002row9_col0\" class=\"data row9 col0\" >tùng</td>\n",
              "                        <td id=\"T_204b63f8_257b_11eb_b261_0242ac1c0002row9_col1\" class=\"data row9 col1\" >2184</td>\n",
              "            </tr>\n",
              "            <tr>\n",
              "                        <th id=\"T_204b63f8_257b_11eb_b261_0242ac1c0002level0_row10\" class=\"row_heading level0 row10\" >10</th>\n",
              "                        <td id=\"T_204b63f8_257b_11eb_b261_0242ac1c0002row10_col0\" class=\"data row10 col0\" >bài</td>\n",
              "                        <td id=\"T_204b63f8_257b_11eb_b261_0242ac1c0002row10_col1\" class=\"data row10 col1\" >2133</td>\n",
              "            </tr>\n",
              "            <tr>\n",
              "                        <th id=\"T_204b63f8_257b_11eb_b261_0242ac1c0002level0_row11\" class=\"row_heading level0 row11\" >11</th>\n",
              "                        <td id=\"T_204b63f8_257b_11eb_b261_0242ac1c0002row11_col0\" class=\"data row11 col0\" >ko</td>\n",
              "                        <td id=\"T_204b63f8_257b_11eb_b261_0242ac1c0002row11_col1\" class=\"data row11 col1\" >2084</td>\n",
              "            </tr>\n",
              "            <tr>\n",
              "                        <th id=\"T_204b63f8_257b_11eb_b261_0242ac1c0002level0_row12\" class=\"row_heading level0 row12\" >12</th>\n",
              "                        <td id=\"T_204b63f8_257b_11eb_b261_0242ac1c0002row12_col0\" class=\"data row12 col0\" >là</td>\n",
              "                        <td id=\"T_204b63f8_257b_11eb_b261_0242ac1c0002row12_col1\" class=\"data row12 col1\" >2076</td>\n",
              "            </tr>\n",
              "            <tr>\n",
              "                        <th id=\"T_204b63f8_257b_11eb_b261_0242ac1c0002level0_row13\" class=\"row_heading level0 row13\" >13</th>\n",
              "                        <td id=\"T_204b63f8_257b_11eb_b261_0242ac1c0002row13_col0\" class=\"data row13 col0\" >này</td>\n",
              "                        <td id=\"T_204b63f8_257b_11eb_b261_0242ac1c0002row13_col1\" class=\"data row13 col1\" >2061</td>\n",
              "            </tr>\n",
              "            <tr>\n",
              "                        <th id=\"T_204b63f8_257b_11eb_b261_0242ac1c0002level0_row14\" class=\"row_heading level0 row14\" >14</th>\n",
              "                        <td id=\"T_204b63f8_257b_11eb_b261_0242ac1c0002row14_col0\" class=\"data row14 col0\" >rồi</td>\n",
              "                        <td id=\"T_204b63f8_257b_11eb_b261_0242ac1c0002row14_col1\" class=\"data row14 col1\" >2052</td>\n",
              "            </tr>\n",
              "            <tr>\n",
              "                        <th id=\"T_204b63f8_257b_11eb_b261_0242ac1c0002level0_row15\" class=\"row_heading level0 row15\" >15</th>\n",
              "                        <td id=\"T_204b63f8_257b_11eb_b261_0242ac1c0002row15_col0\" class=\"data row15 col0\" >sky</td>\n",
              "                        <td id=\"T_204b63f8_257b_11eb_b261_0242ac1c0002row15_col1\" class=\"data row15 col1\" >2007</td>\n",
              "            </tr>\n",
              "            <tr>\n",
              "                        <th id=\"T_204b63f8_257b_11eb_b261_0242ac1c0002level0_row16\" class=\"row_heading level0 row16\" >16</th>\n",
              "                        <td id=\"T_204b63f8_257b_11eb_b261_0242ac1c0002row16_col0\" class=\"data row16 col0\" >đây</td>\n",
              "                        <td id=\"T_204b63f8_257b_11eb_b261_0242ac1c0002row16_col1\" class=\"data row16 col1\" >1936</td>\n",
              "            </tr>\n",
              "            <tr>\n",
              "                        <th id=\"T_204b63f8_257b_11eb_b261_0242ac1c0002level0_row17\" class=\"row_heading level0 row17\" >17</th>\n",
              "                        <td id=\"T_204b63f8_257b_11eb_b261_0242ac1c0002row17_col0\" class=\"data row17 col0\" >lại</td>\n",
              "                        <td id=\"T_204b63f8_257b_11eb_b261_0242ac1c0002row17_col1\" class=\"data row17 col1\" >1920</td>\n",
              "            </tr>\n",
              "            <tr>\n",
              "                        <th id=\"T_204b63f8_257b_11eb_b261_0242ac1c0002level0_row18\" class=\"row_heading level0 row18\" >18</th>\n",
              "                        <td id=\"T_204b63f8_257b_11eb_b261_0242ac1c0002row18_col0\" class=\"data row18 col0\" >lên</td>\n",
              "                        <td id=\"T_204b63f8_257b_11eb_b261_0242ac1c0002row18_col1\" class=\"data row18 col1\" >1748</td>\n",
              "            </tr>\n",
              "            <tr>\n",
              "                        <th id=\"T_204b63f8_257b_11eb_b261_0242ac1c0002level0_row19\" class=\"row_heading level0 row19\" >19</th>\n",
              "                        <td id=\"T_204b63f8_257b_11eb_b261_0242ac1c0002row19_col0\" class=\"data row19 col0\" >quá</td>\n",
              "                        <td id=\"T_204b63f8_257b_11eb_b261_0242ac1c0002row19_col1\" class=\"data row19 col1\" >1687</td>\n",
              "            </tr>\n",
              "    </tbody></table>"
            ],
            "text/plain": [
              "<pandas.io.formats.style.Styler at 0x7fe659b6f978>"
            ]
          },
          "metadata": {
            "tags": []
          },
          "execution_count": 20
        },
        {
          "output_type": "stream",
          "text": [
            "time: 108 ms\n"
          ],
          "name": "stdout"
        }
      ]
    },
    {
      "cell_type": "code",
      "metadata": {
        "id": "plVhzUAKAHpA",
        "colab": {
          "base_uri": "https://localhost:8080/",
          "height": 559
        },
        "outputId": "8cc87b88-5fd0-4d91-9749-4640fcf3d505"
      },
      "source": [
        "fig = px.treemap(temp, path=['Common_words'], values='count',title='Phân Bổ của Từ Ngữ #LạcTrôi')\n",
        "fig.show()"
      ],
      "execution_count": null,
      "outputs": [
        {
          "output_type": "display_data",
          "data": {
            "text/html": [
              "<html>\n",
              "<head><meta charset=\"utf-8\" /></head>\n",
              "<body>\n",
              "    <div>            <script src=\"https://cdnjs.cloudflare.com/ajax/libs/mathjax/2.7.5/MathJax.js?config=TeX-AMS-MML_SVG\"></script><script type=\"text/javascript\">if (window.MathJax) {MathJax.Hub.Config({SVG: {font: \"STIX-Web\"}});}</script>                <script type=\"text/javascript\">window.PlotlyConfig = {MathJaxConfig: 'local'};</script>\n",
              "        <script src=\"https://cdn.plot.ly/plotly-latest.min.js\"></script>                <div id=\"791977df-13f5-4964-ab2d-922a5c783c8a\" class=\"plotly-graph-div\" style=\"height:525px; width:100%;\"></div>            <script type=\"text/javascript\">                                    window.PLOTLYENV=window.PLOTLYENV || {};                                    if (document.getElementById(\"791977df-13f5-4964-ab2d-922a5c783c8a\")) {                    Plotly.newPlot(                        \"791977df-13f5-4964-ab2d-922a5c783c8a\",                        [{\"branchvalues\": \"total\", \"domain\": {\"x\": [0.0, 1.0], \"y\": [0.0, 1.0]}, \"hovertemplate\": \"labels=%{label}<br>count=%{value}<br>parent=%{parent}<br>id=%{id}<extra></extra>\", \"ids\": [\"ai\", \"b\\u00e0i\", \"c\\u00f2n\", \"c\\u00f3\", \"hay\", \"ko\", \"l\\u00e0\", \"l\\u00ean\", \"l\\u1ea1c\", \"l\\u1ea1i\", \"nghe\", \"n\\u00e0y\", \"qu\\u00e1\", \"r\\u1ed3i\", \"sky\", \"tr\\u00f4i\", \"t\\u00f9ng\", \"v\\u1eabn\", \"xem\", \"\\u0111\\u00e2y\"], \"labels\": [\"ai\", \"b\\u00e0i\", \"c\\u00f2n\", \"c\\u00f3\", \"hay\", \"ko\", \"l\\u00e0\", \"l\\u00ean\", \"l\\u1ea1c\", \"l\\u1ea1i\", \"nghe\", \"n\\u00e0y\", \"qu\\u00e1\", \"r\\u1ed3i\", \"sky\", \"tr\\u00f4i\", \"t\\u00f9ng\", \"v\\u1eabn\", \"xem\", \"\\u0111\\u00e2y\"], \"name\": \"\", \"parents\": [\"\", \"\", \"\", \"\", \"\", \"\", \"\", \"\", \"\", \"\", \"\", \"\", \"\", \"\", \"\", \"\", \"\", \"\", \"\", \"\"], \"type\": \"treemap\", \"values\": [6271, 2133, 4861, 2719, 2643, 2084, 2076, 1748, 2956, 1920, 5881, 2061, 1687, 2052, 2007, 2655, 2184, 2548, 3092, 1936]}],                        {\"legend\": {\"tracegroupgap\": 0}, \"template\": {\"data\": {\"bar\": [{\"error_x\": {\"color\": \"#2a3f5f\"}, \"error_y\": {\"color\": \"#2a3f5f\"}, \"marker\": {\"line\": {\"color\": \"#E5ECF6\", \"width\": 0.5}}, \"type\": \"bar\"}], \"barpolar\": [{\"marker\": {\"line\": {\"color\": \"#E5ECF6\", \"width\": 0.5}}, \"type\": \"barpolar\"}], \"carpet\": [{\"aaxis\": {\"endlinecolor\": \"#2a3f5f\", \"gridcolor\": \"white\", \"linecolor\": \"white\", \"minorgridcolor\": \"white\", \"startlinecolor\": \"#2a3f5f\"}, \"baxis\": {\"endlinecolor\": \"#2a3f5f\", \"gridcolor\": \"white\", \"linecolor\": \"white\", \"minorgridcolor\": \"white\", \"startlinecolor\": \"#2a3f5f\"}, \"type\": \"carpet\"}], \"choropleth\": [{\"colorbar\": {\"outlinewidth\": 0, \"ticks\": \"\"}, \"type\": \"choropleth\"}], \"contour\": [{\"colorbar\": {\"outlinewidth\": 0, \"ticks\": \"\"}, \"colorscale\": [[0.0, \"#0d0887\"], [0.1111111111111111, \"#46039f\"], [0.2222222222222222, \"#7201a8\"], [0.3333333333333333, \"#9c179e\"], [0.4444444444444444, \"#bd3786\"], [0.5555555555555556, \"#d8576b\"], [0.6666666666666666, \"#ed7953\"], [0.7777777777777778, \"#fb9f3a\"], [0.8888888888888888, \"#fdca26\"], [1.0, \"#f0f921\"]], \"type\": \"contour\"}], \"contourcarpet\": [{\"colorbar\": {\"outlinewidth\": 0, \"ticks\": \"\"}, \"type\": \"contourcarpet\"}], \"heatmap\": [{\"colorbar\": {\"outlinewidth\": 0, \"ticks\": \"\"}, \"colorscale\": [[0.0, \"#0d0887\"], [0.1111111111111111, \"#46039f\"], [0.2222222222222222, \"#7201a8\"], [0.3333333333333333, \"#9c179e\"], [0.4444444444444444, \"#bd3786\"], [0.5555555555555556, \"#d8576b\"], [0.6666666666666666, \"#ed7953\"], [0.7777777777777778, \"#fb9f3a\"], [0.8888888888888888, \"#fdca26\"], [1.0, \"#f0f921\"]], \"type\": \"heatmap\"}], \"heatmapgl\": [{\"colorbar\": {\"outlinewidth\": 0, \"ticks\": \"\"}, \"colorscale\": [[0.0, \"#0d0887\"], [0.1111111111111111, \"#46039f\"], [0.2222222222222222, \"#7201a8\"], [0.3333333333333333, \"#9c179e\"], [0.4444444444444444, \"#bd3786\"], [0.5555555555555556, \"#d8576b\"], [0.6666666666666666, \"#ed7953\"], [0.7777777777777778, \"#fb9f3a\"], [0.8888888888888888, \"#fdca26\"], [1.0, \"#f0f921\"]], \"type\": \"heatmapgl\"}], \"histogram\": [{\"marker\": {\"colorbar\": {\"outlinewidth\": 0, \"ticks\": \"\"}}, \"type\": \"histogram\"}], \"histogram2d\": [{\"colorbar\": {\"outlinewidth\": 0, \"ticks\": \"\"}, \"colorscale\": [[0.0, \"#0d0887\"], [0.1111111111111111, \"#46039f\"], [0.2222222222222222, \"#7201a8\"], [0.3333333333333333, \"#9c179e\"], [0.4444444444444444, \"#bd3786\"], [0.5555555555555556, \"#d8576b\"], [0.6666666666666666, \"#ed7953\"], [0.7777777777777778, \"#fb9f3a\"], [0.8888888888888888, \"#fdca26\"], [1.0, \"#f0f921\"]], \"type\": \"histogram2d\"}], \"histogram2dcontour\": [{\"colorbar\": {\"outlinewidth\": 0, \"ticks\": \"\"}, \"colorscale\": [[0.0, \"#0d0887\"], [0.1111111111111111, \"#46039f\"], [0.2222222222222222, \"#7201a8\"], [0.3333333333333333, \"#9c179e\"], [0.4444444444444444, \"#bd3786\"], [0.5555555555555556, \"#d8576b\"], [0.6666666666666666, \"#ed7953\"], [0.7777777777777778, \"#fb9f3a\"], [0.8888888888888888, \"#fdca26\"], [1.0, \"#f0f921\"]], \"type\": \"histogram2dcontour\"}], \"mesh3d\": [{\"colorbar\": {\"outlinewidth\": 0, \"ticks\": \"\"}, \"type\": \"mesh3d\"}], \"parcoords\": [{\"line\": {\"colorbar\": {\"outlinewidth\": 0, \"ticks\": \"\"}}, \"type\": \"parcoords\"}], \"pie\": [{\"automargin\": true, \"type\": \"pie\"}], \"scatter\": [{\"marker\": {\"colorbar\": {\"outlinewidth\": 0, \"ticks\": \"\"}}, \"type\": \"scatter\"}], \"scatter3d\": [{\"line\": {\"colorbar\": {\"outlinewidth\": 0, \"ticks\": \"\"}}, \"marker\": {\"colorbar\": {\"outlinewidth\": 0, \"ticks\": \"\"}}, \"type\": \"scatter3d\"}], \"scattercarpet\": [{\"marker\": {\"colorbar\": {\"outlinewidth\": 0, \"ticks\": \"\"}}, \"type\": \"scattercarpet\"}], \"scattergeo\": [{\"marker\": {\"colorbar\": {\"outlinewidth\": 0, \"ticks\": \"\"}}, \"type\": \"scattergeo\"}], \"scattergl\": [{\"marker\": {\"colorbar\": {\"outlinewidth\": 0, \"ticks\": \"\"}}, \"type\": \"scattergl\"}], \"scattermapbox\": [{\"marker\": {\"colorbar\": {\"outlinewidth\": 0, \"ticks\": \"\"}}, \"type\": \"scattermapbox\"}], \"scatterpolar\": [{\"marker\": {\"colorbar\": {\"outlinewidth\": 0, \"ticks\": \"\"}}, \"type\": \"scatterpolar\"}], \"scatterpolargl\": [{\"marker\": {\"colorbar\": {\"outlinewidth\": 0, \"ticks\": \"\"}}, \"type\": \"scatterpolargl\"}], \"scatterternary\": [{\"marker\": {\"colorbar\": {\"outlinewidth\": 0, \"ticks\": \"\"}}, \"type\": \"scatterternary\"}], \"surface\": [{\"colorbar\": {\"outlinewidth\": 0, \"ticks\": \"\"}, \"colorscale\": [[0.0, \"#0d0887\"], [0.1111111111111111, \"#46039f\"], [0.2222222222222222, \"#7201a8\"], [0.3333333333333333, \"#9c179e\"], [0.4444444444444444, \"#bd3786\"], [0.5555555555555556, \"#d8576b\"], [0.6666666666666666, \"#ed7953\"], [0.7777777777777778, \"#fb9f3a\"], [0.8888888888888888, \"#fdca26\"], [1.0, \"#f0f921\"]], \"type\": \"surface\"}], \"table\": [{\"cells\": {\"fill\": {\"color\": \"#EBF0F8\"}, \"line\": {\"color\": \"white\"}}, \"header\": {\"fill\": {\"color\": \"#C8D4E3\"}, \"line\": {\"color\": \"white\"}}, \"type\": \"table\"}]}, \"layout\": {\"annotationdefaults\": {\"arrowcolor\": \"#2a3f5f\", \"arrowhead\": 0, \"arrowwidth\": 1}, \"coloraxis\": {\"colorbar\": {\"outlinewidth\": 0, \"ticks\": \"\"}}, \"colorscale\": {\"diverging\": [[0, \"#8e0152\"], [0.1, \"#c51b7d\"], [0.2, \"#de77ae\"], [0.3, \"#f1b6da\"], [0.4, \"#fde0ef\"], [0.5, \"#f7f7f7\"], [0.6, \"#e6f5d0\"], [0.7, \"#b8e186\"], [0.8, \"#7fbc41\"], [0.9, \"#4d9221\"], [1, \"#276419\"]], \"sequential\": [[0.0, \"#0d0887\"], [0.1111111111111111, \"#46039f\"], [0.2222222222222222, \"#7201a8\"], [0.3333333333333333, \"#9c179e\"], [0.4444444444444444, \"#bd3786\"], [0.5555555555555556, \"#d8576b\"], [0.6666666666666666, \"#ed7953\"], [0.7777777777777778, \"#fb9f3a\"], [0.8888888888888888, \"#fdca26\"], [1.0, \"#f0f921\"]], \"sequentialminus\": [[0.0, \"#0d0887\"], [0.1111111111111111, \"#46039f\"], [0.2222222222222222, \"#7201a8\"], [0.3333333333333333, \"#9c179e\"], [0.4444444444444444, \"#bd3786\"], [0.5555555555555556, \"#d8576b\"], [0.6666666666666666, \"#ed7953\"], [0.7777777777777778, \"#fb9f3a\"], [0.8888888888888888, \"#fdca26\"], [1.0, \"#f0f921\"]]}, \"colorway\": [\"#636efa\", \"#EF553B\", \"#00cc96\", \"#ab63fa\", \"#FFA15A\", \"#19d3f3\", \"#FF6692\", \"#B6E880\", \"#FF97FF\", \"#FECB52\"], \"font\": {\"color\": \"#2a3f5f\"}, \"geo\": {\"bgcolor\": \"white\", \"lakecolor\": \"white\", \"landcolor\": \"#E5ECF6\", \"showlakes\": true, \"showland\": true, \"subunitcolor\": \"white\"}, \"hoverlabel\": {\"align\": \"left\"}, \"hovermode\": \"closest\", \"mapbox\": {\"style\": \"light\"}, \"paper_bgcolor\": \"white\", \"plot_bgcolor\": \"#E5ECF6\", \"polar\": {\"angularaxis\": {\"gridcolor\": \"white\", \"linecolor\": \"white\", \"ticks\": \"\"}, \"bgcolor\": \"#E5ECF6\", \"radialaxis\": {\"gridcolor\": \"white\", \"linecolor\": \"white\", \"ticks\": \"\"}}, \"scene\": {\"xaxis\": {\"backgroundcolor\": \"#E5ECF6\", \"gridcolor\": \"white\", \"gridwidth\": 2, \"linecolor\": \"white\", \"showbackground\": true, \"ticks\": \"\", \"zerolinecolor\": \"white\"}, \"yaxis\": {\"backgroundcolor\": \"#E5ECF6\", \"gridcolor\": \"white\", \"gridwidth\": 2, \"linecolor\": \"white\", \"showbackground\": true, \"ticks\": \"\", \"zerolinecolor\": \"white\"}, \"zaxis\": {\"backgroundcolor\": \"#E5ECF6\", \"gridcolor\": \"white\", \"gridwidth\": 2, \"linecolor\": \"white\", \"showbackground\": true, \"ticks\": \"\", \"zerolinecolor\": \"white\"}}, \"shapedefaults\": {\"line\": {\"color\": \"#2a3f5f\"}}, \"ternary\": {\"aaxis\": {\"gridcolor\": \"white\", \"linecolor\": \"white\", \"ticks\": \"\"}, \"baxis\": {\"gridcolor\": \"white\", \"linecolor\": \"white\", \"ticks\": \"\"}, \"bgcolor\": \"#E5ECF6\", \"caxis\": {\"gridcolor\": \"white\", \"linecolor\": \"white\", \"ticks\": \"\"}}, \"title\": {\"x\": 0.05}, \"xaxis\": {\"automargin\": true, \"gridcolor\": \"white\", \"linecolor\": \"white\", \"ticks\": \"\", \"title\": {\"standoff\": 15}, \"zerolinecolor\": \"white\", \"zerolinewidth\": 2}, \"yaxis\": {\"automargin\": true, \"gridcolor\": \"white\", \"linecolor\": \"white\", \"ticks\": \"\", \"title\": {\"standoff\": 15}, \"zerolinecolor\": \"white\", \"zerolinewidth\": 2}}}, \"title\": {\"text\": \"Ph\\u00e2n B\\u1ed5 c\\u1ee7a T\\u1eeb Ng\\u1eef #L\\u1ea1cTr\\u00f4i\"}},                        {\"responsive\": true}                    ).then(function(){\n",
              "                            \n",
              "var gd = document.getElementById('791977df-13f5-4964-ab2d-922a5c783c8a');\n",
              "var x = new MutationObserver(function (mutations, observer) {{\n",
              "        var display = window.getComputedStyle(gd).display;\n",
              "        if (!display || display === 'none') {{\n",
              "            console.log([gd, 'removed!']);\n",
              "            Plotly.purge(gd);\n",
              "            observer.disconnect();\n",
              "        }}\n",
              "}});\n",
              "\n",
              "// Listen for the removal of the full notebook cells\n",
              "var notebookContainer = gd.closest('#notebook-container');\n",
              "if (notebookContainer) {{\n",
              "    x.observe(notebookContainer, {childList: true});\n",
              "}}\n",
              "\n",
              "// Listen for the clearing of the current output cell\n",
              "var outputEl = gd.closest('.output');\n",
              "if (outputEl) {{\n",
              "    x.observe(outputEl, {childList: true});\n",
              "}}\n",
              "\n",
              "                        })                };                            </script>        </div>\n",
              "</body>\n",
              "</html>"
            ]
          },
          "metadata": {
            "tags": []
          }
        },
        {
          "output_type": "stream",
          "text": [
            "time: 54.7 ms\n"
          ],
          "name": "stdout"
        }
      ]
    },
    {
      "cell_type": "code",
      "metadata": {
        "id": "WMMA3FkRASgF",
        "colab": {
          "base_uri": "https://localhost:8080/",
          "height": 602
        },
        "outputId": "87975be5-e997-42d0-8533-28b8fdd6cc3d"
      },
      "source": [
        "Neutral_sent = lactroi[lactroi['Like Count']!= 0]\n",
        "#pos_mask = np.array(Image.open(d+ 'twitter_mask.png'))\n",
        "pos_mask = np.array(Image.open('/content/drive/My Drive/10 Kaggle Projects/AAAFinal Project/Vi dụ demo/comment.png'))\n",
        "plot_wordcloud(Neutral_sent.clean_comment,mask=pos_mask,color='white',max_font_size=150,title_size=20,title=\"WordCloud of #LạcTrôi\")"
      ],
      "execution_count": null,
      "outputs": [
        {
          "output_type": "display_data",
          "data": {
            "image/png": "[encoded data removed]",
            "text/plain": [
              "<Figure size 936x576 with 1 Axes>"
            ]
          },
          "metadata": {
            "tags": [],
            "needs_background": "light"
          }
        },
        {
          "output_type": "stream",
          "text": [
            "time: 3.73 s\n"
          ],
          "name": "stdout"
        }
      ]
    },
    {
      "cell_type": "markdown",
      "metadata": {
        "id": "K90XTVAnUeac"
      },
      "source": [
        "## HÃY TRAO CHO ANH CHÚT TIỀN LẺ"
      ]
    },
    {
      "cell_type": "code",
      "metadata": {
        "id": "3r_kuiw4UdzR",
        "colab": {
          "base_uri": "https://localhost:8080/",
          "height": 477
        },
        "outputId": "09c8d1fa-5042-4e21-d3e6-fdf0bd29f83f"
      },
      "source": [
        "import collections\n",
        "from collections import Counter\n",
        "\n",
        "htca['temp_list'] = htca['clear_all'].apply(lambda x:str(x).split())\n",
        "top = Counter([item for sublist in htca['temp_list'] for item in sublist])\n",
        "temp = pd.DataFrame(top.most_common(20))\n",
        "temp.columns = ['Common_words','count']\n",
        "temp.style.background_gradient(cmap='summer')\n"
      ],
      "execution_count": null,
      "outputs": [
        {
          "output_type": "execute_result",
          "data": {
            "text/html": [
              "<style  type=\"text/css\" >\n",
              "#T_780ee09c_257b_11eb_b261_0242ac1c0002row0_col1{\n",
              "            background-color:  #ffff66;\n",
              "            color:  #000000;\n",
              "        }#T_780ee09c_257b_11eb_b261_0242ac1c0002row1_col1{\n",
              "            background-color:  #c4e266;\n",
              "            color:  #000000;\n",
              "        }#T_780ee09c_257b_11eb_b261_0242ac1c0002row2_col1{\n",
              "            background-color:  #b7db66;\n",
              "            color:  #000000;\n",
              "        }#T_780ee09c_257b_11eb_b261_0242ac1c0002row3_col1{\n",
              "            background-color:  #b5da66;\n",
              "            color:  #000000;\n",
              "        }#T_780ee09c_257b_11eb_b261_0242ac1c0002row4_col1{\n",
              "            background-color:  #abd566;\n",
              "            color:  #000000;\n",
              "        }#T_780ee09c_257b_11eb_b261_0242ac1c0002row5_col1{\n",
              "            background-color:  #9bcd66;\n",
              "            color:  #000000;\n",
              "        }#T_780ee09c_257b_11eb_b261_0242ac1c0002row6_col1{\n",
              "            background-color:  #97cb66;\n",
              "            color:  #000000;\n",
              "        }#T_780ee09c_257b_11eb_b261_0242ac1c0002row7_col1{\n",
              "            background-color:  #86c266;\n",
              "            color:  #000000;\n",
              "        }#T_780ee09c_257b_11eb_b261_0242ac1c0002row8_col1{\n",
              "            background-color:  #7dbe66;\n",
              "            color:  #000000;\n",
              "        }#T_780ee09c_257b_11eb_b261_0242ac1c0002row9_col1{\n",
              "            background-color:  #75ba66;\n",
              "            color:  #000000;\n",
              "        }#T_780ee09c_257b_11eb_b261_0242ac1c0002row10_col1{\n",
              "            background-color:  #6fb766;\n",
              "            color:  #000000;\n",
              "        }#T_780ee09c_257b_11eb_b261_0242ac1c0002row11_col1{\n",
              "            background-color:  #56ab66;\n",
              "            color:  #000000;\n",
              "        }#T_780ee09c_257b_11eb_b261_0242ac1c0002row12_col1{\n",
              "            background-color:  #44a266;\n",
              "            color:  #000000;\n",
              "        }#T_780ee09c_257b_11eb_b261_0242ac1c0002row13_col1{\n",
              "            background-color:  #399c66;\n",
              "            color:  #000000;\n",
              "        }#T_780ee09c_257b_11eb_b261_0242ac1c0002row14_col1{\n",
              "            background-color:  #319866;\n",
              "            color:  #000000;\n",
              "        }#T_780ee09c_257b_11eb_b261_0242ac1c0002row15_col1{\n",
              "            background-color:  #2f9766;\n",
              "            color:  #000000;\n",
              "        }#T_780ee09c_257b_11eb_b261_0242ac1c0002row16_col1{\n",
              "            background-color:  #1c8e66;\n",
              "            color:  #000000;\n",
              "        }#T_780ee09c_257b_11eb_b261_0242ac1c0002row17_col1{\n",
              "            background-color:  #0f8766;\n",
              "            color:  #000000;\n",
              "        }#T_780ee09c_257b_11eb_b261_0242ac1c0002row18_col1{\n",
              "            background-color:  #0a8466;\n",
              "            color:  #f1f1f1;\n",
              "        }#T_780ee09c_257b_11eb_b261_0242ac1c0002row19_col1{\n",
              "            background-color:  #008066;\n",
              "            color:  #f1f1f1;\n",
              "        }</style><table id=\"T_780ee09c_257b_11eb_b261_0242ac1c0002\" ><thead>    <tr>        <th class=\"blank level0\" ></th>        <th class=\"col_heading level0 col0\" >Common_words</th>        <th class=\"col_heading level0 col1\" >count</th>    </tr></thead><tbody>\n",
              "                <tr>\n",
              "                        <th id=\"T_780ee09c_257b_11eb_b261_0242ac1c0002level0_row0\" class=\"row_heading level0 row0\" >0</th>\n",
              "                        <td id=\"T_780ee09c_257b_11eb_b261_0242ac1c0002row0_col0\" class=\"data row0 col0\" >ai</td>\n",
              "                        <td id=\"T_780ee09c_257b_11eb_b261_0242ac1c0002row0_col1\" class=\"data row0 col1\" >48000</td>\n",
              "            </tr>\n",
              "            <tr>\n",
              "                        <th id=\"T_780ee09c_257b_11eb_b261_0242ac1c0002level0_row1\" class=\"row_heading level0 row1\" >1</th>\n",
              "                        <td id=\"T_780ee09c_257b_11eb_b261_0242ac1c0002row1_col0\" class=\"data row1 col0\" >lên</td>\n",
              "                        <td id=\"T_780ee09c_257b_11eb_b261_0242ac1c0002row1_col1\" class=\"data row1 col1\" >41378</td>\n",
              "            </tr>\n",
              "            <tr>\n",
              "                        <th id=\"T_780ee09c_257b_11eb_b261_0242ac1c0002level0_row2\" class=\"row_heading level0 row2\" >2</th>\n",
              "                        <td id=\"T_780ee09c_257b_11eb_b261_0242ac1c0002row2_col0\" class=\"data row2 col0\" >quá</td>\n",
              "                        <td id=\"T_780ee09c_257b_11eb_b261_0242ac1c0002row2_col1\" class=\"data row2 col1\" >39926</td>\n",
              "            </tr>\n",
              "            <tr>\n",
              "                        <th id=\"T_780ee09c_257b_11eb_b261_0242ac1c0002level0_row3\" class=\"row_heading level0 row3\" >3</th>\n",
              "                        <td id=\"T_780ee09c_257b_11eb_b261_0242ac1c0002row3_col0\" class=\"data row3 col0\" >nghe</td>\n",
              "                        <td id=\"T_780ee09c_257b_11eb_b261_0242ac1c0002row3_col1\" class=\"data row3 col1\" >39718</td>\n",
              "            </tr>\n",
              "            <tr>\n",
              "                        <th id=\"T_780ee09c_257b_11eb_b261_0242ac1c0002level0_row4\" class=\"row_heading level0 row4\" >4</th>\n",
              "                        <td id=\"T_780ee09c_257b_11eb_b261_0242ac1c0002row4_col0\" class=\"data row4 col0\" >tùng</td>\n",
              "                        <td id=\"T_780ee09c_257b_11eb_b261_0242ac1c0002row4_col1\" class=\"data row4 col1\" >38662</td>\n",
              "            </tr>\n",
              "            <tr>\n",
              "                        <th id=\"T_780ee09c_257b_11eb_b261_0242ac1c0002level0_row5\" class=\"row_heading level0 row5\" >5</th>\n",
              "                        <td id=\"T_780ee09c_257b_11eb_b261_0242ac1c0002row5_col0\" class=\"data row5 col0\" >có</td>\n",
              "                        <td id=\"T_780ee09c_257b_11eb_b261_0242ac1c0002row5_col1\" class=\"data row5 col1\" >36934</td>\n",
              "            </tr>\n",
              "            <tr>\n",
              "                        <th id=\"T_780ee09c_257b_11eb_b261_0242ac1c0002level0_row6\" class=\"row_heading level0 row6\" >6</th>\n",
              "                        <td id=\"T_780ee09c_257b_11eb_b261_0242ac1c0002row6_col0\" class=\"data row6 col0\" >hay</td>\n",
              "                        <td id=\"T_780ee09c_257b_11eb_b261_0242ac1c0002row6_col1\" class=\"data row6 col1\" >36486</td>\n",
              "            </tr>\n",
              "            <tr>\n",
              "                        <th id=\"T_780ee09c_257b_11eb_b261_0242ac1c0002level0_row7\" class=\"row_heading level0 row7\" >7</th>\n",
              "                        <td id=\"T_780ee09c_257b_11eb_b261_0242ac1c0002row7_col0\" class=\"data row7 col0\" >rồi</td>\n",
              "                        <td id=\"T_780ee09c_257b_11eb_b261_0242ac1c0002row7_col1\" class=\"data row7 col1\" >34503</td>\n",
              "            </tr>\n",
              "            <tr>\n",
              "                        <th id=\"T_780ee09c_257b_11eb_b261_0242ac1c0002level0_row8\" class=\"row_heading level0 row8\" >8</th>\n",
              "                        <td id=\"T_780ee09c_257b_11eb_b261_0242ac1c0002row8_col0\" class=\"data row8 col0\" >là</td>\n",
              "                        <td id=\"T_780ee09c_257b_11eb_b261_0242ac1c0002row8_col1\" class=\"data row8 col1\" >33574</td>\n",
              "            </tr>\n",
              "            <tr>\n",
              "                        <th id=\"T_780ee09c_257b_11eb_b261_0242ac1c0002level0_row9\" class=\"row_heading level0 row9\" >9</th>\n",
              "                        <td id=\"T_780ee09c_257b_11eb_b261_0242ac1c0002row9_col0\" class=\"data row9 col0\" >còn</td>\n",
              "                        <td id=\"T_780ee09c_257b_11eb_b261_0242ac1c0002row9_col1\" class=\"data row9 col1\" >32669</td>\n",
              "            </tr>\n",
              "            <tr>\n",
              "                        <th id=\"T_780ee09c_257b_11eb_b261_0242ac1c0002level0_row10\" class=\"row_heading level0 row10\" >10</th>\n",
              "                        <td id=\"T_780ee09c_257b_11eb_b261_0242ac1c0002row10_col0\" class=\"data row10 col0\" >ơi</td>\n",
              "                        <td id=\"T_780ee09c_257b_11eb_b261_0242ac1c0002row10_col1\" class=\"data row10 col1\" >31984</td>\n",
              "            </tr>\n",
              "            <tr>\n",
              "                        <th id=\"T_780ee09c_257b_11eb_b261_0242ac1c0002level0_row11\" class=\"row_heading level0 row11\" >11</th>\n",
              "                        <td id=\"T_780ee09c_257b_11eb_b261_0242ac1c0002row11_col0\" class=\"data row11 col0\" >xem</td>\n",
              "                        <td id=\"T_780ee09c_257b_11eb_b261_0242ac1c0002row11_col1\" class=\"data row11 col1\" >29226</td>\n",
              "            </tr>\n",
              "            <tr>\n",
              "                        <th id=\"T_780ee09c_257b_11eb_b261_0242ac1c0002level0_row12\" class=\"row_heading level0 row12\" >12</th>\n",
              "                        <td id=\"T_780ee09c_257b_11eb_b261_0242ac1c0002row12_col0\" class=\"data row12 col0\" >cố</td>\n",
              "                        <td id=\"T_780ee09c_257b_11eb_b261_0242ac1c0002row12_col1\" class=\"data row12 col1\" >27236</td>\n",
              "            </tr>\n",
              "            <tr>\n",
              "                        <th id=\"T_780ee09c_257b_11eb_b261_0242ac1c0002level0_row13\" class=\"row_heading level0 row13\" >13</th>\n",
              "                        <td id=\"T_780ee09c_257b_11eb_b261_0242ac1c0002row13_col0\" class=\"data row13 col0\" >sky</td>\n",
              "                        <td id=\"T_780ee09c_257b_11eb_b261_0242ac1c0002row13_col1\" class=\"data row13 col1\" >26059</td>\n",
              "            </tr>\n",
              "            <tr>\n",
              "                        <th id=\"T_780ee09c_257b_11eb_b261_0242ac1c0002level0_row14\" class=\"row_heading level0 row14\" >14</th>\n",
              "                        <td id=\"T_780ee09c_257b_11eb_b261_0242ac1c0002row14_col0\" class=\"data row14 col0\" >anh</td>\n",
              "                        <td id=\"T_780ee09c_257b_11eb_b261_0242ac1c0002row14_col1\" class=\"data row14 col1\" >25140</td>\n",
              "            </tr>\n",
              "            <tr>\n",
              "                        <th id=\"T_780ee09c_257b_11eb_b261_0242ac1c0002level0_row15\" class=\"row_heading level0 row15\" >15</th>\n",
              "                        <td id=\"T_780ee09c_257b_11eb_b261_0242ac1c0002row15_col0\" class=\"data row15 col0\" >ko</td>\n",
              "                        <td id=\"T_780ee09c_257b_11eb_b261_0242ac1c0002row15_col1\" class=\"data row15 col1\" >24966</td>\n",
              "            </tr>\n",
              "            <tr>\n",
              "                        <th id=\"T_780ee09c_257b_11eb_b261_0242ac1c0002level0_row16\" class=\"row_heading level0 row16\" >16</th>\n",
              "                        <td id=\"T_780ee09c_257b_11eb_b261_0242ac1c0002row16_col0\" class=\"data row16 col0\" >không</td>\n",
              "                        <td id=\"T_780ee09c_257b_11eb_b261_0242ac1c0002row16_col1\" class=\"data row16 col1\" >22877</td>\n",
              "            </tr>\n",
              "            <tr>\n",
              "                        <th id=\"T_780ee09c_257b_11eb_b261_0242ac1c0002level0_row17\" class=\"row_heading level0 row17\" >17</th>\n",
              "                        <td id=\"T_780ee09c_257b_11eb_b261_0242ac1c0002row17_col0\" class=\"data row17 col0\" >view</td>\n",
              "                        <td id=\"T_780ee09c_257b_11eb_b261_0242ac1c0002row17_col1\" class=\"data row17 col1\" >21366</td>\n",
              "            </tr>\n",
              "            <tr>\n",
              "                        <th id=\"T_780ee09c_257b_11eb_b261_0242ac1c0002level0_row18\" class=\"row_heading level0 row18\" >18</th>\n",
              "                        <td id=\"T_780ee09c_257b_11eb_b261_0242ac1c0002row18_col0\" class=\"data row18 col0\" >người</td>\n",
              "                        <td id=\"T_780ee09c_257b_11eb_b261_0242ac1c0002row18_col1\" class=\"data row18 col1\" >20796</td>\n",
              "            </tr>\n",
              "            <tr>\n",
              "                        <th id=\"T_780ee09c_257b_11eb_b261_0242ac1c0002level0_row19\" class=\"row_heading level0 row19\" >19</th>\n",
              "                        <td id=\"T_780ee09c_257b_11eb_b261_0242ac1c0002row19_col0\" class=\"data row19 col0\" >1</td>\n",
              "                        <td id=\"T_780ee09c_257b_11eb_b261_0242ac1c0002row19_col1\" class=\"data row19 col1\" >19677</td>\n",
              "            </tr>\n",
              "    </tbody></table>"
            ],
            "text/plain": [
              "<pandas.io.formats.style.Styler at 0x7fe65a438ef0>"
            ]
          },
          "metadata": {
            "tags": []
          },
          "execution_count": 26
        },
        {
          "output_type": "stream",
          "text": [
            "time: 1.98 s\n"
          ],
          "name": "stdout"
        }
      ]
    },
    {
      "cell_type": "code",
      "metadata": {
        "id": "5d21_2mXWCFL",
        "colab": {
          "base_uri": "https://localhost:8080/",
          "height": 559
        },
        "outputId": "ead3dad5-ada9-40c9-d373-09d8cc473e0b"
      },
      "source": [
        "fig = px.treemap(temp, path=['Common_words'], values='count',title='Phân Bổ của Từ Ngữ #HãyTraoChoAnh')\n",
        "fig.show()"
      ],
      "execution_count": null,
      "outputs": [
        {
          "output_type": "display_data",
          "data": {
            "text/html": [
              "<html>\n",
              "<head><meta charset=\"utf-8\" /></head>\n",
              "<body>\n",
              "    <div>            <script src=\"https://cdnjs.cloudflare.com/ajax/libs/mathjax/2.7.5/MathJax.js?config=TeX-AMS-MML_SVG\"></script><script type=\"text/javascript\">if (window.MathJax) {MathJax.Hub.Config({SVG: {font: \"STIX-Web\"}});}</script>                <script type=\"text/javascript\">window.PlotlyConfig = {MathJaxConfig: 'local'};</script>\n",
              "        <script src=\"https://cdn.plot.ly/plotly-latest.min.js\"></script>                <div id=\"d9e4ac11-4c5d-414e-b8c9-579207bc0399\" class=\"plotly-graph-div\" style=\"height:525px; width:100%;\"></div>            <script type=\"text/javascript\">                                    window.PLOTLYENV=window.PLOTLYENV || {};                                    if (document.getElementById(\"d9e4ac11-4c5d-414e-b8c9-579207bc0399\")) {                    Plotly.newPlot(                        \"d9e4ac11-4c5d-414e-b8c9-579207bc0399\",                        [{\"branchvalues\": \"total\", \"domain\": {\"x\": [0.0, 1.0], \"y\": [0.0, 1.0]}, \"hovertemplate\": \"labels=%{label}<br>count=%{value}<br>parent=%{parent}<br>id=%{id}<extra></extra>\", \"ids\": [\"1\", \"ai\", \"anh\", \"c\\u00f2n\", \"c\\u00f3\", \"c\\u1ed1\", \"hay\", \"kh\\u00f4ng\", \"ko\", \"l\\u00e0\", \"l\\u00ean\", \"nghe\", \"ng\\u01b0\\u1eddi\", \"qu\\u00e1\", \"r\\u1ed3i\", \"sky\", \"t\\u00f9ng\", \"view\", \"xem\", \"\\u01a1i\"], \"labels\": [\"1\", \"ai\", \"anh\", \"c\\u00f2n\", \"c\\u00f3\", \"c\\u1ed1\", \"hay\", \"kh\\u00f4ng\", \"ko\", \"l\\u00e0\", \"l\\u00ean\", \"nghe\", \"ng\\u01b0\\u1eddi\", \"qu\\u00e1\", \"r\\u1ed3i\", \"sky\", \"t\\u00f9ng\", \"view\", \"xem\", \"\\u01a1i\"], \"name\": \"\", \"parents\": [\"\", \"\", \"\", \"\", \"\", \"\", \"\", \"\", \"\", \"\", \"\", \"\", \"\", \"\", \"\", \"\", \"\", \"\", \"\", \"\"], \"type\": \"treemap\", \"values\": [19677, 48000, 25140, 32669, 36934, 27236, 36486, 22877, 24966, 33574, 41378, 39718, 20796, 39926, 34503, 26059, 38662, 21366, 29226, 31984]}],                        {\"legend\": {\"tracegroupgap\": 0}, \"template\": {\"data\": {\"bar\": [{\"error_x\": {\"color\": \"#2a3f5f\"}, \"error_y\": {\"color\": \"#2a3f5f\"}, \"marker\": {\"line\": {\"color\": \"#E5ECF6\", \"width\": 0.5}}, \"type\": \"bar\"}], \"barpolar\": [{\"marker\": {\"line\": {\"color\": \"#E5ECF6\", \"width\": 0.5}}, \"type\": \"barpolar\"}], \"carpet\": [{\"aaxis\": {\"endlinecolor\": \"#2a3f5f\", \"gridcolor\": \"white\", \"linecolor\": \"white\", \"minorgridcolor\": \"white\", \"startlinecolor\": \"#2a3f5f\"}, \"baxis\": {\"endlinecolor\": \"#2a3f5f\", \"gridcolor\": \"white\", \"linecolor\": \"white\", \"minorgridcolor\": \"white\", \"startlinecolor\": \"#2a3f5f\"}, \"type\": \"carpet\"}], \"choropleth\": [{\"colorbar\": {\"outlinewidth\": 0, \"ticks\": \"\"}, \"type\": \"choropleth\"}], \"contour\": [{\"colorbar\": {\"outlinewidth\": 0, \"ticks\": \"\"}, \"colorscale\": [[0.0, \"#0d0887\"], [0.1111111111111111, \"#46039f\"], [0.2222222222222222, \"#7201a8\"], [0.3333333333333333, \"#9c179e\"], [0.4444444444444444, \"#bd3786\"], [0.5555555555555556, \"#d8576b\"], [0.6666666666666666, \"#ed7953\"], [0.7777777777777778, \"#fb9f3a\"], [0.8888888888888888, \"#fdca26\"], [1.0, \"#f0f921\"]], \"type\": \"contour\"}], \"contourcarpet\": [{\"colorbar\": {\"outlinewidth\": 0, \"ticks\": \"\"}, \"type\": \"contourcarpet\"}], \"heatmap\": [{\"colorbar\": {\"outlinewidth\": 0, \"ticks\": \"\"}, \"colorscale\": [[0.0, \"#0d0887\"], [0.1111111111111111, \"#46039f\"], [0.2222222222222222, \"#7201a8\"], [0.3333333333333333, \"#9c179e\"], [0.4444444444444444, \"#bd3786\"], [0.5555555555555556, \"#d8576b\"], [0.6666666666666666, \"#ed7953\"], [0.7777777777777778, \"#fb9f3a\"], [0.8888888888888888, \"#fdca26\"], [1.0, \"#f0f921\"]], \"type\": \"heatmap\"}], \"heatmapgl\": [{\"colorbar\": {\"outlinewidth\": 0, \"ticks\": \"\"}, \"colorscale\": [[0.0, \"#0d0887\"], [0.1111111111111111, \"#46039f\"], [0.2222222222222222, \"#7201a8\"], [0.3333333333333333, \"#9c179e\"], [0.4444444444444444, \"#bd3786\"], [0.5555555555555556, \"#d8576b\"], [0.6666666666666666, \"#ed7953\"], [0.7777777777777778, \"#fb9f3a\"], [0.8888888888888888, \"#fdca26\"], [1.0, \"#f0f921\"]], \"type\": \"heatmapgl\"}], \"histogram\": [{\"marker\": {\"colorbar\": {\"outlinewidth\": 0, \"ticks\": \"\"}}, \"type\": \"histogram\"}], \"histogram2d\": [{\"colorbar\": {\"outlinewidth\": 0, \"ticks\": \"\"}, \"colorscale\": [[0.0, \"#0d0887\"], [0.1111111111111111, \"#46039f\"], [0.2222222222222222, \"#7201a8\"], [0.3333333333333333, \"#9c179e\"], [0.4444444444444444, \"#bd3786\"], [0.5555555555555556, \"#d8576b\"], [0.6666666666666666, \"#ed7953\"], [0.7777777777777778, \"#fb9f3a\"], [0.8888888888888888, \"#fdca26\"], [1.0, \"#f0f921\"]], \"type\": \"histogram2d\"}], \"histogram2dcontour\": [{\"colorbar\": {\"outlinewidth\": 0, \"ticks\": \"\"}, \"colorscale\": [[0.0, \"#0d0887\"], [0.1111111111111111, \"#46039f\"], [0.2222222222222222, \"#7201a8\"], [0.3333333333333333, \"#9c179e\"], [0.4444444444444444, \"#bd3786\"], [0.5555555555555556, \"#d8576b\"], [0.6666666666666666, \"#ed7953\"], [0.7777777777777778, \"#fb9f3a\"], [0.8888888888888888, \"#fdca26\"], [1.0, \"#f0f921\"]], \"type\": \"histogram2dcontour\"}], \"mesh3d\": [{\"colorbar\": {\"outlinewidth\": 0, \"ticks\": \"\"}, \"type\": \"mesh3d\"}], \"parcoords\": [{\"line\": {\"colorbar\": {\"outlinewidth\": 0, \"ticks\": \"\"}}, \"type\": \"parcoords\"}], \"pie\": [{\"automargin\": true, \"type\": \"pie\"}], \"scatter\": [{\"marker\": {\"colorbar\": {\"outlinewidth\": 0, \"ticks\": \"\"}}, \"type\": \"scatter\"}], \"scatter3d\": [{\"line\": {\"colorbar\": {\"outlinewidth\": 0, \"ticks\": \"\"}}, \"marker\": {\"colorbar\": {\"outlinewidth\": 0, \"ticks\": \"\"}}, \"type\": \"scatter3d\"}], \"scattercarpet\": [{\"marker\": {\"colorbar\": {\"outlinewidth\": 0, \"ticks\": \"\"}}, \"type\": \"scattercarpet\"}], \"scattergeo\": [{\"marker\": {\"colorbar\": {\"outlinewidth\": 0, \"ticks\": \"\"}}, \"type\": \"scattergeo\"}], \"scattergl\": [{\"marker\": {\"colorbar\": {\"outlinewidth\": 0, \"ticks\": \"\"}}, \"type\": \"scattergl\"}], \"scattermapbox\": [{\"marker\": {\"colorbar\": {\"outlinewidth\": 0, \"ticks\": \"\"}}, \"type\": \"scattermapbox\"}], \"scatterpolar\": [{\"marker\": {\"colorbar\": {\"outlinewidth\": 0, \"ticks\": \"\"}}, \"type\": \"scatterpolar\"}], \"scatterpolargl\": [{\"marker\": {\"colorbar\": {\"outlinewidth\": 0, \"ticks\": \"\"}}, \"type\": \"scatterpolargl\"}], \"scatterternary\": [{\"marker\": {\"colorbar\": {\"outlinewidth\": 0, \"ticks\": \"\"}}, \"type\": \"scatterternary\"}], \"surface\": [{\"colorbar\": {\"outlinewidth\": 0, \"ticks\": \"\"}, \"colorscale\": [[0.0, \"#0d0887\"], [0.1111111111111111, \"#46039f\"], [0.2222222222222222, \"#7201a8\"], [0.3333333333333333, \"#9c179e\"], [0.4444444444444444, \"#bd3786\"], [0.5555555555555556, \"#d8576b\"], [0.6666666666666666, \"#ed7953\"], [0.7777777777777778, \"#fb9f3a\"], [0.8888888888888888, \"#fdca26\"], [1.0, \"#f0f921\"]], \"type\": \"surface\"}], \"table\": [{\"cells\": {\"fill\": {\"color\": \"#EBF0F8\"}, \"line\": {\"color\": \"white\"}}, \"header\": {\"fill\": {\"color\": \"#C8D4E3\"}, \"line\": {\"color\": \"white\"}}, \"type\": \"table\"}]}, \"layout\": {\"annotationdefaults\": {\"arrowcolor\": \"#2a3f5f\", \"arrowhead\": 0, \"arrowwidth\": 1}, \"coloraxis\": {\"colorbar\": {\"outlinewidth\": 0, \"ticks\": \"\"}}, \"colorscale\": {\"diverging\": [[0, \"#8e0152\"], [0.1, \"#c51b7d\"], [0.2, \"#de77ae\"], [0.3, \"#f1b6da\"], [0.4, \"#fde0ef\"], [0.5, \"#f7f7f7\"], [0.6, \"#e6f5d0\"], [0.7, \"#b8e186\"], [0.8, \"#7fbc41\"], [0.9, \"#4d9221\"], [1, \"#276419\"]], \"sequential\": [[0.0, \"#0d0887\"], [0.1111111111111111, \"#46039f\"], [0.2222222222222222, \"#7201a8\"], [0.3333333333333333, \"#9c179e\"], [0.4444444444444444, \"#bd3786\"], [0.5555555555555556, \"#d8576b\"], [0.6666666666666666, \"#ed7953\"], [0.7777777777777778, \"#fb9f3a\"], [0.8888888888888888, \"#fdca26\"], [1.0, \"#f0f921\"]], \"sequentialminus\": [[0.0, \"#0d0887\"], [0.1111111111111111, \"#46039f\"], [0.2222222222222222, \"#7201a8\"], [0.3333333333333333, \"#9c179e\"], [0.4444444444444444, \"#bd3786\"], [0.5555555555555556, \"#d8576b\"], [0.6666666666666666, \"#ed7953\"], [0.7777777777777778, \"#fb9f3a\"], [0.8888888888888888, \"#fdca26\"], [1.0, \"#f0f921\"]]}, \"colorway\": [\"#636efa\", \"#EF553B\", \"#00cc96\", \"#ab63fa\", \"#FFA15A\", \"#19d3f3\", \"#FF6692\", \"#B6E880\", \"#FF97FF\", \"#FECB52\"], \"font\": {\"color\": \"#2a3f5f\"}, \"geo\": {\"bgcolor\": \"white\", \"lakecolor\": \"white\", \"landcolor\": \"#E5ECF6\", \"showlakes\": true, \"showland\": true, \"subunitcolor\": \"white\"}, \"hoverlabel\": {\"align\": \"left\"}, \"hovermode\": \"closest\", \"mapbox\": {\"style\": \"light\"}, \"paper_bgcolor\": \"white\", \"plot_bgcolor\": \"#E5ECF6\", \"polar\": {\"angularaxis\": {\"gridcolor\": \"white\", \"linecolor\": \"white\", \"ticks\": \"\"}, \"bgcolor\": \"#E5ECF6\", \"radialaxis\": {\"gridcolor\": \"white\", \"linecolor\": \"white\", \"ticks\": \"\"}}, \"scene\": {\"xaxis\": {\"backgroundcolor\": \"#E5ECF6\", \"gridcolor\": \"white\", \"gridwidth\": 2, \"linecolor\": \"white\", \"showbackground\": true, \"ticks\": \"\", \"zerolinecolor\": \"white\"}, \"yaxis\": {\"backgroundcolor\": \"#E5ECF6\", \"gridcolor\": \"white\", \"gridwidth\": 2, \"linecolor\": \"white\", \"showbackground\": true, \"ticks\": \"\", \"zerolinecolor\": \"white\"}, \"zaxis\": {\"backgroundcolor\": \"#E5ECF6\", \"gridcolor\": \"white\", \"gridwidth\": 2, \"linecolor\": \"white\", \"showbackground\": true, \"ticks\": \"\", \"zerolinecolor\": \"white\"}}, \"shapedefaults\": {\"line\": {\"color\": \"#2a3f5f\"}}, \"ternary\": {\"aaxis\": {\"gridcolor\": \"white\", \"linecolor\": \"white\", \"ticks\": \"\"}, \"baxis\": {\"gridcolor\": \"white\", \"linecolor\": \"white\", \"ticks\": \"\"}, \"bgcolor\": \"#E5ECF6\", \"caxis\": {\"gridcolor\": \"white\", \"linecolor\": \"white\", \"ticks\": \"\"}}, \"title\": {\"x\": 0.05}, \"xaxis\": {\"automargin\": true, \"gridcolor\": \"white\", \"linecolor\": \"white\", \"ticks\": \"\", \"title\": {\"standoff\": 15}, \"zerolinecolor\": \"white\", \"zerolinewidth\": 2}, \"yaxis\": {\"automargin\": true, \"gridcolor\": \"white\", \"linecolor\": \"white\", \"ticks\": \"\", \"title\": {\"standoff\": 15}, \"zerolinecolor\": \"white\", \"zerolinewidth\": 2}}}, \"title\": {\"text\": \"Ph\\u00e2n B\\u1ed5 c\\u1ee7a T\\u1eeb Ng\\u1eef #H\\u00e3yTraoChoAnh\"}},                        {\"responsive\": true}                    ).then(function(){\n",
              "                            \n",
              "var gd = document.getElementById('d9e4ac11-4c5d-414e-b8c9-579207bc0399');\n",
              "var x = new MutationObserver(function (mutations, observer) {{\n",
              "        var display = window.getComputedStyle(gd).display;\n",
              "        if (!display || display === 'none') {{\n",
              "            console.log([gd, 'removed!']);\n",
              "            Plotly.purge(gd);\n",
              "            observer.disconnect();\n",
              "        }}\n",
              "}});\n",
              "\n",
              "// Listen for the removal of the full notebook cells\n",
              "var notebookContainer = gd.closest('#notebook-container');\n",
              "if (notebookContainer) {{\n",
              "    x.observe(notebookContainer, {childList: true});\n",
              "}}\n",
              "\n",
              "// Listen for the clearing of the current output cell\n",
              "var outputEl = gd.closest('.output');\n",
              "if (outputEl) {{\n",
              "    x.observe(outputEl, {childList: true});\n",
              "}}\n",
              "\n",
              "                        })                };                            </script>        </div>\n",
              "</body>\n",
              "</html>"
            ]
          },
          "metadata": {
            "tags": []
          }
        },
        {
          "output_type": "stream",
          "text": [
            "time: 61.4 ms\n"
          ],
          "name": "stdout"
        }
      ]
    },
    {
      "cell_type": "code",
      "metadata": {
        "id": "mIdqLcNgWKDN",
        "colab": {
          "base_uri": "https://localhost:8080/",
          "height": 602
        },
        "outputId": "b52336f3-531e-4c37-83d9-93e2c6e99e1a"
      },
      "source": [
        "Neutral_sent = htca[htca['Like Count']== 0]\n",
        "#pos_mask = np.array(Image.open(d+ 'twitter_mask.png'))\n",
        "pos_mask = np.array(Image.open('/content/drive/My Drive/10 Kaggle Projects/AAAFinal Project/Vi dụ demo/comment.png'))\n",
        "plot_wordcloud(Neutral_sent.clean_comment,mask=pos_mask,color='white',max_font_size=150,title_size=20,title=\"WordCloud of #HãyTraoChoAnh\")"
      ],
      "execution_count": null,
      "outputs": [
        {
          "output_type": "display_data",
          "data": {
            "image/png": "[encoded data removed]",
            "text/plain": [
              "<Figure size 936x576 with 1 Axes>"
            ]
          },
          "metadata": {
            "tags": [],
            "needs_background": "light"
          }
        },
        {
          "output_type": "stream",
          "text": [
            "time: 2.52 s\n"
          ],
          "name": "stdout"
        }
      ]
    },
    {
      "cell_type": "markdown",
      "metadata": {
        "id": "GcHU0v9HYCFC"
      },
      "source": [
        "## Áp dụng Phân lớp #HãyTraoChoAnh"
      ]
    },
    {
      "cell_type": "markdown",
      "metadata": {
        "id": "y0NPLolfYKe6"
      },
      "source": [
        "### TẠO MÔ HÌNH SIÊU VECTOR = SVM"
      ]
    },
    {
      "cell_type": "code",
      "metadata": {
        "id": "iBOQPROSYUR2",
        "colab": {
          "base_uri": "https://localhost:8080/",
          "height": 34
        },
        "outputId": "f3c1c225-442e-4c14-914d-36208079801e"
      },
      "source": [
        "import pandas as pd\n",
        "import numpy as np\n",
        "import json\n",
        "\n",
        "#Loading additional helper functions not shown here but provided in the folder\n",
        "#%run nlp_utils_news.ipynb\n",
        "\n",
        "'''Features'''\n",
        "from sklearn.preprocessing import LabelEncoder\n",
        "from sklearn.feature_extraction.text import TfidfVectorizer\n",
        "from sklearn.decomposition import TruncatedSVD\n",
        "from sklearn.preprocessing import label_binarize\n",
        "\n",
        "'''Classifiers'''\n",
        "from sklearn.dummy import DummyClassifier\n",
        "from sklearn.linear_model import SGDClassifier\n",
        "from sklearn.naive_bayes import GaussianNB\n",
        "from sklearn.tree import DecisionTreeClassifier\n",
        "from sklearn.ensemble import RandomForestClassifier, AdaBoostClassifier\n",
        "from sklearn.neighbors import KNeighborsClassifier\n",
        "from sklearn.multiclass import OneVsRestClassifier\n",
        "\n",
        "'''Metrics/Evaluation'''\n",
        "from sklearn.model_selection import train_test_split\n",
        "from sklearn.model_selection import GridSearchCV\n",
        "from sklearn.metrics import accuracy_score, precision_score, recall_score, f1_score, roc_curve, auc, confusion_matrix\n",
        "from scipy import interp\n",
        "from itertools import cycle\n",
        "\n",
        "'''Plotting'''\n",
        "import matplotlib.pyplot as plt\n",
        "import seaborn as sns\n",
        "sns.set_style('darkgrid')\n",
        "\n",
        "'''Display'''\n",
        "from IPython.core.display import display, HTML\n",
        "display(HTML(\"<style>.container { width:95% !important; }</style>\"))\n",
        "import warnings\n",
        "warnings.filterwarnings('ignore')\n",
        "pd.options.display.float_format = '{:,.2f}'.format\n"
      ],
      "execution_count": null,
      "outputs": [
        {
          "output_type": "display_data",
          "data": {
            "text/html": [
              "<style>.container { width:95% !important; }</style>"
            ],
            "text/plain": [
              "<IPython.core.display.HTML object>"
            ]
          },
          "metadata": {
            "tags": []
          }
        },
        {
          "output_type": "stream",
          "text": [
            "time: 17.5 ms\n"
          ],
          "name": "stdout"
        }
      ]
    },
    {
      "cell_type": "code",
      "metadata": {
        "id": "wkSRIQh4YUxJ",
        "colab": {
          "base_uri": "https://localhost:8080/"
        },
        "outputId": "302f1b45-a4ba-415d-ac55-0c625ab15806"
      },
      "source": [
        "#Đọc dữ liệu Train vào DataFrame\n",
        "\n",
        "#ds = DataSource()\n",
        "#train_data = pd.DataFrame(ds.load_data('/content/drive/My Drive/Colab Notebooks/10Project/Data5_NLP_02/data_clean/train.crash'))\n",
        "#train_data = pd.DataFrame(ds.load_data('/content/drive/My Drive/10 Kaggle Projects/AAAFinal Project/Vi dụ demo/Data/data_clean/train.crash'))\n",
        "train_data = pd.read_csv('/content/drive/My Drive/10 Kaggle Projects/AAAFinal Project/Data_Comment/underthesky1.csv')\n",
        "\n",
        "train_data = train_data.rename(columns={'Unnamed: 0': 'ID', 'clean_comment': 'binh_luan'})\n",
        "train_data.head(14000)\n",
        "\n",
        "data_NLP = train_data\n",
        "print (\"Done process at : \", now.strftime(\"%Y-%m-%d %H:%M:%S\"))\n",
        "\n",
        "df= data_NLP\n",
        "\n",
        "#Creating the features (tf-idf weights) for the processed text\n",
        "\n",
        "texts = df['binh_luan'].astype('str')\n",
        "\n",
        "tfidf_vectorizer = TfidfVectorizer(ngram_range=(1, 2), \n",
        "                                   min_df = 2, \n",
        "                                   max_df = .95)\n",
        "\n",
        "X = tfidf_vectorizer.fit_transform(texts) #features\n",
        "y = df['label'].values #target\n",
        "\n",
        "print (X.shape)\n",
        "print(y.shape)"
      ],
      "execution_count": null,
      "outputs": [
        {
          "output_type": "stream",
          "text": [
            "Done process at :  2020-11-13 12:55:47\n",
            "(36000, 37295)\n",
            "(36000,)\n",
            "time: 1.14 s\n"
          ],
          "name": "stdout"
        }
      ]
    },
    {
      "cell_type": "code",
      "metadata": {
        "id": "Wd-havM5Y9PE",
        "colab": {
          "base_uri": "https://localhost:8080/"
        },
        "outputId": "cf0add54-e1cb-49d6-aafc-cc7701a7deb6"
      },
      "source": [
        "#Dimenionality reduction. Only using the 100 best features er category\n",
        "\n",
        "lsa = TruncatedSVD(n_components=100, \n",
        "                   n_iter=10, \n",
        "                   random_state=3)\n",
        "\n",
        "X = lsa.fit_transform(X)\n",
        "X.shape"
      ],
      "execution_count": null,
      "outputs": [
        {
          "output_type": "execute_result",
          "data": {
            "text/plain": [
              "(36000, 100)"
            ]
          },
          "metadata": {
            "tags": []
          },
          "execution_count": 13
        },
        {
          "output_type": "stream",
          "text": [
            "time: 5.68 s\n"
          ],
          "name": "stdout"
        }
      ]
    },
    {
      "cell_type": "code",
      "metadata": {
        "id": "yB-gqfI0ZB3j",
        "colab": {
          "base_uri": "https://localhost:8080/",
          "height": 314
        },
        "outputId": "af58713d-87fa-4efb-b8bc-afc554cb2da2"
      },
      "source": [
        "#Preliminary model evaluation using default parameters\n",
        "from sklearn.naive_bayes import MultinomialNB\n",
        "from sklearn import svm\n",
        "from sklearn.svm import LinearSVC\n",
        "\n",
        "#Creating a dict of the models\n",
        "model_dict = {'Dummy' : DummyClassifier(random_state=3),\n",
        "              #'MultinomialNB': MultinomialNB(alpha=0.01),\n",
        "              'Stochastic Gradient Descent' : SGDClassifier(random_state=3, loss='log'),\n",
        "              'Random Forest': RandomForestClassifier(random_state=3),\n",
        "              'Decsision Tree': DecisionTreeClassifier(random_state=3),\n",
        "              'AdaBoost': AdaBoostClassifier(random_state=3),\n",
        "              'Gaussian Naive Bayes': GaussianNB(),\n",
        "              'Super Vector Machine': LinearSVC(),\n",
        "              'K Nearest Neighbor': KNeighborsClassifier()}\n",
        "\n",
        "#Train test split with stratified sampling for evaluation\n",
        "X_train, X_test, y_train, y_test = train_test_split(X, \n",
        "                                                    y, \n",
        "                                                    test_size = .3, \n",
        "                                                    shuffle = True, \n",
        "                                                    stratify = y, \n",
        "                                                    random_state = 3)\n",
        "\n",
        "#Function to get the scores for each model in a df\n",
        "def model_score_df(model_dict):   \n",
        "    model_name, ac_score_list, p_score_list, r_score_list, f1_score_list = [], [], [], [], []\n",
        "    for k,v in model_dict.items():   \n",
        "        model_name.append(k)\n",
        "        v.fit(X_train, y_train)\n",
        "        y_pred = v.predict(X_test)\n",
        "        ac_score_list.append(accuracy_score(y_test, y_pred))\n",
        "        p_score_list.append(precision_score(y_test, y_pred, average='macro'))\n",
        "        r_score_list.append(recall_score(y_test, y_pred, average='macro'))\n",
        "        f1_score_list.append(f1_score(y_test, y_pred, average='macro'))\n",
        "        model_comparison_df = pd.DataFrame([model_name, ac_score_list, p_score_list, r_score_list, f1_score_list]).T\n",
        "        model_comparison_df.columns = ['model_name', 'accuracy_score', 'precision_score', 'recall_score', 'f1_score']\n",
        "        model_comparison_df = model_comparison_df.sort_values(by='f1_score', ascending=False)\n",
        "    return model_comparison_df\n",
        "\n",
        "score_table = model_score_df(model_dict)\n",
        "score_table"
      ],
      "execution_count": null,
      "outputs": [
        {
          "output_type": "execute_result",
          "data": {
            "text/html": [
              "<div>\n",
              "<style scoped>\n",
              "    .dataframe tbody tr th:only-of-type {\n",
              "        vertical-align: middle;\n",
              "    }\n",
              "\n",
              "    .dataframe tbody tr th {\n",
              "        vertical-align: top;\n",
              "    }\n",
              "\n",
              "    .dataframe thead th {\n",
              "        text-align: right;\n",
              "    }\n",
              "</style>\n",
              "<table border=\"1\" class=\"dataframe\">\n",
              "  <thead>\n",
              "    <tr style=\"text-align: right;\">\n",
              "      <th></th>\n",
              "      <th>model_name</th>\n",
              "      <th>accuracy_score</th>\n",
              "      <th>precision_score</th>\n",
              "      <th>recall_score</th>\n",
              "      <th>f1_score</th>\n",
              "    </tr>\n",
              "  </thead>\n",
              "  <tbody>\n",
              "    <tr>\n",
              "      <th>6</th>\n",
              "      <td>Super Vector Machine</td>\n",
              "      <td>0.97</td>\n",
              "      <td>0.97</td>\n",
              "      <td>0.97</td>\n",
              "      <td>0.97</td>\n",
              "    </tr>\n",
              "    <tr>\n",
              "      <th>2</th>\n",
              "      <td>Random Forest</td>\n",
              "      <td>0.96</td>\n",
              "      <td>0.96</td>\n",
              "      <td>0.96</td>\n",
              "      <td>0.96</td>\n",
              "    </tr>\n",
              "    <tr>\n",
              "      <th>1</th>\n",
              "      <td>Stochastic Gradient Descent</td>\n",
              "      <td>0.96</td>\n",
              "      <td>0.96</td>\n",
              "      <td>0.96</td>\n",
              "      <td>0.96</td>\n",
              "    </tr>\n",
              "    <tr>\n",
              "      <th>3</th>\n",
              "      <td>Decsision Tree</td>\n",
              "      <td>0.93</td>\n",
              "      <td>0.93</td>\n",
              "      <td>0.93</td>\n",
              "      <td>0.93</td>\n",
              "    </tr>\n",
              "    <tr>\n",
              "      <th>4</th>\n",
              "      <td>AdaBoost</td>\n",
              "      <td>0.93</td>\n",
              "      <td>0.93</td>\n",
              "      <td>0.93</td>\n",
              "      <td>0.93</td>\n",
              "    </tr>\n",
              "    <tr>\n",
              "      <th>7</th>\n",
              "      <td>K Nearest Neighbor</td>\n",
              "      <td>0.87</td>\n",
              "      <td>0.88</td>\n",
              "      <td>0.87</td>\n",
              "      <td>0.87</td>\n",
              "    </tr>\n",
              "    <tr>\n",
              "      <th>5</th>\n",
              "      <td>Gaussian Naive Bayes</td>\n",
              "      <td>0.61</td>\n",
              "      <td>0.67</td>\n",
              "      <td>0.61</td>\n",
              "      <td>0.57</td>\n",
              "    </tr>\n",
              "    <tr>\n",
              "      <th>0</th>\n",
              "      <td>Dummy</td>\n",
              "      <td>0.33</td>\n",
              "      <td>0.33</td>\n",
              "      <td>0.33</td>\n",
              "      <td>0.33</td>\n",
              "    </tr>\n",
              "  </tbody>\n",
              "</table>\n",
              "</div>"
            ],
            "text/plain": [
              "                    model_name accuracy_score  ... recall_score f1_score\n",
              "6         Super Vector Machine           0.97  ...         0.97     0.97\n",
              "2                Random Forest           0.96  ...         0.96     0.96\n",
              "1  Stochastic Gradient Descent           0.96  ...         0.96     0.96\n",
              "3               Decsision Tree           0.93  ...         0.93     0.93\n",
              "4                     AdaBoost           0.93  ...         0.93     0.93\n",
              "7           K Nearest Neighbor           0.87  ...         0.87     0.87\n",
              "5         Gaussian Naive Bayes           0.61  ...         0.61     0.57\n",
              "0                        Dummy           0.33  ...         0.33     0.33\n",
              "\n",
              "[8 rows x 5 columns]"
            ]
          },
          "metadata": {
            "tags": []
          },
          "execution_count": 14
        },
        {
          "output_type": "stream",
          "text": [
            "time: 1min 18s\n"
          ],
          "name": "stdout"
        }
      ]
    },
    {
      "cell_type": "code",
      "metadata": {
        "id": "S4GiTePL_G7R",
        "colab": {
          "base_uri": "https://localhost:8080/"
        },
        "outputId": "302a57c3-326d-487c-c722-95391ab7b808"
      },
      "source": [
        "# Phân tích các lơp SVM\n",
        "#df1 = data_NLP\n",
        "df = df.astype({\"label\": 'str'}) \n",
        "X_train, X_test, y_train, y_test,indices_train,indices_test = train_test_split(X, \n",
        "                                                               y, \n",
        "                                                               df.index, test_size=0.25, \n",
        "                                                               random_state=3)\n",
        "model = LinearSVC()\n",
        "model.fit(X_train, y_train)\n",
        "y_pred = model.predict(X_test)\n",
        "\n",
        "# Classification report\n",
        "print('\\t\\t\\t\\tCLASSIFICATIION METRICS\\n')\n",
        "print(metrics.classification_report(y_test, y_pred, \n",
        "                                    target_names= df['label'].unique()))\n"
      ],
      "execution_count": null,
      "outputs": [
        {
          "output_type": "stream",
          "text": [
            "\t\t\t\tCLASSIFICATIION METRICS\n",
            "\n",
            "              precision    recall  f1-score   support\n",
            "\n",
            "         1.0       0.99      0.97      0.98      3015\n",
            "         0.0       0.94      1.00      0.97      2980\n",
            "        -1.0       0.99      0.95      0.97      3005\n",
            "\n",
            "    accuracy                           0.97      9000\n",
            "   macro avg       0.98      0.97      0.97      9000\n",
            "weighted avg       0.98      0.97      0.97      9000\n",
            "\n",
            "time: 792 ms\n"
          ],
          "name": "stdout"
        }
      ]
    },
    {
      "cell_type": "code",
      "metadata": {
        "id": "vfgoO6ncq6UA",
        "colab": {
          "base_uri": "https://localhost:8080/"
        },
        "outputId": "6e047182-2980-48d3-d2e5-26e8c543f953"
      },
      "source": [
        "y_test"
      ],
      "execution_count": null,
      "outputs": [
        {
          "output_type": "execute_result",
          "data": {
            "text/plain": [
              "array([ 1.,  0.,  0., ..., -1.,  1.,  1.])"
            ]
          },
          "metadata": {
            "tags": []
          },
          "execution_count": 17
        },
        {
          "output_type": "stream",
          "text": [
            "time: 2.49 ms\n"
          ],
          "name": "stdout"
        }
      ]
    },
    {
      "cell_type": "code",
      "metadata": {
        "id": "jmtd2uXyu6vu",
        "colab": {
          "base_uri": "https://localhost:8080/"
        },
        "outputId": "02de1949-6584-4402-b25c-dbb57d46415a"
      },
      "source": [
        "y_pred"
      ],
      "execution_count": null,
      "outputs": [
        {
          "output_type": "execute_result",
          "data": {
            "text/plain": [
              "array([ 1.,  0.,  0., ..., -1.,  1.,  1.])"
            ]
          },
          "metadata": {
            "tags": []
          },
          "execution_count": 19
        },
        {
          "output_type": "stream",
          "text": [
            "time: 3.06 ms\n"
          ],
          "name": "stdout"
        }
      ]
    },
    {
      "cell_type": "code",
      "metadata": {
        "id": "dhE2NT3jBB-M",
        "colab": {
          "base_uri": "https://localhost:8080/",
          "height": 549
        },
        "outputId": "c204522e-b4ab-476f-bd01-95530f05f504"
      },
      "source": [
        "#Confusion Matrix #UnderTheSky1 - SVM\n",
        "cm = confusion_matrix(y_test, y_pred) \n",
        "#conf_mat = confusion_matrix(y_test, y_pred)\n",
        "fig, ax = plt.subplots(figsize=(8,8))\n",
        "\n",
        "cm_df = pd.DataFrame(cm,\n",
        "                     index = ['Positive','Neutral','Negative'], \n",
        "                     columns = ['1','0','-1'])\n",
        "sns.heatmap(cm_df, \n",
        "            center=0, \n",
        "            cmap=sns.diverging_palette(220, 15, as_cmap=True), \n",
        "            annot=True, \n",
        "            fmt='g')\n",
        "'''\n",
        "sns.heatmap(conf_mat, annot=True, cmap=\"Blues\", fmt='d',\n",
        "            xticklabels=df.label.values, \n",
        "            yticklabels=df.label.values)\n",
        "'''            \n",
        "plt.ylabel('Actual')\n",
        "plt.xlabel('Predicted')\n",
        "plt.title(\"CONFUSION MATRIX - LinearSVC\\n\", size=16);\n"
      ],
      "execution_count": null,
      "outputs": [
        {
          "output_type": "display_data",
          "data": {
            "image/png": "[encoded data removed]",
            "text/plain": [
              "<Figure size 576x576 with 2 Axes>"
            ]
          },
          "metadata": {
            "tags": []
          }
        },
        {
          "output_type": "stream",
          "text": [
            "time: 264 ms\n"
          ],
          "name": "stdout"
        }
      ]
    },
    {
      "cell_type": "code",
      "metadata": {
        "id": "PaNqR_tYl6_j"
      },
      "source": [
        ""
      ],
      "execution_count": null,
      "outputs": []
    },
    {
      "cell_type": "markdown",
      "metadata": {
        "id": "7GyQHV0hl8Ht"
      },
      "source": [
        "---"
      ]
    },
    {
      "cell_type": "code",
      "metadata": {
        "id": "sfIWWd_zBQxA",
        "colab": {
          "base_uri": "https://localhost:8080/"
        },
        "outputId": "8d191b66-5a6d-4636-c95a-8d3be5be7076"
      },
      "source": [
        "# Predictions - Dự đoán Cho cái mới\n",
        "\n",
        "\n",
        "# Phân tích các lơp SVM\n",
        "#df1 = data_NLP\n",
        "#df = df.astype({\"label\": 'str'}) \n",
        "\n",
        "\n",
        "df1= data_NLP\n",
        "df1 = df1.astype({\"label\": 'str'}) \n",
        "#Creating the features (tf-idf weights) for the processed text\n",
        "\n",
        "texts1 = df1['binh_luan'].astype('str')\n",
        "\n",
        "tfidf_vectorizer = TfidfVectorizer(ngram_range=(1, 2), \n",
        "                                   min_df = 2, \n",
        "                                   max_df = .95)\n",
        "\n",
        "X1 = tfidf_vectorizer.fit_transform(texts1) #features\n",
        "y1 = df1['label'].values #target\n",
        "\n",
        "\n",
        "X_train1, X_test1, y_train1, y_test1,indices_train,indices_test = train_test_split(X1, \n",
        "                                                               y1, \n",
        "                                                               df1.index, test_size=0.25, \n",
        "                                                               random_state=3)\n",
        "\n",
        "model = LinearSVC()\n",
        "model.fit(X_train1, y_train1)\n",
        "y_pred1 = model.predict(X_test1)\n",
        "\n",
        "# Classification report\n",
        "print('\\t\\t\\t\\tCLASSIFICATIION METRICS\\n')\n",
        "print(metrics.classification_report(y_test1, y_pred1, \n",
        "                                    target_names= df1['label'].unique()))\n"
      ],
      "execution_count": null,
      "outputs": [
        {
          "output_type": "stream",
          "text": [
            "\t\t\t\tCLASSIFICATIION METRICS\n",
            "\n",
            "              precision    recall  f1-score   support\n",
            "\n",
            "         1.0       0.99      0.99      0.99      3015\n",
            "         0.0       0.97      1.00      0.99      2980\n",
            "        -1.0       1.00      0.98      0.99      3005\n",
            "\n",
            "    accuracy                           0.99      9000\n",
            "   macro avg       0.99      0.99      0.99      9000\n",
            "weighted avg       0.99      0.99      0.99      9000\n",
            "\n",
            "time: 1.67 s\n"
          ],
          "name": "stdout"
        }
      ]
    },
    {
      "cell_type": "code",
      "metadata": {
        "id": "N64MyrORBzma",
        "colab": {
          "base_uri": "https://localhost:8080/"
        },
        "outputId": "c6a38cab-74ca-4252-ecfd-0c86e3736bae"
      },
      "source": [
        "# Áp dụng Thử Nha:\n",
        "print(' Áp Dụng Thử Nha:')\n",
        "print('------------------------------------------------------')\n",
        "print(\" Ví dụ : \")\n",
        "#new_binh_luan = \"\"\" Thầy Nam hát hayyyyyyyy quá ❤️, nhạc Sơn Tùng quá đỉnh nhưng giọng mình dở quá 😰, dù hát ko hay vẫn cứ hát 👍 yeahhhh\"\"\"\n",
        "new_binh_luan = \"\"\" thks tks ! Thầy Nam hát hayyyyyyyy quá ❤️\"\"\"\n",
        "#new_binh_luan = \"\"\" Thầy Nam hát hayyyyyyyy quá ❤️\"\"\"\n",
        "\n",
        "new_binh_luan1=normalize_text(new_binh_luan)\n",
        "print('Bình luận - Comment :',new_binh_luan)\n",
        "print('------------------------------------------------------')\n",
        "print('Text sau khi xử lý  : ', new_binh_luan1)\n",
        "print('------------------------------------------------------')\n",
        "print('Mô hình dự đoán     : ',model.predict(tfidf_vectorizer.transform([new_binh_luan1])))\n"
      ],
      "execution_count": null,
      "outputs": [
        {
          "output_type": "stream",
          "text": [
            " Áp Dụng Thử Nha:\n",
            "------------------------------------------------------\n",
            " Ví dụ : \n",
            "Bình luận - Comment :  thks tks ! Thầy Nam hát hayyyyyyyy quá ❤️\n",
            "------------------------------------------------------\n",
            "Text sau khi xử lý  :  cám ơn cám ơn thầy nam hát hay quá positive  positive positive positive\n",
            "------------------------------------------------------\n",
            "Mô hình dự đoán     :  ['1.0']\n",
            "time: 11.5 ms\n"
          ],
          "name": "stdout"
        }
      ]
    },
    {
      "cell_type": "code",
      "metadata": {
        "id": "UYvta1UY9jOH",
        "colab": {
          "base_uri": "https://localhost:8080/"
        },
        "outputId": "740a4182-2dfe-4013-d9fa-57c2faa750b3"
      },
      "source": [
        "# Áp dụng Thử Nha:\n",
        "print(' Áp Dụng Thử Nha:')\n",
        "print('------------------------------------------------------')\n",
        "print(\" Ví dụ : \")\n",
        "#new_binh_luan = \"\"\" Thầy Nam hát hayyyyyyyy quá ❤️, nhạc Sơn Tùng quá đỉnh nhưng giọng mình dở quá 😰, dù hát ko hay vẫn cứ hát 👍 yeahhhh\"\"\"\n",
        "new_binh_luan = \"\"\"  Mình thích hát nhưng giọng mình dở quá 😰\"\"\"\n",
        "#new_binh_luan = \"\"\" Thầy Nam hát hayyyyyyyy quá ❤️\"\"\"\n",
        "\n",
        "new_binh_luan1=normalize_text(new_binh_luan)\n",
        "print('Bình luận - Comment :',new_binh_luan)\n",
        "print('------------------------------------------------------')\n",
        "print('Text sau khi xử lý  : ', new_binh_luan1)\n",
        "print('------------------------------------------------------')\n",
        "print('Mô hình dự đoán     : ',model.predict(tfidf_vectorizer.transform([new_binh_luan1])))\n"
      ],
      "execution_count": null,
      "outputs": [
        {
          "output_type": "stream",
          "text": [
            " Áp Dụng Thử Nha:\n",
            "------------------------------------------------------\n",
            " Ví dụ : \n",
            "Bình luận - Comment :   Mình thích hát nhưng giọng mình dở quá 😰\n",
            "------------------------------------------------------\n",
            "Text sau khi xử lý  :  mình thích hát nhưng giọng mình dở quá negative positive negative\n",
            "------------------------------------------------------\n",
            "Mô hình dự đoán     :  ['-1.0']\n",
            "time: 12.5 ms\n"
          ],
          "name": "stdout"
        }
      ]
    },
    {
      "cell_type": "code",
      "metadata": {
        "id": "lhaIF3aR98n3",
        "colab": {
          "base_uri": "https://localhost:8080/"
        },
        "outputId": "c579853f-2eb0-4af6-8195-bd8ba2a13c96"
      },
      "source": [
        "# Áp dụng Thử Nha:\n",
        "print(' Áp Dụng Thử Nha:')\n",
        "print('------------------------------------------------------')\n",
        "print(\" Ví dụ : \")\n",
        "#new_binh_luan = \"\"\" Thầy Nam hát hayyyyyyyy quá ❤️, nhạc Sơn Tùng quá đỉnh nhưng giọng mình dở quá 😰, dù hát ko hay vẫn cứ hát 👍 yeahhhh\"\"\"\n",
        "#new_binh_luan = \"\"\"  Mình thích hát nhưng giọng mình dở quá 😰\"\"\"\n",
        "new_binh_luan = \"\"\" dù hát ko hay vẫn cứ hát 👍 yeahhhh ❤️\"\"\"\n",
        "\n",
        "new_binh_luan1=normalize_text(new_binh_luan)\n",
        "print('Bình luận - Comment :',new_binh_luan)\n",
        "print('------------------------------------------------------')\n",
        "print('Text sau khi xử lý  : ', new_binh_luan1)\n",
        "print('------------------------------------------------------')\n",
        "print('Mô hình dự đoán     : ',model.predict(tfidf_vectorizer.transform([new_binh_luan1])))"
      ],
      "execution_count": null,
      "outputs": [
        {
          "output_type": "stream",
          "text": [
            " Áp Dụng Thử Nha:\n",
            "------------------------------------------------------\n",
            " Ví dụ : \n",
            "Bình luận - Comment :  dù hát ko hay vẫn cứ hát 👍 yeahhhh ❤️\n",
            "------------------------------------------------------\n",
            "Text sau khi xử lý  :  dù hát notpos  vẫn cứ hát positive yeah positive \n",
            "------------------------------------------------------\n",
            "Mô hình dự đoán     :  ['1.0']\n",
            "time: 7.86 ms\n"
          ],
          "name": "stdout"
        }
      ]
    },
    {
      "cell_type": "code",
      "metadata": {
        "id": "EwPUZM6QFqRW",
        "colab": {
          "base_uri": "https://localhost:8080/"
        },
        "outputId": "f2507000-3656-48a5-8c96-e349b185b79a"
      },
      "source": [
        "# Áp dụng Thử Nha:\n",
        "print(' Áp Dụng Thử Nha:')\n",
        "print('------------------------------------------------------')\n",
        "print(\" Ví dụ : \")\n",
        "#new_binh_luan = \"\"\" Thầy Nam hát hayyyyyyyy quá ❤️, nhạc Sơn Tùng quá đỉnh nhưng giọng mình dở quá 😰, dù hát ko hay vẫn cứ hát 👍 yeahhhh\"\"\"\n",
        "#new_binh_luan = \"\"\"  Mình thích hát nhưng giọng mình dở quá 😰\"\"\"\n",
        "new_binh_luan = \"\"\" Nhớ Thương Đầy Vơi Lòng Chơi Với ... Ngủ Sớm Cho Khỏe\"\"\"\n",
        "\n",
        "new_binh_luan1=normalize_text(new_binh_luan)\n",
        "print('Bình luận - Comment :',new_binh_luan)\n",
        "print('------------------------------------------------------')\n",
        "print('Text sau khi xử lý  : ', new_binh_luan1)\n",
        "print('------------------------------------------------------')\n",
        "print('Mô hình dự đoán     : ',model.predict(tfidf_vectorizer.transform([new_binh_luan1])))"
      ],
      "execution_count": null,
      "outputs": [
        {
          "output_type": "stream",
          "text": [
            " Áp Dụng Thử Nha:\n",
            "------------------------------------------------------\n",
            " Ví dụ : \n",
            "Bình luận - Comment :  Nhớ Thương Đầy Vơi Lòng Chơi Với ... Ngủ Sớm Cho Khỏe\n",
            "------------------------------------------------------\n",
            "Text sau khi xử lý  :  nhớ thương đầy vơi lòng chơi với ngủ sớm cho khoẻ\n",
            "------------------------------------------------------\n",
            "Mô hình dự đoán     :  ['0.0']\n",
            "time: 10.3 ms\n"
          ],
          "name": "stdout"
        }
      ]
    },
    {
      "cell_type": "markdown",
      "metadata": {
        "id": "L-_5wNKAmOJs"
      },
      "source": [
        "---"
      ]
    },
    {
      "cell_type": "code",
      "metadata": {
        "id": "4V17iXw5EUcu",
        "colab": {
          "base_uri": "https://localhost:8080/",
          "height": 393
        },
        "outputId": "e6b7bee1-4175-4cf1-9e9d-e3c252672797"
      },
      "source": [
        "htca_p = pd.read_csv('/content/drive/My Drive/10 Kaggle Projects/AAAFinal Project/Data_Comment/Vander_htca.csv')\n",
        "htca_p = htca_p[['clear_all', 'clean_comment', 'text_length', 'Like Count','label']]\n",
        "htca_p = htca_p.astype({\"clean_comment\": 'str'}) \n",
        "#htca_p = train_data.rename(columns={'Unnamed: 0': 'ID', 'clean_comment': 'binh_luan'})\n",
        "print (\"Done process at : \", now.strftime(\"%Y-%m-%d %H:%M:%S\"))\n",
        "htca_p.head(10)"
      ],
      "execution_count": null,
      "outputs": [
        {
          "output_type": "stream",
          "text": [
            "Done process at :  2020-11-13 12:55:47\n"
          ],
          "name": "stdout"
        },
        {
          "output_type": "execute_result",
          "data": {
            "text/html": [
              "<div>\n",
              "<style scoped>\n",
              "    .dataframe tbody tr th:only-of-type {\n",
              "        vertical-align: middle;\n",
              "    }\n",
              "\n",
              "    .dataframe tbody tr th {\n",
              "        vertical-align: top;\n",
              "    }\n",
              "\n",
              "    .dataframe thead th {\n",
              "        text-align: right;\n",
              "    }\n",
              "</style>\n",
              "<table border=\"1\" class=\"dataframe\">\n",
              "  <thead>\n",
              "    <tr style=\"text-align: right;\">\n",
              "      <th></th>\n",
              "      <th>clear_all</th>\n",
              "      <th>clean_comment</th>\n",
              "      <th>text_length</th>\n",
              "      <th>Like Count</th>\n",
              "      <th>label</th>\n",
              "    </tr>\n",
              "  </thead>\n",
              "  <tbody>\n",
              "    <tr>\n",
              "      <th>0</th>\n",
              "      <td>ngăn giọt lệ ngừng khiến khoé mi sầu biiiii</td>\n",
              "      <td>ngăn giọt lệ ngừng khiến khoé mi sầu bi</td>\n",
              "      <td>9.00</td>\n",
              "      <td>0.00</td>\n",
              "      <td>0.00</td>\n",
              "    </tr>\n",
              "    <tr>\n",
              "      <th>1</th>\n",
              "      <td>cá heo</td>\n",
              "      <td>cá_heo</td>\n",
              "      <td>2.00</td>\n",
              "      <td>1.00</td>\n",
              "      <td>0.00</td>\n",
              "    </tr>\n",
              "    <tr>\n",
              "      <th>2</th>\n",
              "      <td>mv đỉnh nhất  vn thời đại</td>\n",
              "      <td>mv đỉnh nhất vn thời_đại positive</td>\n",
              "      <td>6.00</td>\n",
              "      <td>0.00</td>\n",
              "      <td>1.00</td>\n",
              "    </tr>\n",
              "    <tr>\n",
              "      <th>3</th>\n",
              "      <td>hay quá anh ơi</td>\n",
              "      <td>hay quá anh ơi positive</td>\n",
              "      <td>4.00</td>\n",
              "      <td>2.00</td>\n",
              "      <td>1.00</td>\n",
              "    </tr>\n",
              "    <tr>\n",
              "      <th>4</th>\n",
              "      <td>31/10 ai còn nghe ko</td>\n",
              "      <td>31 10 ai còn nghe ko</td>\n",
              "      <td>5.00</td>\n",
              "      <td>1.00</td>\n",
              "      <td>0.00</td>\n",
              "    </tr>\n",
              "    <tr>\n",
              "      <th>5</th>\n",
              "      <td>còn ai nghe k ta</td>\n",
              "      <td>còn ai nghe không ta</td>\n",
              "      <td>5.00</td>\n",
              "      <td>1.00</td>\n",
              "      <td>0.00</td>\n",
              "    </tr>\n",
              "    <tr>\n",
              "      <th>6</th>\n",
              "      <td>lớpppp ziuuu</td>\n",
              "      <td>lớp z yêu positive</td>\n",
              "      <td>2.00</td>\n",
              "      <td>0.00</td>\n",
              "      <td>1.00</td>\n",
              "    </tr>\n",
              "    <tr>\n",
              "      <th>7</th>\n",
              "      <td>i love u chu cà mo</td>\n",
              "      <td>i love u chu cà_mo</td>\n",
              "      <td>6.00</td>\n",
              "      <td>0.00</td>\n",
              "      <td>1.00</td>\n",
              "    </tr>\n",
              "    <tr>\n",
              "      <th>8</th>\n",
              "      <td>123 cái quạt hihi</td>\n",
              "      <td>123 cái quạt positive</td>\n",
              "      <td>4.00</td>\n",
              "      <td>1.00</td>\n",
              "      <td>1.00</td>\n",
              "    </tr>\n",
              "    <tr>\n",
              "      <th>9</th>\n",
              "      <td>giờ còn ai nghe :))\\n31/10/2020</td>\n",
              "      <td>giờ còn ai nghe positive 31 10 2020</td>\n",
              "      <td>6.00</td>\n",
              "      <td>1.00</td>\n",
              "      <td>1.00</td>\n",
              "    </tr>\n",
              "  </tbody>\n",
              "</table>\n",
              "</div>"
            ],
            "text/plain": [
              "                                     clear_all  ... label\n",
              "0  ngăn giọt lệ ngừng khiến khoé mi sầu biiiii  ...  0.00\n",
              "1                                       cá heo  ...  0.00\n",
              "2                    mv đỉnh nhất  vn thời đại  ...  1.00\n",
              "3                               hay quá anh ơi  ...  1.00\n",
              "4                         31/10 ai còn nghe ko  ...  0.00\n",
              "5                             còn ai nghe k ta  ...  0.00\n",
              "6                                 lớpppp ziuuu  ...  1.00\n",
              "7                           i love u chu cà mo  ...  1.00\n",
              "8                            123 cái quạt hihi  ...  1.00\n",
              "9              giờ còn ai nghe :))\\n31/10/2020  ...  1.00\n",
              "\n",
              "[10 rows x 5 columns]"
            ]
          },
          "metadata": {
            "tags": []
          },
          "execution_count": 112
        },
        {
          "output_type": "stream",
          "text": [
            "time: 1.49 s\n"
          ],
          "name": "stdout"
        }
      ]
    },
    {
      "cell_type": "code",
      "metadata": {
        "id": "iXyFQ3ejFVAt",
        "colab": {
          "base_uri": "https://localhost:8080/",
          "height": 221
        },
        "outputId": "142c55b4-0fff-4cf7-edc8-4c10ad353c00"
      },
      "source": [
        "htca_p1"
      ],
      "execution_count": null,
      "outputs": [
        {
          "output_type": "execute_result",
          "data": {
            "text/html": [
              "<div>\n",
              "<style scoped>\n",
              "    .dataframe tbody tr th:only-of-type {\n",
              "        vertical-align: middle;\n",
              "    }\n",
              "\n",
              "    .dataframe tbody tr th {\n",
              "        vertical-align: top;\n",
              "    }\n",
              "\n",
              "    .dataframe thead th {\n",
              "        text-align: right;\n",
              "    }\n",
              "</style>\n",
              "<table border=\"1\" class=\"dataframe\">\n",
              "  <thead>\n",
              "    <tr style=\"text-align: right;\">\n",
              "      <th></th>\n",
              "      <th>clear_all</th>\n",
              "      <th>clean_comment</th>\n",
              "      <th>text_length</th>\n",
              "      <th>Like Count</th>\n",
              "      <th>label</th>\n",
              "    </tr>\n",
              "  </thead>\n",
              "  <tbody>\n",
              "    <tr>\n",
              "      <th>0</th>\n",
              "      <td>ngăn giọt lệ ngừng khiến khoé mi sầu biiiii</td>\n",
              "      <td>ngăn giọt lệ ngừng khiến khoé mi sầu bi</td>\n",
              "      <td>9.00</td>\n",
              "      <td>0.00</td>\n",
              "      <td>0.00</td>\n",
              "    </tr>\n",
              "    <tr>\n",
              "      <th>1</th>\n",
              "      <td>cá heo</td>\n",
              "      <td>cá_heo</td>\n",
              "      <td>2.00</td>\n",
              "      <td>1.00</td>\n",
              "      <td>0.00</td>\n",
              "    </tr>\n",
              "    <tr>\n",
              "      <th>2</th>\n",
              "      <td>mv đỉnh nhất  vn thời đại</td>\n",
              "      <td>mv đỉnh nhất vn thời_đại positive</td>\n",
              "      <td>6.00</td>\n",
              "      <td>0.00</td>\n",
              "      <td>1.00</td>\n",
              "    </tr>\n",
              "    <tr>\n",
              "      <th>3</th>\n",
              "      <td>hay quá anh ơi</td>\n",
              "      <td>hay quá anh ơi positive</td>\n",
              "      <td>4.00</td>\n",
              "      <td>2.00</td>\n",
              "      <td>1.00</td>\n",
              "    </tr>\n",
              "    <tr>\n",
              "      <th>4</th>\n",
              "      <td>31/10 ai còn nghe ko</td>\n",
              "      <td>31 10 ai còn nghe ko</td>\n",
              "      <td>5.00</td>\n",
              "      <td>1.00</td>\n",
              "      <td>0.00</td>\n",
              "    </tr>\n",
              "  </tbody>\n",
              "</table>\n",
              "</div>"
            ],
            "text/plain": [
              "                                     clear_all  ... label\n",
              "0  ngăn giọt lệ ngừng khiến khoé mi sầu biiiii  ...  0.00\n",
              "1                                       cá heo  ...  0.00\n",
              "2                    mv đỉnh nhất  vn thời đại  ...  1.00\n",
              "3                               hay quá anh ơi  ...  1.00\n",
              "4                         31/10 ai còn nghe ko  ...  0.00\n",
              "\n",
              "[5 rows x 5 columns]"
            ]
          },
          "metadata": {
            "tags": []
          },
          "execution_count": 114
        },
        {
          "output_type": "stream",
          "text": [
            "time: 21.3 ms\n"
          ],
          "name": "stdout"
        }
      ]
    },
    {
      "cell_type": "code",
      "metadata": {
        "id": "cwVxkME2tAXk",
        "colab": {
          "base_uri": "https://localhost:8080/",
          "height": 376
        },
        "outputId": "0d7a9b70-521c-439d-dd74-6f268fac4f91"
      },
      "source": [
        "pd.set_option('display.max_rows', 10)\n",
        "#htca_p = htca_p.astype({\"clean_comment\": 'str'})\n",
        "#input=[input]\n",
        "htca_p['Model_SVM'] = model.predict(tfidf_vectorizer.transform(htca_p['clean_comment']))\n",
        "#\n",
        "htca_p.head(10)"
      ],
      "execution_count": null,
      "outputs": [
        {
          "output_type": "execute_result",
          "data": {
            "text/html": [
              "<div>\n",
              "<style scoped>\n",
              "    .dataframe tbody tr th:only-of-type {\n",
              "        vertical-align: middle;\n",
              "    }\n",
              "\n",
              "    .dataframe tbody tr th {\n",
              "        vertical-align: top;\n",
              "    }\n",
              "\n",
              "    .dataframe thead th {\n",
              "        text-align: right;\n",
              "    }\n",
              "</style>\n",
              "<table border=\"1\" class=\"dataframe\">\n",
              "  <thead>\n",
              "    <tr style=\"text-align: right;\">\n",
              "      <th></th>\n",
              "      <th>clear_all</th>\n",
              "      <th>clean_comment</th>\n",
              "      <th>text_length</th>\n",
              "      <th>Like Count</th>\n",
              "      <th>label</th>\n",
              "      <th>Model_SVM</th>\n",
              "    </tr>\n",
              "  </thead>\n",
              "  <tbody>\n",
              "    <tr>\n",
              "      <th>0</th>\n",
              "      <td>ngăn giọt lệ ngừng khiến khoé mi sầu biiiii</td>\n",
              "      <td>ngăn giọt lệ ngừng khiến khoé mi sầu bi</td>\n",
              "      <td>9.00</td>\n",
              "      <td>0.00</td>\n",
              "      <td>0.00</td>\n",
              "      <td>0.0</td>\n",
              "    </tr>\n",
              "    <tr>\n",
              "      <th>1</th>\n",
              "      <td>cá heo</td>\n",
              "      <td>cá_heo</td>\n",
              "      <td>2.00</td>\n",
              "      <td>1.00</td>\n",
              "      <td>0.00</td>\n",
              "      <td>0.0</td>\n",
              "    </tr>\n",
              "    <tr>\n",
              "      <th>2</th>\n",
              "      <td>mv đỉnh nhất  vn thời đại</td>\n",
              "      <td>mv đỉnh nhất vn thời_đại positive</td>\n",
              "      <td>6.00</td>\n",
              "      <td>0.00</td>\n",
              "      <td>1.00</td>\n",
              "      <td>1.0</td>\n",
              "    </tr>\n",
              "    <tr>\n",
              "      <th>3</th>\n",
              "      <td>hay quá anh ơi</td>\n",
              "      <td>hay quá anh ơi positive</td>\n",
              "      <td>4.00</td>\n",
              "      <td>2.00</td>\n",
              "      <td>1.00</td>\n",
              "      <td>1.0</td>\n",
              "    </tr>\n",
              "    <tr>\n",
              "      <th>4</th>\n",
              "      <td>31/10 ai còn nghe ko</td>\n",
              "      <td>31 10 ai còn nghe ko</td>\n",
              "      <td>5.00</td>\n",
              "      <td>1.00</td>\n",
              "      <td>0.00</td>\n",
              "      <td>0.0</td>\n",
              "    </tr>\n",
              "    <tr>\n",
              "      <th>5</th>\n",
              "      <td>còn ai nghe k ta</td>\n",
              "      <td>còn ai nghe không ta</td>\n",
              "      <td>5.00</td>\n",
              "      <td>1.00</td>\n",
              "      <td>0.00</td>\n",
              "      <td>0.0</td>\n",
              "    </tr>\n",
              "    <tr>\n",
              "      <th>6</th>\n",
              "      <td>lớpppp ziuuu</td>\n",
              "      <td>lớp z yêu positive</td>\n",
              "      <td>2.00</td>\n",
              "      <td>0.00</td>\n",
              "      <td>1.00</td>\n",
              "      <td>1.0</td>\n",
              "    </tr>\n",
              "    <tr>\n",
              "      <th>7</th>\n",
              "      <td>i love u chu cà mo</td>\n",
              "      <td>i love u chu cà_mo</td>\n",
              "      <td>6.00</td>\n",
              "      <td>0.00</td>\n",
              "      <td>1.00</td>\n",
              "      <td>1.0</td>\n",
              "    </tr>\n",
              "    <tr>\n",
              "      <th>8</th>\n",
              "      <td>123 cái quạt hihi</td>\n",
              "      <td>123 cái quạt positive</td>\n",
              "      <td>4.00</td>\n",
              "      <td>1.00</td>\n",
              "      <td>1.00</td>\n",
              "      <td>1.0</td>\n",
              "    </tr>\n",
              "    <tr>\n",
              "      <th>9</th>\n",
              "      <td>giờ còn ai nghe :))\\n31/10/2020</td>\n",
              "      <td>giờ còn ai nghe positive 31 10 2020</td>\n",
              "      <td>6.00</td>\n",
              "      <td>1.00</td>\n",
              "      <td>1.00</td>\n",
              "      <td>1.0</td>\n",
              "    </tr>\n",
              "  </tbody>\n",
              "</table>\n",
              "</div>"
            ],
            "text/plain": [
              "                                     clear_all  ... Model_SVM\n",
              "0  ngăn giọt lệ ngừng khiến khoé mi sầu biiiii  ...       0.0\n",
              "1                                       cá heo  ...       0.0\n",
              "2                    mv đỉnh nhất  vn thời đại  ...       1.0\n",
              "3                               hay quá anh ơi  ...       1.0\n",
              "4                         31/10 ai còn nghe ko  ...       0.0\n",
              "5                             còn ai nghe k ta  ...       0.0\n",
              "6                                 lớpppp ziuuu  ...       1.0\n",
              "7                           i love u chu cà mo  ...       1.0\n",
              "8                            123 cái quạt hihi  ...       1.0\n",
              "9              giờ còn ai nghe :))\\n31/10/2020  ...       1.0\n",
              "\n",
              "[10 rows x 6 columns]"
            ]
          },
          "metadata": {
            "tags": []
          },
          "execution_count": 115
        },
        {
          "output_type": "stream",
          "text": [
            "time: 6.72 s\n"
          ],
          "name": "stdout"
        }
      ]
    },
    {
      "cell_type": "code",
      "metadata": {
        "id": "dppI1al_LTIk",
        "colab": {
          "base_uri": "https://localhost:8080/",
          "height": 349
        },
        "outputId": "c92ab7b7-38b7-4689-cad4-de6a9df89b0f"
      },
      "source": [
        "htca_p['Model_SVM'] = htca_p['Model_SVM'].astype('float')\n",
        "print(len(htca_p[htca_p.Model_SVM > 0]),' Vs ',len(htca_p[htca_p.Model_SVM< 0]))\n",
        "print(len(htca_p[htca_p.Model_SVM ==0]))\n",
        "print(len(htca_p.Model_SVM))\n",
        "htca_p.isin([0]).sum()\n",
        "\n",
        "x1 = len(htca_p[htca_p.Model_SVM > 0])\n",
        "#k = len(htca_p [htca_p.label >0]) - x\n",
        "y1 = len(htca_p[htca_p.Model_SVM < 0] )\n",
        "z1 = len(htca_p[htca_p.Model_SVM == 0] )\n",
        "\n",
        "print (x1)\n",
        "\n",
        "import matplotlib.pyplot as plt\n",
        "pie = [x1,y1,z1]\n",
        "my_labels = 'Thích' ,'Ghét','Không Cảm Xúc'\n",
        "plt.pie(pie,labels=my_labels,autopct='%1.1f%%')\n",
        "plt.title('Bình Luận #HãyTraoChoAnh?')\n",
        "plt.axis('equal')\n",
        "plt.show()"
      ],
      "execution_count": null,
      "outputs": [
        {
          "output_type": "stream",
          "text": [
            "186824  Vs  42002\n",
            "407240\n",
            "636066\n",
            "186824\n"
          ],
          "name": "stdout"
        },
        {
          "output_type": "display_data",
          "data": {
            "image/png": "[encoded data removed]",
            "text/plain": [
              "<Figure size 432x288 with 1 Axes>"
            ]
          },
          "metadata": {
            "tags": []
          }
        },
        {
          "output_type": "stream",
          "text": [
            "time: 774 ms\n"
          ],
          "name": "stdout"
        }
      ]
    },
    {
      "cell_type": "code",
      "metadata": {
        "id": "kvQxZnniNQdz",
        "colab": {
          "base_uri": "https://localhost:8080/",
          "height": 352
        },
        "outputId": "b9ad01b4-c4f9-418c-eab0-04e77e48a393"
      },
      "source": [
        "print(len(htca_p[htca_p.label > 0]),' Vs ',len(htca_p[htca_p.label < 0]))\n",
        "print(len(htca_p[htca_p .label ==0]))\n",
        "print(len(htca_p.label))\n",
        "htca_p.isin([0]).sum()\n",
        "\n",
        "x = len(htca_p[htca_p.label > 0])\n",
        "#k = len(htca_p [htca_p.label >0]) - x\n",
        "y = len(htca_p[htca_p.label < 0] )\n",
        "z = len(htca_p[htca_p.label == 0] )\n",
        "\n",
        "print (x)\n",
        "\n",
        "import matplotlib.pyplot as plt\n",
        "pie = [x,y,z]\n",
        "my_labels = 'Thích' ,'Ghét','Không Cảm Xúc'\n",
        "plt.pie(pie,labels=my_labels,autopct='%1.1f%%')\n",
        "plt.title('Bình Luận #HãyTraoChoAnh?')\n",
        "plt.axis('equal')\n",
        "plt.show()"
      ],
      "execution_count": null,
      "outputs": [
        {
          "output_type": "stream",
          "text": [
            "195051  Vs  40575\n",
            "286236\n",
            "636066\n",
            "195051\n"
          ],
          "name": "stdout"
        },
        {
          "output_type": "display_data",
          "data": {
            "image/png": "[encoded data removed]",
            "text/plain": [
              "<Figure size 432x288 with 1 Axes>"
            ]
          },
          "metadata": {
            "tags": []
          }
        },
        {
          "output_type": "stream",
          "text": [
            "time: 596 ms\n"
          ],
          "name": "stdout"
        }
      ]
    },
    {
      "cell_type": "markdown",
      "metadata": {
        "id": "9wjw0nbhb_A9"
      },
      "source": [
        "### Áp dụng Phân lớp cho #HãyTraoChoAnh"
      ]
    },
    {
      "cell_type": "code",
      "metadata": {
        "id": "OZBIzviDssK3",
        "colab": {
          "base_uri": "https://localhost:8080/",
          "height": 559
        },
        "outputId": "19efe9f9-88df-436e-ec25-432cef25009f"
      },
      "source": [
        "import plotly.graph_objects as go\n",
        "from plotly.subplots import make_subplots\n",
        "\n",
        "labels = [\"Thích\", \"Ghét\", \"Không Cảm Xúc\"]\n",
        "\n",
        "# Create subplots: use 'domain' type for Pie subplot\n",
        "fig = make_subplots(rows=1, cols=2, specs=[[{'type':'domain'}, {'type':'domain'}]])\n",
        "fig.add_trace(go.Pie(labels=labels, values=[x, y, z], name=\"PhânLớp ByHand\"),\n",
        "              1, 1)\n",
        "fig.add_trace(go.Pie(labels=labels, values=[x1,y1,z1], name=\"Phân Lớp SVM\"),\n",
        "              1, 2)\n",
        "\n",
        "# Use `hole` to create a donut-like pie chart\n",
        "fig.update_traces(hole=.4, hoverinfo=\"label+percent+name\")\n",
        "\n",
        "fig.update_layout(\n",
        "    title_text=\"So sánh mô hình Phân Lớp Học Máy #HãyTraoChoAnh\",\n",
        "    # Add annotations in the center of the donut pies.\n",
        "    annotations=[dict(text='Bằng Tay', x=0.18, y=0.5, font_size=20, showarrow=False),\n",
        "                 dict(text='Model SVM', x=0.835, y=0.5, font_size=20, showarrow=False)])\n",
        "fig.show()"
      ],
      "execution_count": null,
      "outputs": [
        {
          "output_type": "display_data",
          "data": {
            "text/html": [
              "<html>\n",
              "<head><meta charset=\"utf-8\" /></head>\n",
              "<body>\n",
              "    <div>            <script src=\"https://cdnjs.cloudflare.com/ajax/libs/mathjax/2.7.5/MathJax.js?config=TeX-AMS-MML_SVG\"></script><script type=\"text/javascript\">if (window.MathJax) {MathJax.Hub.Config({SVG: {font: \"STIX-Web\"}});}</script>                <script type=\"text/javascript\">window.PlotlyConfig = {MathJaxConfig: 'local'};</script>\n",
              "        <script src=\"https://cdn.plot.ly/plotly-latest.min.js\"></script>                <div id=\"d12cf23c-0dc7-41d9-a127-0ff3e03e7124\" class=\"plotly-graph-div\" style=\"height:525px; width:100%;\"></div>            <script type=\"text/javascript\">                                    window.PLOTLYENV=window.PLOTLYENV || {};                                    if (document.getElementById(\"d12cf23c-0dc7-41d9-a127-0ff3e03e7124\")) {                    Plotly.newPlot(                        \"d12cf23c-0dc7-41d9-a127-0ff3e03e7124\",                        [{\"domain\": {\"x\": [0.0, 0.45], \"y\": [0.0, 1.0]}, \"hole\": 0.4, \"hoverinfo\": \"label+percent+name\", \"labels\": [\"Th\\u00edch\", \"Gh\\u00e9t\", \"Kh\\u00f4ng C\\u1ea3m X\\u00fac\"], \"name\": \"Ph\\u00e2nL\\u1edbp ByHand\", \"type\": \"pie\", \"values\": [195051, 40575, 286236]}, {\"domain\": {\"x\": [0.55, 1.0], \"y\": [0.0, 1.0]}, \"hole\": 0.4, \"hoverinfo\": \"label+percent+name\", \"labels\": [\"Th\\u00edch\", \"Gh\\u00e9t\", \"Kh\\u00f4ng C\\u1ea3m X\\u00fac\"], \"name\": \"Ph\\u00e2n L\\u1edbp SVM\", \"type\": \"pie\", \"values\": [186824, 42002, 407240]}],                        {\"annotations\": [{\"font\": {\"size\": 20}, \"showarrow\": false, \"text\": \"B\\u1eb1ng Tay\", \"x\": 0.18, \"y\": 0.5}, {\"font\": {\"size\": 20}, \"showarrow\": false, \"text\": \"Model SVM\", \"x\": 0.835, \"y\": 0.5}], \"template\": {\"data\": {\"bar\": [{\"error_x\": {\"color\": \"#2a3f5f\"}, \"error_y\": {\"color\": \"#2a3f5f\"}, \"marker\": {\"line\": {\"color\": \"#E5ECF6\", \"width\": 0.5}}, \"type\": \"bar\"}], \"barpolar\": [{\"marker\": {\"line\": {\"color\": \"#E5ECF6\", \"width\": 0.5}}, \"type\": \"barpolar\"}], \"carpet\": [{\"aaxis\": {\"endlinecolor\": \"#2a3f5f\", \"gridcolor\": \"white\", \"linecolor\": \"white\", \"minorgridcolor\": \"white\", \"startlinecolor\": \"#2a3f5f\"}, \"baxis\": {\"endlinecolor\": \"#2a3f5f\", \"gridcolor\": \"white\", \"linecolor\": \"white\", \"minorgridcolor\": \"white\", \"startlinecolor\": \"#2a3f5f\"}, \"type\": \"carpet\"}], \"choropleth\": [{\"colorbar\": {\"outlinewidth\": 0, \"ticks\": \"\"}, \"type\": \"choropleth\"}], \"contour\": [{\"colorbar\": {\"outlinewidth\": 0, \"ticks\": \"\"}, \"colorscale\": [[0.0, \"#0d0887\"], [0.1111111111111111, \"#46039f\"], [0.2222222222222222, \"#7201a8\"], [0.3333333333333333, \"#9c179e\"], [0.4444444444444444, \"#bd3786\"], [0.5555555555555556, \"#d8576b\"], [0.6666666666666666, \"#ed7953\"], [0.7777777777777778, \"#fb9f3a\"], [0.8888888888888888, \"#fdca26\"], [1.0, \"#f0f921\"]], \"type\": \"contour\"}], \"contourcarpet\": [{\"colorbar\": {\"outlinewidth\": 0, \"ticks\": \"\"}, \"type\": \"contourcarpet\"}], \"heatmap\": [{\"colorbar\": {\"outlinewidth\": 0, \"ticks\": \"\"}, \"colorscale\": [[0.0, \"#0d0887\"], [0.1111111111111111, \"#46039f\"], [0.2222222222222222, \"#7201a8\"], [0.3333333333333333, \"#9c179e\"], [0.4444444444444444, \"#bd3786\"], [0.5555555555555556, \"#d8576b\"], [0.6666666666666666, \"#ed7953\"], [0.7777777777777778, \"#fb9f3a\"], [0.8888888888888888, \"#fdca26\"], [1.0, \"#f0f921\"]], \"type\": \"heatmap\"}], \"heatmapgl\": [{\"colorbar\": {\"outlinewidth\": 0, \"ticks\": \"\"}, \"colorscale\": [[0.0, \"#0d0887\"], [0.1111111111111111, \"#46039f\"], [0.2222222222222222, \"#7201a8\"], [0.3333333333333333, \"#9c179e\"], [0.4444444444444444, \"#bd3786\"], [0.5555555555555556, \"#d8576b\"], [0.6666666666666666, \"#ed7953\"], [0.7777777777777778, \"#fb9f3a\"], [0.8888888888888888, \"#fdca26\"], [1.0, \"#f0f921\"]], \"type\": \"heatmapgl\"}], \"histogram\": [{\"marker\": {\"colorbar\": {\"outlinewidth\": 0, \"ticks\": \"\"}}, \"type\": \"histogram\"}], \"histogram2d\": [{\"colorbar\": {\"outlinewidth\": 0, \"ticks\": \"\"}, \"colorscale\": [[0.0, \"#0d0887\"], [0.1111111111111111, \"#46039f\"], [0.2222222222222222, \"#7201a8\"], [0.3333333333333333, \"#9c179e\"], [0.4444444444444444, \"#bd3786\"], [0.5555555555555556, \"#d8576b\"], [0.6666666666666666, \"#ed7953\"], [0.7777777777777778, \"#fb9f3a\"], [0.8888888888888888, \"#fdca26\"], [1.0, \"#f0f921\"]], \"type\": \"histogram2d\"}], \"histogram2dcontour\": [{\"colorbar\": {\"outlinewidth\": 0, \"ticks\": \"\"}, \"colorscale\": [[0.0, \"#0d0887\"], [0.1111111111111111, \"#46039f\"], [0.2222222222222222, \"#7201a8\"], [0.3333333333333333, \"#9c179e\"], [0.4444444444444444, \"#bd3786\"], [0.5555555555555556, \"#d8576b\"], [0.6666666666666666, \"#ed7953\"], [0.7777777777777778, \"#fb9f3a\"], [0.8888888888888888, \"#fdca26\"], [1.0, \"#f0f921\"]], \"type\": \"histogram2dcontour\"}], \"mesh3d\": [{\"colorbar\": {\"outlinewidth\": 0, \"ticks\": \"\"}, \"type\": \"mesh3d\"}], \"parcoords\": [{\"line\": {\"colorbar\": {\"outlinewidth\": 0, \"ticks\": \"\"}}, \"type\": \"parcoords\"}], \"pie\": [{\"automargin\": true, \"type\": \"pie\"}], \"scatter\": [{\"marker\": {\"colorbar\": {\"outlinewidth\": 0, \"ticks\": \"\"}}, \"type\": \"scatter\"}], \"scatter3d\": [{\"line\": {\"colorbar\": {\"outlinewidth\": 0, \"ticks\": \"\"}}, \"marker\": {\"colorbar\": {\"outlinewidth\": 0, \"ticks\": \"\"}}, \"type\": \"scatter3d\"}], \"scattercarpet\": [{\"marker\": {\"colorbar\": {\"outlinewidth\": 0, \"ticks\": \"\"}}, \"type\": \"scattercarpet\"}], \"scattergeo\": [{\"marker\": {\"colorbar\": {\"outlinewidth\": 0, \"ticks\": \"\"}}, \"type\": \"scattergeo\"}], \"scattergl\": [{\"marker\": {\"colorbar\": {\"outlinewidth\": 0, \"ticks\": \"\"}}, \"type\": \"scattergl\"}], \"scattermapbox\": [{\"marker\": {\"colorbar\": {\"outlinewidth\": 0, \"ticks\": \"\"}}, \"type\": \"scattermapbox\"}], \"scatterpolar\": [{\"marker\": {\"colorbar\": {\"outlinewidth\": 0, \"ticks\": \"\"}}, \"type\": \"scatterpolar\"}], \"scatterpolargl\": [{\"marker\": {\"colorbar\": {\"outlinewidth\": 0, \"ticks\": \"\"}}, \"type\": \"scatterpolargl\"}], \"scatterternary\": [{\"marker\": {\"colorbar\": {\"outlinewidth\": 0, \"ticks\": \"\"}}, \"type\": \"scatterternary\"}], \"surface\": [{\"colorbar\": {\"outlinewidth\": 0, \"ticks\": \"\"}, \"colorscale\": [[0.0, \"#0d0887\"], [0.1111111111111111, \"#46039f\"], [0.2222222222222222, \"#7201a8\"], [0.3333333333333333, \"#9c179e\"], [0.4444444444444444, \"#bd3786\"], [0.5555555555555556, \"#d8576b\"], [0.6666666666666666, \"#ed7953\"], [0.7777777777777778, \"#fb9f3a\"], [0.8888888888888888, \"#fdca26\"], [1.0, \"#f0f921\"]], \"type\": \"surface\"}], \"table\": [{\"cells\": {\"fill\": {\"color\": \"#EBF0F8\"}, \"line\": {\"color\": \"white\"}}, \"header\": {\"fill\": {\"color\": \"#C8D4E3\"}, \"line\": {\"color\": \"white\"}}, \"type\": \"table\"}]}, \"layout\": {\"annotationdefaults\": {\"arrowcolor\": \"#2a3f5f\", \"arrowhead\": 0, \"arrowwidth\": 1}, \"coloraxis\": {\"colorbar\": {\"outlinewidth\": 0, \"ticks\": \"\"}}, \"colorscale\": {\"diverging\": [[0, \"#8e0152\"], [0.1, \"#c51b7d\"], [0.2, \"#de77ae\"], [0.3, \"#f1b6da\"], [0.4, \"#fde0ef\"], [0.5, \"#f7f7f7\"], [0.6, \"#e6f5d0\"], [0.7, \"#b8e186\"], [0.8, \"#7fbc41\"], [0.9, \"#4d9221\"], [1, \"#276419\"]], \"sequential\": [[0.0, \"#0d0887\"], [0.1111111111111111, \"#46039f\"], [0.2222222222222222, \"#7201a8\"], [0.3333333333333333, \"#9c179e\"], [0.4444444444444444, \"#bd3786\"], [0.5555555555555556, \"#d8576b\"], [0.6666666666666666, \"#ed7953\"], [0.7777777777777778, \"#fb9f3a\"], [0.8888888888888888, \"#fdca26\"], [1.0, \"#f0f921\"]], \"sequentialminus\": [[0.0, \"#0d0887\"], [0.1111111111111111, \"#46039f\"], [0.2222222222222222, \"#7201a8\"], [0.3333333333333333, \"#9c179e\"], [0.4444444444444444, \"#bd3786\"], [0.5555555555555556, \"#d8576b\"], [0.6666666666666666, \"#ed7953\"], [0.7777777777777778, \"#fb9f3a\"], [0.8888888888888888, \"#fdca26\"], [1.0, \"#f0f921\"]]}, \"colorway\": [\"#636efa\", \"#EF553B\", \"#00cc96\", \"#ab63fa\", \"#FFA15A\", \"#19d3f3\", \"#FF6692\", \"#B6E880\", \"#FF97FF\", \"#FECB52\"], \"font\": {\"color\": \"#2a3f5f\"}, \"geo\": {\"bgcolor\": \"white\", \"lakecolor\": \"white\", \"landcolor\": \"#E5ECF6\", \"showlakes\": true, \"showland\": true, \"subunitcolor\": \"white\"}, \"hoverlabel\": {\"align\": \"left\"}, \"hovermode\": \"closest\", \"mapbox\": {\"style\": \"light\"}, \"paper_bgcolor\": \"white\", \"plot_bgcolor\": \"#E5ECF6\", \"polar\": {\"angularaxis\": {\"gridcolor\": \"white\", \"linecolor\": \"white\", \"ticks\": \"\"}, \"bgcolor\": \"#E5ECF6\", \"radialaxis\": {\"gridcolor\": \"white\", \"linecolor\": \"white\", \"ticks\": \"\"}}, \"scene\": {\"xaxis\": {\"backgroundcolor\": \"#E5ECF6\", \"gridcolor\": \"white\", \"gridwidth\": 2, \"linecolor\": \"white\", \"showbackground\": true, \"ticks\": \"\", \"zerolinecolor\": \"white\"}, \"yaxis\": {\"backgroundcolor\": \"#E5ECF6\", \"gridcolor\": \"white\", \"gridwidth\": 2, \"linecolor\": \"white\", \"showbackground\": true, \"ticks\": \"\", \"zerolinecolor\": \"white\"}, \"zaxis\": {\"backgroundcolor\": \"#E5ECF6\", \"gridcolor\": \"white\", \"gridwidth\": 2, \"linecolor\": \"white\", \"showbackground\": true, \"ticks\": \"\", \"zerolinecolor\": \"white\"}}, \"shapedefaults\": {\"line\": {\"color\": \"#2a3f5f\"}}, \"ternary\": {\"aaxis\": {\"gridcolor\": \"white\", \"linecolor\": \"white\", \"ticks\": \"\"}, \"baxis\": {\"gridcolor\": \"white\", \"linecolor\": \"white\", \"ticks\": \"\"}, \"bgcolor\": \"#E5ECF6\", \"caxis\": {\"gridcolor\": \"white\", \"linecolor\": \"white\", \"ticks\": \"\"}}, \"title\": {\"x\": 0.05}, \"xaxis\": {\"automargin\": true, \"gridcolor\": \"white\", \"linecolor\": \"white\", \"ticks\": \"\", \"title\": {\"standoff\": 15}, \"zerolinecolor\": \"white\", \"zerolinewidth\": 2}, \"yaxis\": {\"automargin\": true, \"gridcolor\": \"white\", \"linecolor\": \"white\", \"ticks\": \"\", \"title\": {\"standoff\": 15}, \"zerolinecolor\": \"white\", \"zerolinewidth\": 2}}}, \"title\": {\"text\": \"So s\\u00e1nh m\\u00f4 h\\u00ecnh Ph\\u00e2n L\\u1edbp H\\u1ecdc M\\u00e1y #H\\u00e3yTraoChoAnh\"}},                        {\"responsive\": true}                    ).then(function(){\n",
              "                            \n",
              "var gd = document.getElementById('d12cf23c-0dc7-41d9-a127-0ff3e03e7124');\n",
              "var x = new MutationObserver(function (mutations, observer) {{\n",
              "        var display = window.getComputedStyle(gd).display;\n",
              "        if (!display || display === 'none') {{\n",
              "            console.log([gd, 'removed!']);\n",
              "            Plotly.purge(gd);\n",
              "            observer.disconnect();\n",
              "        }}\n",
              "}});\n",
              "\n",
              "// Listen for the removal of the full notebook cells\n",
              "var notebookContainer = gd.closest('#notebook-container');\n",
              "if (notebookContainer) {{\n",
              "    x.observe(notebookContainer, {childList: true});\n",
              "}}\n",
              "\n",
              "// Listen for the clearing of the current output cell\n",
              "var outputEl = gd.closest('.output');\n",
              "if (outputEl) {{\n",
              "    x.observe(outputEl, {childList: true});\n",
              "}}\n",
              "\n",
              "                        })                };                            </script>        </div>\n",
              "</body>\n",
              "</html>"
            ]
          },
          "metadata": {
            "tags": []
          }
        },
        {
          "output_type": "stream",
          "text": [
            "time: 13.2 ms\n"
          ],
          "name": "stdout"
        }
      ]
    },
    {
      "cell_type": "code",
      "metadata": {
        "id": "TESBi8gVS2ei",
        "colab": {
          "base_uri": "https://localhost:8080/",
          "height": 592
        },
        "outputId": "b937a52d-870a-4075-fb34-dc8c0a19b6d4"
      },
      "source": [
        "text =('AI_Academy_Vietnam Python Học_Máy Phân_Lớp Thư_Viện NumPy Pandas Code Phân_Tích Cảm_Ơn Ứng_Dụng Chuỗi_Thời_Gian Dự_Đoán TF_IDF Phân_Loại\\\n",
        " Dataframe NLP OpenCV Debug Bài_Tập Google_Drive Google_Colab Online Zoom Dữ_Liệu Thầy_Nam Cô_Ngọc Thầy_Phương Tommy Cảm_Ơn\\\n",
        " Seaborn Matplotlib Trực_Quan_Hoá Làm_Sạch Tiền_Xử_Lý Hiệu_Quả Sklearn Vector Vui_vẻ Bổ_ích Tommy')\n",
        "\n",
        "# Import packages\n",
        "import matplotlib.pyplot as plt\n",
        "%matplotlib inline\n",
        "\n",
        "# Define a function to plot word cloud\n",
        "def plot_cloud(wordcloud):\n",
        "    # Set figure size\n",
        "    plt.figure(figsize=(10, 10))\n",
        "    # Display image\n",
        "    plt.imshow(wordcloud) \n",
        "    # No axis details\n",
        "    plt.axis(\"off\");\n",
        "\n",
        "\n",
        "\n",
        "# Import packages\n",
        "import numpy as np\n",
        "from PIL import Image# Import image to np.array\n",
        "mask = np.array(Image.open('/content/drive/My Drive/10 Kaggle Projects/AAAFinal Project/Vi dụ demo/Thumbs.png'))# Generate wordcloud\n",
        "wordcloud = WordCloud(width = 1000, height = 600, random_state=1, background_color='white', colormap='Set2', collocations=False, stopwords = STOPWORDS, mask=mask).generate(text)# Plot\n",
        "plot_cloud(wordcloud)"
      ],
      "execution_count": null,
      "outputs": [
        {
          "output_type": "display_data",
          "data": {
            "image/png": "[encoded data removed]",
            "text/plain": [
              "<Figure size 720x720 with 1 Axes>"
            ]
          },
          "metadata": {
            "tags": [],
            "needs_background": "light"
          }
        },
        {
          "output_type": "stream",
          "text": [
            "time: 1.25 s\n"
          ],
          "name": "stdout"
        }
      ]
    },
    {
      "cell_type": "markdown",
      "metadata": {
        "id": "yw3HLLtT-pfc"
      },
      "source": [
        "## WHY IS IT?"
      ]
    },
    {
      "cell_type": "code",
      "metadata": {
        "id": "VHu-heiS-ovg"
      },
      "source": [
        ""
      ],
      "execution_count": null,
      "outputs": []
    },
    {
      "cell_type": "markdown",
      "metadata": {
        "id": "w4WYIdDoK_iQ"
      },
      "source": [
        "# Xử lý EMOJI \n",
        "+ testing"
      ]
    },
    {
      "cell_type": "code",
      "metadata": {
        "id": "yJ5nBb86Xaaf"
      },
      "source": [
        "redefined = {\n",
        "    '👑': '_best',\n",
        "    '🧐': '_skeptical',\n",
        "    '💩': '_shit',\n",
        "    '🌷': '_beautiful',\n",
        "    '🌹': '_affection',\n",
        "    '👍': '_good',\n",
        "    '🤪': '_crazy',\n",
        "    '💅': '_indifferent',\n",
        "    '🙉': '_amuse',\n",
        "    '🙄': '_disappoint',\n",
        "    '🔥': '_great!',\n",
        "    '👏': '_applause',\n",
        "    '😒': '_not amused',\n",
        "    '😝': '_playful',\n",
        "    '💔': '_sad', \n",
        "    '😋': '_delicious',\n",
        "    '🤢': '_bad',\n",
        "    '👎': '_bad',\n",
        "    '👸': '_good',\n",
        "    '🌼': '_appreciate',\n",
        "    '🖕': '_bad',\n",
        "    '✊': '_good',\n",
        "    '😑': '_bored',\n",
        "    '🌝': '_irony',\n",
        "    '🤩': '_wow',\n",
        "    '💯': '_great',\n",
        "    '🤮': '_disgust',\n",
        "    '🙂': '_satisfied',\n",
        "    '🥱': '_bored',\n",
        "    '😪': '_tired',\n",
        "    '😣': '_frustration',\n",
        "    '😜': '_fun',\n",
        "    '🙈': '_oh my god',\n",
        "    '😳': '_surprise',\n",
        "    '🤷': '_indifference',\n",
        "    '🥺': '_please',\n",
        "    '🤬': '_curse',\n",
        "    '🥵': '_sexy',\n",
        "    '🌟': '_brilliant',\n",
        "    '👁👄👁': '_confuse',\n",
        "    '🤯': '_wow',\n",
        "    '🤡': '_fool',\n",
        "    '😆': '_haha',\n",
        "    '😷': '_sick',\n",
        "    '✔️': '_approval',\n",
        "    '🤟': '_love',\n",
        "    '🤨': '_skeptical',\n",
        "    '😏': '_satisfaction',\n",
        "    '🌚': '_ironic',\n",
        "    '😐': '_irritation',\n",
        "    '💄': '_glamour',\n",
        "    '😖': '_frustrate',\n",
        "    '🎊': '_congratulations',\n",
        "    '😜': '_playful',\n",
        "    '😡': '_anger',\n",
        "    '😯': '_surprise',\n",
        "    '🤭': '_shock',\n",
        "    '🙃': '_frustration',\n",
        "    '👊': '_celebrate',\n",
        "    '💪': '_strong',\n",
        "    '😶': '_awkward',\n",
        "    '😥': '_sad',\n",
        "    '🤤': '_yummy',\n",
        "    '🤍': '_heart',\n",
        "    '✔️': '_good',\n",
        "    '😤': '_pride',\n",
        "    '💥': '_wow',\n",
        "    '🙏': '_blessing',\n",
        "    '💣': '_amazing',\n",
        "    '💫': '_great',\n",
        "    '🤧': '_good',\n",
        "    '💀': '_shock',\n",
        "    'kill': '_great',\n",
        "    'killed': '_great',\n",
        "    'killing': '_great',\n",
        "    '😂': '_obnoxious'        \n",
        "}\n",
        "import json\n",
        "with open('redefined.json', 'w') as fp:\n",
        "    json.dump(redefined, fp)"
      ],
      "execution_count": null,
      "outputs": []
    },
    {
      "cell_type": "code",
      "metadata": {
        "id": "TIE_cyTIK-7c",
        "colab": {
          "base_uri": "https://localhost:8080/",
          "height": 37
        },
        "outputId": "1747c0ef-91a4-4be8-bd0c-aba4b02bd7f7"
      },
      "source": [
        "with open('redefined.json', 'r') as fp:\n",
        "    redefined_meaning = json.load(fp)\n",
        "# testing chuyển emoji sang chữ\n",
        "redefined_meaning['🔥']"
      ],
      "execution_count": null,
      "outputs": [
        {
          "output_type": "execute_result",
          "data": {
            "application/vnd.google.colaboratory.intrinsic+json": {
              "type": "string"
            },
            "text/plain": [
              "'_great!'"
            ]
          },
          "metadata": {
            "tags": []
          },
          "execution_count": 72
        }
      ]
    },
    {
      "cell_type": "code",
      "metadata": {
        "id": "DaCLsZ5tLH6v",
        "colab": {
          "base_uri": "https://localhost:8080/",
          "height": 37
        },
        "outputId": "450280dd-2988-4047-d90c-f502a548872f"
      },
      "source": [
        "def replace_emojis_or_word(text, redefined_meaning):\n",
        "    new_text = []\n",
        "    text = re.split(r'(\\s+)', text)\n",
        "    \n",
        "    for word in text:\n",
        "        has_emoji = False\n",
        "        idx_begin = 0\n",
        "        for idx_end, letter in enumerate(word):\n",
        "            if any(char in emoji.UNICODE_EMOJI for char in letter):\n",
        "                # append non-emoji text\n",
        "                new_text += redefined_meaning.get(word[idx_begin:idx_end], word[idx_begin:idx_end]) + ' '\n",
        "                # set new head to one after current idx_end\n",
        "                idx_begin = idx_end + 1\n",
        "\n",
        "                # add the emoji we just found\n",
        "                new_text += redefined_meaning.get(letter, letter) + ' '\n",
        "                has_emoji = True\n",
        "\n",
        "        if not has_emoji:\n",
        "            new_text += redefined_meaning.get(word, word)\n",
        "\n",
        "    return ''.join(new_text)\n",
        "# Testing \n",
        "replace_emojis_or_word('Owh my budda- SonTung is so handsome 😮😮😮', redefined_meaning)"
      ],
      "execution_count": null,
      "outputs": [
        {
          "output_type": "execute_result",
          "data": {
            "application/vnd.google.colaboratory.intrinsic+json": {
              "type": "string"
            },
            "text/plain": [
              "'Owh my budda- SonTung is so handsome  😮  😮  😮 '"
            ]
          },
          "metadata": {
            "tags": []
          },
          "execution_count": 73
        }
      ]
    },
    {
      "cell_type": "code",
      "metadata": {
        "id": "0979-H5VR0V5",
        "colab": {
          "base_uri": "https://localhost:8080/",
          "height": 889
        },
        "outputId": "e9cba37b-8cf1-427c-e409-87ef76a8900d"
      },
      "source": [
        "blackpink['Modified Emojis and Words'] = [replace_emojis_or_word(comment, redefined_meaning) for comment in stripped_urls]\n",
        "blackpink.head(10)"
      ],
      "execution_count": null,
      "outputs": [
        {
          "output_type": "execute_result",
          "data": {
            "text/html": [
              "<div>\n",
              "<style scoped>\n",
              "    .dataframe tbody tr th:only-of-type {\n",
              "        vertical-align: middle;\n",
              "    }\n",
              "\n",
              "    .dataframe tbody tr th {\n",
              "        vertical-align: top;\n",
              "    }\n",
              "\n",
              "    .dataframe thead th {\n",
              "        text-align: right;\n",
              "    }\n",
              "</style>\n",
              "<table border=\"1\" class=\"dataframe\">\n",
              "  <thead>\n",
              "    <tr style=\"text-align: right;\">\n",
              "      <th></th>\n",
              "      <th>Comment</th>\n",
              "      <th>Comment ID</th>\n",
              "      <th>Reply Count</th>\n",
              "      <th>Like Count</th>\n",
              "      <th>Updated At</th>\n",
              "      <th>Viewer Rating</th>\n",
              "      <th>Lang</th>\n",
              "      <th>Stripped Urls</th>\n",
              "      <th>Stripped Emojis</th>\n",
              "      <th>Stripped Symbols</th>\n",
              "      <th>lowercase_and_all_stripped</th>\n",
              "      <th>expanded_langs</th>\n",
              "      <th>Modified Emojis and Words</th>\n",
              "    </tr>\n",
              "  </thead>\n",
              "  <tbody>\n",
              "    <tr>\n",
              "      <th>0</th>\n",
              "      <td>LẠC TRÔI (TRIPLE D REMIX) | 360 DEGREE MV |  S...</td>\n",
              "      <td>UgxkMePlfTxtvesUSJl4AaABAg</td>\n",
              "      <td>446</td>\n",
              "      <td>27362</td>\n",
              "      <td>none</td>\n",
              "      <td>2017-09-08T13:16:21Z\\r</td>\n",
              "      <td>lang</td>\n",
              "      <td>LẠC TRÔI (TRIPLE D REMIX) | 360 DEGREE MV |  S...</td>\n",
              "      <td>LẠC TRÔI (TRIPLE D REMIX) | 360 DEGREE MV |  S...</td>\n",
              "      <td>LẠC TRÔI TRIPLE D REMIX DEGREE MV SƠN TÙNG M T...</td>\n",
              "      <td>lạc trôi (triple d remix) | 360 degree mv |  s...</td>\n",
              "      <td>Vietnamese</td>\n",
              "      <td>LẠC TRÔI (TRIPLE D REMIX) | 360 DEGREE MV |  S...</td>\n",
              "    </tr>\n",
              "    <tr>\n",
              "      <th>1</th>\n",
              "      <td>Còn ai nghe bài này k</td>\n",
              "      <td>Ugwkpg6M_6W1BR2gux14AaABAg</td>\n",
              "      <td>0</td>\n",
              "      <td>1</td>\n",
              "      <td>none</td>\n",
              "      <td>2020-10-31T03:16:38Z\\r</td>\n",
              "      <td>lang</td>\n",
              "      <td>Còn ai nghe bài này k</td>\n",
              "      <td>Còn ai nghe bài này k</td>\n",
              "      <td>Còn ai nghe bài này k</td>\n",
              "      <td>còn ai nghe bài này k</td>\n",
              "      <td>Vietnamese</td>\n",
              "      <td>Còn ai nghe bài này k</td>\n",
              "    </tr>\n",
              "    <tr>\n",
              "      <th>2</th>\n",
              "      <td>Nguoi theo huong hoa</td>\n",
              "      <td>UgwP9JhVu_QeC2Sl9fx4AaABAg</td>\n",
              "      <td>0</td>\n",
              "      <td>1</td>\n",
              "      <td>none</td>\n",
              "      <td>2020-10-31T03:16:29Z\\r</td>\n",
              "      <td>lang</td>\n",
              "      <td>Nguoi theo huong hoa</td>\n",
              "      <td>Nguoi theo huong hoa</td>\n",
              "      <td>Nguoi theo huong hoa</td>\n",
              "      <td>nguoi theo huong hoa</td>\n",
              "      <td>unsure</td>\n",
              "      <td>Nguoi theo huong hoa</td>\n",
              "    </tr>\n",
              "    <tr>\n",
              "      <th>3</th>\n",
              "      <td>nhạc của Sơn Tùng vẫn hay nhất 1 /11 / 2020</td>\n",
              "      <td>UgxffF52k7LTUQf7h5N4AaABAg</td>\n",
              "      <td>0</td>\n",
              "      <td>1</td>\n",
              "      <td>none</td>\n",
              "      <td>2020-10-31T01:50:03Z\\r</td>\n",
              "      <td>lang</td>\n",
              "      <td>nhạc của Sơn Tùng vẫn hay nhất 1 /11 / 2020</td>\n",
              "      <td>nhạc của Sơn Tùng vẫn hay nhất 1 /11 / 2020</td>\n",
              "      <td>nhạc của Sơn Tùng vẫn hay nhất</td>\n",
              "      <td>nhạc của sơn tùng vẫn hay nhất 1 /11 / 2020</td>\n",
              "      <td>Vietnamese</td>\n",
              "      <td>nhạc của Sơn Tùng vẫn hay nhất 1 /11 / 2020</td>\n",
              "    </tr>\n",
              "    <tr>\n",
              "      <th>4</th>\n",
              "      <td>Dinh cao am nhac</td>\n",
              "      <td>UgzcxjXdrNYSiT041BR4AaABAg</td>\n",
              "      <td>0</td>\n",
              "      <td>1</td>\n",
              "      <td>none</td>\n",
              "      <td>2020-10-31T01:45:36Z\\r</td>\n",
              "      <td>lang</td>\n",
              "      <td>Dinh cao am nhac</td>\n",
              "      <td>Dinh cao am nhac</td>\n",
              "      <td>Dinh cao am nhac</td>\n",
              "      <td>dinh cao am nhac</td>\n",
              "      <td>unsure</td>\n",
              "      <td>Dinh cao am nhac</td>\n",
              "    </tr>\n",
              "    <tr>\n",
              "      <th>5</th>\n",
              "      <td>08:02</td>\n",
              "      <td>UgxMeIugr1A3Jo1z9_t4AaABAg</td>\n",
              "      <td>0</td>\n",
              "      <td>2</td>\n",
              "      <td>none</td>\n",
              "      <td>2020-10-31T01:01:48Z\\r</td>\n",
              "      <td>non-alphanum</td>\n",
              "      <td>08:02</td>\n",
              "      <td>08:02</td>\n",
              "      <td></td>\n",
              "      <td>08:02</td>\n",
              "      <td>NaN</td>\n",
              "      <td>08:02</td>\n",
              "    </tr>\n",
              "    <tr>\n",
              "      <th>6</th>\n",
              "      <td>Cố 800K nha</td>\n",
              "      <td>UgwPfFkfdwgTRhwyXJR4AaABAg</td>\n",
              "      <td>1</td>\n",
              "      <td>3</td>\n",
              "      <td>none</td>\n",
              "      <td>2020-10-31T00:33:35Z\\r</td>\n",
              "      <td>lang</td>\n",
              "      <td>Cố 800K nha</td>\n",
              "      <td>Cố 800K nha</td>\n",
              "      <td>Cố 800K nha</td>\n",
              "      <td>cố 800k nha</td>\n",
              "      <td>Vietnamese</td>\n",
              "      <td>Cố 800K nha</td>\n",
              "    </tr>\n",
              "    <tr>\n",
              "      <th>7</th>\n",
              "      <td>ai còn xem?</td>\n",
              "      <td>Ugw9soLs_PO9rFtNLpN4AaABAg</td>\n",
              "      <td>1</td>\n",
              "      <td>2</td>\n",
              "      <td>none</td>\n",
              "      <td>2020-10-30T23:10:36Z\\r</td>\n",
              "      <td>lang</td>\n",
              "      <td>ai còn xem?</td>\n",
              "      <td>ai còn xem?</td>\n",
              "      <td>ai còn xem</td>\n",
              "      <td>ai còn xem?</td>\n",
              "      <td>unsure</td>\n",
              "      <td>ai còn xem?</td>\n",
              "    </tr>\n",
              "    <tr>\n",
              "      <th>8</th>\n",
              "      <td>Ko hiểu sao viết đc bài này !!! 1 từ thôi \" Đỉ...</td>\n",
              "      <td>UgziOhGfKmXspR_Hy4p4AaABAg</td>\n",
              "      <td>0</td>\n",
              "      <td>2</td>\n",
              "      <td>none</td>\n",
              "      <td>2020-10-30T17:02:24Z\\r</td>\n",
              "      <td>lang</td>\n",
              "      <td>Ko hiểu sao viết đc bài này !!! 1 từ thôi \" Đỉ...</td>\n",
              "      <td>Ko hiểu sao viết đc bài này !!! 1 từ thôi \" Đỉ...</td>\n",
              "      <td>Ko hiểu sao viết đc bài này từ thôi Đỉnh</td>\n",
              "      <td>ko hiểu sao viết đc bài này !!! 1 từ thôi \" đỉ...</td>\n",
              "      <td>Vietnamese</td>\n",
              "      <td>Ko hiểu sao viết đc bài này !!! 1 từ thôi \" Đỉ...</td>\n",
              "    </tr>\n",
              "    <tr>\n",
              "      <th>9</th>\n",
              "      <td>hello  sky</td>\n",
              "      <td>UgyUxKjX92Y3272O6sV4AaABAg</td>\n",
              "      <td>1</td>\n",
              "      <td>2</td>\n",
              "      <td>none</td>\n",
              "      <td>2020-10-30T16:56:34Z\\r</td>\n",
              "      <td>lang</td>\n",
              "      <td>hello  sky</td>\n",
              "      <td>hello  sky</td>\n",
              "      <td>hello sky</td>\n",
              "      <td>hello  sky</td>\n",
              "      <td>unsure</td>\n",
              "      <td>hello  sky</td>\n",
              "    </tr>\n",
              "  </tbody>\n",
              "</table>\n",
              "</div>"
            ],
            "text/plain": [
              "                                             Comment  ...                          Modified Emojis and Words\n",
              "0  LẠC TRÔI (TRIPLE D REMIX) | 360 DEGREE MV |  S...  ...  LẠC TRÔI (TRIPLE D REMIX) | 360 DEGREE MV |  S...\n",
              "1                              Còn ai nghe bài này k  ...                              Còn ai nghe bài này k\n",
              "2                               Nguoi theo huong hoa  ...                               Nguoi theo huong hoa\n",
              "3        nhạc của Sơn Tùng vẫn hay nhất 1 /11 / 2020  ...        nhạc của Sơn Tùng vẫn hay nhất 1 /11 / 2020\n",
              "4                                   Dinh cao am nhac  ...                                   Dinh cao am nhac\n",
              "5                                              08:02  ...                                              08:02\n",
              "6                                        Cố 800K nha  ...                                        Cố 800K nha\n",
              "7                                        ai còn xem?  ...                                        ai còn xem?\n",
              "8  Ko hiểu sao viết đc bài này !!! 1 từ thôi \" Đỉ...  ...  Ko hiểu sao viết đc bài này !!! 1 từ thôi \" Đỉ...\n",
              "9                                         hello  sky  ...                                         hello  sky\n",
              "\n",
              "[10 rows x 13 columns]"
            ]
          },
          "metadata": {
            "tags": []
          },
          "execution_count": 74
        }
      ]
    },
    {
      "cell_type": "code",
      "metadata": {
        "id": "C0I5_BfgRz9I",
        "colab": {
          "base_uri": "https://localhost:8080/",
          "height": 37
        },
        "outputId": "e8bdef23-089c-4d79-90c4-b4136ea03f92"
      },
      "source": [
        "strip_symbols(\"**Hello there beautiful😮😮😮\")\n"
      ],
      "execution_count": null,
      "outputs": [
        {
          "output_type": "execute_result",
          "data": {
            "application/vnd.google.colaboratory.intrinsic+json": {
              "type": "string"
            },
            "text/plain": [
              "'Hello there beautiful'"
            ]
          },
          "metadata": {
            "tags": []
          },
          "execution_count": 75
        }
      ]
    },
    {
      "cell_type": "code",
      "metadata": {
        "id": "6aDpETdPRziP",
        "colab": {
          "base_uri": "https://localhost:8080/",
          "height": 37
        },
        "outputId": "10ff0e6d-3342-4e3f-970b-e18c39fb1ff9"
      },
      "source": [
        "def keep_emojis_strip_symbols(text):\n",
        "    stripped = []\n",
        "    \n",
        "    text_to_words = text.split()\n",
        "    for word in text_to_words:\n",
        "        data = regex.findall(r'\\X', word)\n",
        "        has_emoji = False\n",
        "        the_emoji = []\n",
        "        for char_combo in data:\n",
        "            if any(char in emoji.UNICODE_EMOJI for char in char_combo):\n",
        "                has_emoji = True\n",
        "                break\n",
        "            else:\n",
        "                continue\n",
        "                \n",
        "        # after analyzing the characters of a word\n",
        "        if has_emoji:\n",
        "            stripped.append(''.join(word))\n",
        "        else:\n",
        "            stripped.append(strip_symbols(word))\n",
        "    return ' '.join(stripped)\n",
        "# tesitng\n",
        "keep_emojis_strip_symbols(\"owh my goot Thay Nam is so excellent 😮 😮 😮\")\n",
        "\n"
      ],
      "execution_count": null,
      "outputs": [
        {
          "output_type": "execute_result",
          "data": {
            "application/vnd.google.colaboratory.intrinsic+json": {
              "type": "string"
            },
            "text/plain": [
              "'owh my goot Thay Nam is so excellent 😮 😮 😮'"
            ]
          },
          "metadata": {
            "tags": []
          },
          "execution_count": 77
        }
      ]
    },
    {
      "cell_type": "code",
      "metadata": {
        "id": "aiEPZhVpZCcT",
        "colab": {
          "background_save": true,
          "base_uri": "https://localhost:8080/"
        },
        "outputId": "b6357567-981e-421f-a075-2069ded0b939"
      },
      "source": [
        "#!python -m spacy download en \n",
        "!pip3 install spacy\n",
        "#!python3 -m spacy download en_core_web_sm\n",
        "!python -m spacy download en_core_web_md"
      ],
      "execution_count": null,
      "outputs": [
        {
          "output_type": "stream",
          "text": [
            "Requirement already satisfied: spacy in /usr/local/lib/python3.6/dist-packages (2.2.4)\n",
            "Requirement already satisfied: catalogue<1.1.0,>=0.0.7 in /usr/local/lib/python3.6/dist-packages (from spacy) (1.0.0)\n",
            "Requirement already satisfied: numpy>=1.15.0 in /usr/local/lib/python3.6/dist-packages (from spacy) (1.19.0)\n",
            "Requirement already satisfied: blis<0.5.0,>=0.4.0 in /usr/local/lib/python3.6/dist-packages (from spacy) (0.4.1)\n",
            "Requirement already satisfied: wasabi<1.1.0,>=0.4.0 in /usr/local/lib/python3.6/dist-packages (from spacy) (0.8.0)\n",
            "Requirement already satisfied: setuptools in /usr/local/lib/python3.6/dist-packages (from spacy) (50.3.2)\n",
            "Requirement already satisfied: thinc==7.4.0 in /usr/local/lib/python3.6/dist-packages (from spacy) (7.4.0)\n",
            "Requirement already satisfied: cymem<2.1.0,>=2.0.2 in /usr/local/lib/python3.6/dist-packages (from spacy) (2.0.4)\n",
            "Requirement already satisfied: srsly<1.1.0,>=1.0.2 in /usr/local/lib/python3.6/dist-packages (from spacy) (1.0.2)\n",
            "Requirement already satisfied: murmurhash<1.1.0,>=0.28.0 in /usr/local/lib/python3.6/dist-packages (from spacy) (1.0.3)\n",
            "Requirement already satisfied: preshed<3.1.0,>=3.0.2 in /usr/local/lib/python3.6/dist-packages (from spacy) (3.0.2)\n",
            "Requirement already satisfied: tqdm<5.0.0,>=4.38.0 in /usr/local/lib/python3.6/dist-packages (from spacy) (4.41.1)\n",
            "Requirement already satisfied: requests<3.0.0,>=2.13.0 in /usr/local/lib/python3.6/dist-packages (from spacy) (2.24.0)\n",
            "Requirement already satisfied: plac<1.2.0,>=0.9.6 in /usr/local/lib/python3.6/dist-packages (from spacy) (1.1.3)\n",
            "Requirement already satisfied: importlib-metadata>=0.20; python_version < \"3.8\" in /usr/local/lib/python3.6/dist-packages (from catalogue<1.1.0,>=0.0.7->spacy) (2.0.0)\n",
            "Requirement already satisfied: urllib3!=1.25.0,!=1.25.1,<1.26,>=1.21.1 in /usr/local/lib/python3.6/dist-packages (from requests<3.0.0,>=2.13.0->spacy) (1.25.9)\n",
            "Requirement already satisfied: certifi>=2017.4.17 in /usr/local/lib/python3.6/dist-packages (from requests<3.0.0,>=2.13.0->spacy) (2020.6.20)\n",
            "Requirement already satisfied: idna<3,>=2.5 in /usr/local/lib/python3.6/dist-packages (from requests<3.0.0,>=2.13.0->spacy) (2.10)\n",
            "Requirement already satisfied: chardet<4,>=3.0.2 in /usr/local/lib/python3.6/dist-packages (from requests<3.0.0,>=2.13.0->spacy) (3.0.4)\n",
            "Requirement already satisfied: zipp>=0.5 in /usr/local/lib/python3.6/dist-packages (from importlib-metadata>=0.20; python_version < \"3.8\"->catalogue<1.1.0,>=0.0.7->spacy) (3.4.0)\n",
            "Collecting en_core_web_md==2.2.5\n",
            "\u001b[?25l  Downloading https://github.com/explosion/spacy-models/releases/download/en_core_web_md-2.2.5/en_core_web_md-2.2.5.tar.gz (96.4MB)\n",
            "     |████████████████████████████████| 96.4MB 3.1MB/s \n",
            "\u001b[?25hRequirement already satisfied: spacy>=2.2.2 in /usr/local/lib/python3.6/dist-packages (from en_core_web_md==2.2.5) (2.2.4)\n",
            "Requirement already satisfied: wasabi<1.1.0,>=0.4.0 in /usr/local/lib/python3.6/dist-packages (from spacy>=2.2.2->en_core_web_md==2.2.5) (0.8.0)\n",
            "Requirement already satisfied: preshed<3.1.0,>=3.0.2 in /usr/local/lib/python3.6/dist-packages (from spacy>=2.2.2->en_core_web_md==2.2.5) (3.0.2)\n",
            "Requirement already satisfied: thinc==7.4.0 in /usr/local/lib/python3.6/dist-packages (from spacy>=2.2.2->en_core_web_md==2.2.5) (7.4.0)\n",
            "Requirement already satisfied: tqdm<5.0.0,>=4.38.0 in /usr/local/lib/python3.6/dist-packages (from spacy>=2.2.2->en_core_web_md==2.2.5) (4.41.1)\n",
            "Requirement already satisfied: requests<3.0.0,>=2.13.0 in /usr/local/lib/python3.6/dist-packages (from spacy>=2.2.2->en_core_web_md==2.2.5) (2.24.0)\n",
            "Requirement already satisfied: srsly<1.1.0,>=1.0.2 in /usr/local/lib/python3.6/dist-packages (from spacy>=2.2.2->en_core_web_md==2.2.5) (1.0.2)\n",
            "Requirement already satisfied: numpy>=1.15.0 in /usr/local/lib/python3.6/dist-packages (from spacy>=2.2.2->en_core_web_md==2.2.5) (1.19.0)\n",
            "Requirement already satisfied: cymem<2.1.0,>=2.0.2 in /usr/local/lib/python3.6/dist-packages (from spacy>=2.2.2->en_core_web_md==2.2.5) (2.0.4)\n",
            "Requirement already satisfied: catalogue<1.1.0,>=0.0.7 in /usr/local/lib/python3.6/dist-packages (from spacy>=2.2.2->en_core_web_md==2.2.5) (1.0.0)\n",
            "Requirement already satisfied: plac<1.2.0,>=0.9.6 in /usr/local/lib/python3.6/dist-packages (from spacy>=2.2.2->en_core_web_md==2.2.5) (1.1.3)\n",
            "Requirement already satisfied: blis<0.5.0,>=0.4.0 in /usr/local/lib/python3.6/dist-packages (from spacy>=2.2.2->en_core_web_md==2.2.5) (0.4.1)\n",
            "Requirement already satisfied: murmurhash<1.1.0,>=0.28.0 in /usr/local/lib/python3.6/dist-packages (from spacy>=2.2.2->en_core_web_md==2.2.5) (1.0.3)\n",
            "Requirement already satisfied: setuptools in /usr/local/lib/python3.6/dist-packages (from spacy>=2.2.2->en_core_web_md==2.2.5) (50.3.2)\n",
            "Requirement already satisfied: urllib3!=1.25.0,!=1.25.1,<1.26,>=1.21.1 in /usr/local/lib/python3.6/dist-packages (from requests<3.0.0,>=2.13.0->spacy>=2.2.2->en_core_web_md==2.2.5) (1.25.9)\n",
            "Requirement already satisfied: chardet<4,>=3.0.2 in /usr/local/lib/python3.6/dist-packages (from requests<3.0.0,>=2.13.0->spacy>=2.2.2->en_core_web_md==2.2.5) (3.0.4)\n",
            "Requirement already satisfied: certifi>=2017.4.17 in /usr/local/lib/python3.6/dist-packages (from requests<3.0.0,>=2.13.0->spacy>=2.2.2->en_core_web_md==2.2.5) (2020.6.20)\n",
            "Requirement already satisfied: idna<3,>=2.5 in /usr/local/lib/python3.6/dist-packages (from requests<3.0.0,>=2.13.0->spacy>=2.2.2->en_core_web_md==2.2.5) (2.10)\n",
            "Requirement already satisfied: importlib-metadata>=0.20; python_version < \"3.8\" in /usr/local/lib/python3.6/dist-packages (from catalogue<1.1.0,>=0.0.7->spacy>=2.2.2->en_core_web_md==2.2.5) (2.0.0)\n",
            "Requirement already satisfied: zipp>=0.5 in /usr/local/lib/python3.6/dist-packages (from importlib-metadata>=0.20; python_version < \"3.8\"->catalogue<1.1.0,>=0.0.7->spacy>=2.2.2->en_core_web_md==2.2.5) (3.4.0)\n",
            "Building wheels for collected packages: en-core-web-md\n",
            "  Building wheel for en-core-web-md (setup.py) ... \u001b[?25l\u001b[?25hdone\n",
            "  Created wheel for en-core-web-md: filename=en_core_web_md-2.2.5-cp36-none-any.whl size=98051305 sha256=bf5575aeea4566e8c595c1a14f4ab15a0107bfc8f4b06dd7e9c595da7d34da03\n",
            "  Stored in directory: /tmp/pip-ephem-wheel-cache-sp5u1jqi/wheels/df/94/ad/f5cf59224cea6b5686ac4fd1ad19c8a07bc026e13c36502d81\n",
            "Successfully built en-core-web-md\n",
            "Installing collected packages: en-core-web-md\n",
            "Successfully installed en-core-web-md-2.2.5\n",
            "✔ Download and installation successful\n",
            "You can now load the model via spacy.load('en_core_web_md')\n",
            "time: 39.7 s\n"
          ],
          "name": "stdout"
        }
      ]
    },
    {
      "cell_type": "code",
      "metadata": {
        "id": "WpxP437xfBD-",
        "colab": {
          "base_uri": "https://localhost:8080/"
        },
        "outputId": "dc78b222-ae01-4336-ccd0-57c7697c5a6b"
      },
      "source": [
        "!pip install <model_s3_url> # tar.gz file e.g. from release notes like https://github.com/explosion/spacy-models/releases//tag/en_core_web_lg-2.3.1\n",
        "!pip install en_core_web_md\n"
      ],
      "execution_count": null,
      "outputs": [
        {
          "output_type": "stream",
          "text": [
            "/bin/bash: -c: line 0: syntax error near unexpected token `newline'\n",
            "/bin/bash: -c: line 0: `pip install <model_s3_url> # tar.gz file e.g. from release notes like https://github.com/explosion/spacy-models/releases//tag/en_core_web_lg-2.3.1'\n",
            "Requirement already satisfied: en_core_web_md in /usr/local/lib/python3.6/dist-packages (2.3.1)\n",
            "Requirement already satisfied: spacy<2.4.0,>=2.3.0 in /usr/local/lib/python3.6/dist-packages (from en_core_web_md) (2.3.2)\n",
            "Requirement already satisfied: catalogue<1.1.0,>=0.0.7 in /usr/local/lib/python3.6/dist-packages (from spacy<2.4.0,>=2.3.0->en_core_web_md) (1.0.0)\n",
            "Requirement already satisfied: wasabi<1.1.0,>=0.4.0 in /usr/local/lib/python3.6/dist-packages (from spacy<2.4.0,>=2.3.0->en_core_web_md) (0.8.0)\n",
            "Requirement already satisfied: thinc==7.4.1 in /usr/local/lib/python3.6/dist-packages (from spacy<2.4.0,>=2.3.0->en_core_web_md) (7.4.1)\n",
            "Requirement already satisfied: blis<0.5.0,>=0.4.0 in /usr/local/lib/python3.6/dist-packages (from spacy<2.4.0,>=2.3.0->en_core_web_md) (0.4.1)\n",
            "Requirement already satisfied: tqdm<5.0.0,>=4.38.0 in /usr/local/lib/python3.6/dist-packages (from spacy<2.4.0,>=2.3.0->en_core_web_md) (4.41.1)\n",
            "Requirement already satisfied: numpy>=1.15.0 in /usr/local/lib/python3.6/dist-packages (from spacy<2.4.0,>=2.3.0->en_core_web_md) (1.18.5)\n",
            "Requirement already satisfied: cymem<2.1.0,>=2.0.2 in /usr/local/lib/python3.6/dist-packages (from spacy<2.4.0,>=2.3.0->en_core_web_md) (2.0.3)\n",
            "Requirement already satisfied: preshed<3.1.0,>=3.0.2 in /usr/local/lib/python3.6/dist-packages (from spacy<2.4.0,>=2.3.0->en_core_web_md) (3.0.2)\n",
            "Requirement already satisfied: plac<1.2.0,>=0.9.6 in /usr/local/lib/python3.6/dist-packages (from spacy<2.4.0,>=2.3.0->en_core_web_md) (1.1.3)\n",
            "Requirement already satisfied: setuptools in /usr/local/lib/python3.6/dist-packages (from spacy<2.4.0,>=2.3.0->en_core_web_md) (50.3.2)\n",
            "Requirement already satisfied: requests<3.0.0,>=2.13.0 in /usr/local/lib/python3.6/dist-packages (from spacy<2.4.0,>=2.3.0->en_core_web_md) (2.23.0)\n",
            "Requirement already satisfied: srsly<1.1.0,>=1.0.2 in /usr/local/lib/python3.6/dist-packages (from spacy<2.4.0,>=2.3.0->en_core_web_md) (1.0.2)\n",
            "Requirement already satisfied: murmurhash<1.1.0,>=0.28.0 in /usr/local/lib/python3.6/dist-packages (from spacy<2.4.0,>=2.3.0->en_core_web_md) (1.0.2)\n",
            "Requirement already satisfied: importlib-metadata>=0.20; python_version < \"3.8\" in /usr/local/lib/python3.6/dist-packages (from catalogue<1.1.0,>=0.0.7->spacy<2.4.0,>=2.3.0->en_core_web_md) (2.0.0)\n",
            "Requirement already satisfied: certifi>=2017.4.17 in /usr/local/lib/python3.6/dist-packages (from requests<3.0.0,>=2.13.0->spacy<2.4.0,>=2.3.0->en_core_web_md) (2020.6.20)\n",
            "Requirement already satisfied: chardet<4,>=3.0.2 in /usr/local/lib/python3.6/dist-packages (from requests<3.0.0,>=2.13.0->spacy<2.4.0,>=2.3.0->en_core_web_md) (3.0.4)\n",
            "Requirement already satisfied: urllib3!=1.25.0,!=1.25.1,<1.26,>=1.21.1 in /usr/local/lib/python3.6/dist-packages (from requests<3.0.0,>=2.13.0->spacy<2.4.0,>=2.3.0->en_core_web_md) (1.24.3)\n",
            "Requirement already satisfied: idna<3,>=2.5 in /usr/local/lib/python3.6/dist-packages (from requests<3.0.0,>=2.13.0->spacy<2.4.0,>=2.3.0->en_core_web_md) (2.10)\n",
            "Requirement already satisfied: zipp>=0.5 in /usr/local/lib/python3.6/dist-packages (from importlib-metadata>=0.20; python_version < \"3.8\"->catalogue<1.1.0,>=0.0.7->spacy<2.4.0,>=2.3.0->en_core_web_md) (3.3.1)\n"
          ],
          "name": "stdout"
        }
      ]
    },
    {
      "cell_type": "code",
      "metadata": {
        "id": "p42fdiP2hfwo",
        "colab": {
          "base_uri": "https://localhost:8080/"
        },
        "outputId": "8ce7bf71-8ef9-4a39-882b-5657edd71639"
      },
      "source": [
        "import spacy.cli\n",
        "spacy.cli.download(\"en_core_web_md\")\n",
        "import en_core_web_md\n",
        "nlp = en_core_web_md.load()"
      ],
      "execution_count": null,
      "outputs": [
        {
          "output_type": "stream",
          "text": [
            "⚠ Skipping model package dependencies and setting `--no-deps`. You\n",
            "don't seem to have the spaCy package itself installed (maybe because you've\n",
            "built from source?), so installing the model dependencies would cause spaCy to\n",
            "be downloaded, which probably isn't what you want. If the model package has\n",
            "other dependencies, you'll have to install them manually.\n",
            "✔ Download and installation successful\n",
            "You can now load the model via spacy.load('en_core_web_md')\n",
            "time: 17.2 s\n"
          ],
          "name": "stdout"
        }
      ]
    },
    {
      "cell_type": "code",
      "metadata": {
        "id": "qvxUyiZ3VAY_",
        "colab": {
          "base_uri": "https://localhost:8080/"
        },
        "outputId": "25b1dc7f-2bb1-450a-e23d-7090116258fa"
      },
      "source": [
        "#!pip install -U spacy\n",
        "#!pip install spacy\n",
        "import spacy\n",
        "import en_core_web_md\n",
        "\n",
        "nlp = en_core_web_md.load()\n",
        "#nlp = spacy.load('en_core_web_md')\n",
        "\n",
        "def clean_comments(document):\n",
        "    cleaned = []\n",
        "    for comment in nlp.pipe(document, disable=['parser']):\n",
        "        sentence = [keep_emojis_strip_symbols(word.lemma_) \\\n",
        "                    if word.lemma_ != '-PRON-' else word.text \\\n",
        "                    for word in comment]\n",
        "        cleaned.append(' '.join(sentence))\n",
        "    return cleaned\n",
        "\n"
      ],
      "execution_count": null,
      "outputs": [
        {
          "output_type": "stream",
          "text": [
            "time: 16.3 s\n"
          ],
          "name": "stdout"
        }
      ]
    },
    {
      "cell_type": "code",
      "metadata": {
        "id": "k4VAbhPaVeHM",
        "colab": {
          "base_uri": "https://localhost:8080/"
        },
        "outputId": "af4517c4-cd17-4852-f281-51448d633337"
      },
      "source": [
        "def get_emojis(text):\n",
        "    just_emojis = \"\"\n",
        "    data = regex.findall(r'\\X', text)\n",
        "    for word in data:\n",
        "        if any(char in emoji.UNICODE_EMOJI for char in word):\n",
        "            just_emojis += word\n",
        "    return Counter(just_emojis)\n",
        "all_emojis = Counter(get_emojis(\"\".join(stripped_urls)))\n",
        "print(len(all_emojis))"
      ],
      "execution_count": null,
      "outputs": [
        {
          "output_type": "stream",
          "text": [
            "341\n",
            "time: 240 ms\n"
          ],
          "name": "stdout"
        }
      ]
    },
    {
      "cell_type": "code",
      "metadata": {
        "id": "31CkltN5Ztzq",
        "colab": {
          "base_uri": "https://localhost:8080/"
        },
        "outputId": "60f23223-04b6-4ef9-89bc-77dd1c5644da"
      },
      "source": [
        "!pip install vaderSentiment\n",
        "from vaderSentiment.vaderSentiment import SentimentIntensityAnalyzer\n",
        "analyzer = SentimentIntensityAnalyzer()\n"
      ],
      "execution_count": null,
      "outputs": [
        {
          "output_type": "stream",
          "text": [
            "Requirement already satisfied: vaderSentiment in /usr/local/lib/python3.6/dist-packages (3.3.2)\n",
            "Requirement already satisfied: requests in /usr/local/lib/python3.6/dist-packages (from vaderSentiment) (2.24.0)\n",
            "Requirement already satisfied: chardet<4,>=3.0.2 in /usr/local/lib/python3.6/dist-packages (from requests->vaderSentiment) (3.0.4)\n",
            "Requirement already satisfied: idna<3,>=2.5 in /usr/local/lib/python3.6/dist-packages (from requests->vaderSentiment) (2.10)\n",
            "Requirement already satisfied: urllib3!=1.25.0,!=1.25.1,<1.26,>=1.21.1 in /usr/local/lib/python3.6/dist-packages (from requests->vaderSentiment) (1.25.9)\n",
            "Requirement already satisfied: certifi>=2017.4.17 in /usr/local/lib/python3.6/dist-packages (from requests->vaderSentiment) (2020.6.20)\n",
            "time: 2.28 s\n"
          ],
          "name": "stdout"
        }
      ]
    },
    {
      "cell_type": "code",
      "metadata": {
        "id": "BCHk1PDwVd2O",
        "colab": {
          "base_uri": "https://localhost:8080/"
        },
        "outputId": "90222222-36e5-428e-f89a-fc5550ed37a3"
      },
      "source": [
        "emojis = pd.DataFrame.from_dict(all_emojis.items())\n",
        "\n",
        "emojis.columns = ['emoji', 'emoji_count']\n",
        "\n",
        "emojis.head()\n",
        "\n",
        "emojis['sentiment'] = [analyzer.polarity_scores(an_emoji)['compound'] for an_emoji in emojis['emoji']]"
      ],
      "execution_count": null,
      "outputs": [
        {
          "output_type": "stream",
          "text": [
            "time: 18.9 ms\n"
          ],
          "name": "stdout"
        }
      ]
    },
    {
      "cell_type": "code",
      "metadata": {
        "id": "n2q7MfPRVdp4",
        "colab": {
          "base_uri": "https://localhost:8080/"
        },
        "outputId": "f058bb15-6336-49a0-c8ab-a1936e4d361d"
      },
      "source": [
        "emojis.shape"
      ],
      "execution_count": null,
      "outputs": [
        {
          "output_type": "execute_result",
          "data": {
            "text/plain": [
              "(341, 3)"
            ]
          },
          "metadata": {
            "tags": []
          },
          "execution_count": 66
        },
        {
          "output_type": "stream",
          "text": [
            "time: 2.66 ms\n"
          ],
          "name": "stdout"
        }
      ]
    },
    {
      "cell_type": "code",
      "metadata": {
        "id": "e551QuxzWGsF",
        "colab": {
          "base_uri": "https://localhost:8080/",
          "height": 376
        },
        "outputId": "32f19b0a-ff7f-428f-a59a-f2adb9c8823c"
      },
      "source": [
        "emojis.head(10)"
      ],
      "execution_count": null,
      "outputs": [
        {
          "output_type": "execute_result",
          "data": {
            "text/html": [
              "<div>\n",
              "<style scoped>\n",
              "    .dataframe tbody tr th:only-of-type {\n",
              "        vertical-align: middle;\n",
              "    }\n",
              "\n",
              "    .dataframe tbody tr th {\n",
              "        vertical-align: top;\n",
              "    }\n",
              "\n",
              "    .dataframe thead th {\n",
              "        text-align: right;\n",
              "    }\n",
              "</style>\n",
              "<table border=\"1\" class=\"dataframe\">\n",
              "  <thead>\n",
              "    <tr style=\"text-align: right;\">\n",
              "      <th style=\"min-width: {};\"></th>\n",
              "      <th style=\"min-width: {};\">emoji</th>\n",
              "      <th style=\"min-width: {};\">emoji_count</th>\n",
              "      <th style=\"min-width: {};\">sentiment</th>\n",
              "    </tr>\n",
              "  </thead>\n",
              "  <tbody>\n",
              "    <tr>\n",
              "      <th>0</th>\n",
              "      <td>😁</td>\n",
              "      <td>85</td>\n",
              "      <td>0.4588</td>\n",
              "    </tr>\n",
              "    <tr>\n",
              "      <th>1</th>\n",
              "      <td>😌</td>\n",
              "      <td>4</td>\n",
              "      <td>0.3818</td>\n",
              "    </tr>\n",
              "    <tr>\n",
              "      <th>2</th>\n",
              "      <td>😊</td>\n",
              "      <td>89</td>\n",
              "      <td>0.7184</td>\n",
              "    </tr>\n",
              "    <tr>\n",
              "      <th>3</th>\n",
              "      <td>😂</td>\n",
              "      <td>130</td>\n",
              "      <td>0.4404</td>\n",
              "    </tr>\n",
              "    <tr>\n",
              "      <th>4</th>\n",
              "      <td>🥰</td>\n",
              "      <td>123</td>\n",
              "      <td>0.8074</td>\n",
              "    </tr>\n",
              "    <tr>\n",
              "      <th>5</th>\n",
              "      <td>🤭</td>\n",
              "      <td>5</td>\n",
              "      <td>0.4939</td>\n",
              "    </tr>\n",
              "    <tr>\n",
              "      <th>6</th>\n",
              "      <td>👇</td>\n",
              "      <td>233</td>\n",
              "      <td>0.0000</td>\n",
              "    </tr>\n",
              "    <tr>\n",
              "      <th>7</th>\n",
              "      <td>👍</td>\n",
              "      <td>212</td>\n",
              "      <td>0.0000</td>\n",
              "    </tr>\n",
              "    <tr>\n",
              "      <th>8</th>\n",
              "      <td>😍</td>\n",
              "      <td>404</td>\n",
              "      <td>0.4588</td>\n",
              "    </tr>\n",
              "    <tr>\n",
              "      <th>9</th>\n",
              "      <td>😘</td>\n",
              "      <td>211</td>\n",
              "      <td>0.4215</td>\n",
              "    </tr>\n",
              "  </tbody>\n",
              "</table>\n",
              "</div>"
            ],
            "text/plain": [
              "  emoji  emoji_count  sentiment\n",
              "0     😁           85     0.4588\n",
              "1     😌            4     0.3818\n",
              "2     😊           89     0.7184\n",
              "3     😂          130     0.4404\n",
              "4     🥰          123     0.8074\n",
              "5     🤭            5     0.4939\n",
              "6     👇          233     0.0000\n",
              "7     👍          212     0.0000\n",
              "8     😍          404     0.4588\n",
              "9     😘          211     0.4215"
            ]
          },
          "metadata": {
            "tags": []
          },
          "execution_count": 67
        },
        {
          "output_type": "stream",
          "text": [
            "time: 15.9 ms\n"
          ],
          "name": "stdout"
        }
      ]
    },
    {
      "cell_type": "code",
      "metadata": {
        "id": "vIFKLx7IWPe6",
        "colab": {
          "base_uri": "https://localhost:8080/",
          "height": 314
        },
        "outputId": "27172f82-a873-4a00-9edb-4dc4fcdd01e2"
      },
      "source": [
        "emojis.describe()"
      ],
      "execution_count": null,
      "outputs": [
        {
          "output_type": "execute_result",
          "data": {
            "text/html": [
              "<div>\n",
              "<style scoped>\n",
              "    .dataframe tbody tr th:only-of-type {\n",
              "        vertical-align: middle;\n",
              "    }\n",
              "\n",
              "    .dataframe tbody tr th {\n",
              "        vertical-align: top;\n",
              "    }\n",
              "\n",
              "    .dataframe thead th {\n",
              "        text-align: right;\n",
              "    }\n",
              "</style>\n",
              "<table border=\"1\" class=\"dataframe\">\n",
              "  <thead>\n",
              "    <tr style=\"text-align: right;\">\n",
              "      <th style=\"min-width: {};\"></th>\n",
              "      <th style=\"min-width: {};\">emoji_count</th>\n",
              "      <th style=\"min-width: {};\">sentiment</th>\n",
              "    </tr>\n",
              "  </thead>\n",
              "  <tbody>\n",
              "    <tr>\n",
              "      <th>count</th>\n",
              "      <td>341.000000</td>\n",
              "      <td>341.000000</td>\n",
              "    </tr>\n",
              "    <tr>\n",
              "      <th>mean</th>\n",
              "      <td>18.014663</td>\n",
              "      <td>0.069109</td>\n",
              "    </tr>\n",
              "    <tr>\n",
              "      <th>std</th>\n",
              "      <td>70.821792</td>\n",
              "      <td>0.252905</td>\n",
              "    </tr>\n",
              "    <tr>\n",
              "      <th>min</th>\n",
              "      <td>1.000000</td>\n",
              "      <td>-0.700300</td>\n",
              "    </tr>\n",
              "    <tr>\n",
              "      <th>25%</th>\n",
              "      <td>1.000000</td>\n",
              "      <td>0.000000</td>\n",
              "    </tr>\n",
              "    <tr>\n",
              "      <th>50%</th>\n",
              "      <td>4.000000</td>\n",
              "      <td>0.000000</td>\n",
              "    </tr>\n",
              "    <tr>\n",
              "      <th>75%</th>\n",
              "      <td>11.000000</td>\n",
              "      <td>0.000000</td>\n",
              "    </tr>\n",
              "    <tr>\n",
              "      <th>max</th>\n",
              "      <td>963.000000</td>\n",
              "      <td>0.807400</td>\n",
              "    </tr>\n",
              "  </tbody>\n",
              "</table>\n",
              "</div>"
            ],
            "text/plain": [
              "       emoji_count   sentiment\n",
              "count   341.000000  341.000000\n",
              "mean     18.014663    0.069109\n",
              "std      70.821792    0.252905\n",
              "min       1.000000   -0.700300\n",
              "25%       1.000000    0.000000\n",
              "50%       4.000000    0.000000\n",
              "75%      11.000000    0.000000\n",
              "max     963.000000    0.807400"
            ]
          },
          "metadata": {
            "tags": []
          },
          "execution_count": 68
        },
        {
          "output_type": "stream",
          "text": [
            "time: 19.7 ms\n"
          ],
          "name": "stdout"
        }
      ]
    },
    {
      "cell_type": "code",
      "metadata": {
        "id": "Y3GIv-pqWToY",
        "colab": {
          "base_uri": "https://localhost:8080/",
          "height": 302
        },
        "outputId": "71df1bd8-82de-4f44-eab0-077349a8c80e"
      },
      "source": [
        "emojis['emoji_count'].plot.hist()"
      ],
      "execution_count": null,
      "outputs": [
        {
          "output_type": "execute_result",
          "data": {
            "text/plain": [
              "<matplotlib.axes._subplots.AxesSubplot at 0x7fbf00c586d8>"
            ]
          },
          "metadata": {
            "tags": []
          },
          "execution_count": 69
        },
        {
          "output_type": "display_data",
          "data": {
            "image/png": "[encoded data removed]",
            "text/plain": [
              "<Figure size 432x288 with 1 Axes>"
            ]
          },
          "metadata": {
            "tags": []
          }
        },
        {
          "output_type": "stream",
          "text": [
            "time: 268 ms\n"
          ],
          "name": "stdout"
        }
      ]
    },
    {
      "cell_type": "code",
      "metadata": {
        "id": "EWC08vxgWXpn",
        "colab": {
          "base_uri": "https://localhost:8080/",
          "height": 376
        },
        "outputId": "484804d3-f0d1-44db-b538-91eaa23a1fbd"
      },
      "source": [
        "emojis.nlargest(10, 'emoji_count')"
      ],
      "execution_count": null,
      "outputs": [
        {
          "output_type": "execute_result",
          "data": {
            "text/html": [
              "<div>\n",
              "<style scoped>\n",
              "    .dataframe tbody tr th:only-of-type {\n",
              "        vertical-align: middle;\n",
              "    }\n",
              "\n",
              "    .dataframe tbody tr th {\n",
              "        vertical-align: top;\n",
              "    }\n",
              "\n",
              "    .dataframe thead th {\n",
              "        text-align: right;\n",
              "    }\n",
              "</style>\n",
              "<table border=\"1\" class=\"dataframe\">\n",
              "  <thead>\n",
              "    <tr style=\"text-align: right;\">\n",
              "      <th style=\"min-width: {};\"></th>\n",
              "      <th style=\"min-width: {};\">emoji</th>\n",
              "      <th style=\"min-width: {};\">emoji_count</th>\n",
              "      <th style=\"min-width: {};\">sentiment</th>\n",
              "    </tr>\n",
              "  </thead>\n",
              "  <tbody>\n",
              "    <tr>\n",
              "      <th>10</th>\n",
              "      <td>❤</td>\n",
              "      <td>963</td>\n",
              "      <td>0.6369</td>\n",
              "    </tr>\n",
              "    <tr>\n",
              "      <th>11</th>\n",
              "      <td>️</td>\n",
              "      <td>666</td>\n",
              "      <td>0.0000</td>\n",
              "    </tr>\n",
              "    <tr>\n",
              "      <th>8</th>\n",
              "      <td>😍</td>\n",
              "      <td>404</td>\n",
              "      <td>0.4588</td>\n",
              "    </tr>\n",
              "    <tr>\n",
              "      <th>6</th>\n",
              "      <td>👇</td>\n",
              "      <td>233</td>\n",
              "      <td>0.0000</td>\n",
              "    </tr>\n",
              "    <tr>\n",
              "      <th>7</th>\n",
              "      <td>👍</td>\n",
              "      <td>212</td>\n",
              "      <td>0.0000</td>\n",
              "    </tr>\n",
              "    <tr>\n",
              "      <th>9</th>\n",
              "      <td>😘</td>\n",
              "      <td>211</td>\n",
              "      <td>0.4215</td>\n",
              "    </tr>\n",
              "    <tr>\n",
              "      <th>3</th>\n",
              "      <td>😂</td>\n",
              "      <td>130</td>\n",
              "      <td>0.4404</td>\n",
              "    </tr>\n",
              "    <tr>\n",
              "      <th>4</th>\n",
              "      <td>🥰</td>\n",
              "      <td>123</td>\n",
              "      <td>0.8074</td>\n",
              "    </tr>\n",
              "    <tr>\n",
              "      <th>39</th>\n",
              "      <td>♥</td>\n",
              "      <td>96</td>\n",
              "      <td>0.6369</td>\n",
              "    </tr>\n",
              "    <tr>\n",
              "      <th>36</th>\n",
              "      <td>🤣</td>\n",
              "      <td>91</td>\n",
              "      <td>0.4939</td>\n",
              "    </tr>\n",
              "  </tbody>\n",
              "</table>\n",
              "</div>"
            ],
            "text/plain": [
              "   emoji  emoji_count  sentiment\n",
              "10     ❤          963     0.6369\n",
              "11     ️          666     0.0000\n",
              "8      😍          404     0.4588\n",
              "6      👇          233     0.0000\n",
              "7      👍          212     0.0000\n",
              "9      😘          211     0.4215\n",
              "3      😂          130     0.4404\n",
              "4      🥰          123     0.8074\n",
              "39     ♥           96     0.6369\n",
              "36     🤣           91     0.4939"
            ]
          },
          "metadata": {
            "tags": []
          },
          "execution_count": 70
        },
        {
          "output_type": "stream",
          "text": [
            "time: 16.5 ms\n"
          ],
          "name": "stdout"
        }
      ]
    },
    {
      "cell_type": "code",
      "metadata": {
        "id": "80pHoQKFWaE_",
        "colab": {
          "base_uri": "https://localhost:8080/",
          "height": 302
        },
        "outputId": "4563f8e3-82c1-4ab0-cdac-0466405fc453"
      },
      "source": [
        "emojis['sentiment'].plot.hist()"
      ],
      "execution_count": null,
      "outputs": [
        {
          "output_type": "execute_result",
          "data": {
            "text/plain": [
              "<matplotlib.axes._subplots.AxesSubplot at 0x7fbf00dce2e8>"
            ]
          },
          "metadata": {
            "tags": []
          },
          "execution_count": 71
        },
        {
          "output_type": "display_data",
          "data": {
            "image/png": "[encoded data removed]",
            "text/plain": [
              "<Figure size 432x288 with 1 Axes>"
            ]
          },
          "metadata": {
            "tags": []
          }
        },
        {
          "output_type": "stream",
          "text": [
            "time: 286 ms\n"
          ],
          "name": "stdout"
        }
      ]
    },
    {
      "cell_type": "code",
      "metadata": {
        "id": "LxE3nkszWvrH",
        "colab": {
          "base_uri": "https://localhost:8080/",
          "height": 686
        },
        "outputId": "42e418e1-ead5-4759-e95d-53d9a9235acb"
      },
      "source": [
        "neutral = emojis[(-0.05 < emojis.sentiment) & (emojis.sentiment < 0.05)]\n",
        "neutral_toptwenty = neutral.nlargest(20, 'emoji_count')\n",
        "neutral_toptwenty['text'] = [emoji.demojize(str(an_emoji)) for an_emoji in neutral_toptwenty['emoji']]\n",
        "\n",
        "neutral_toptwenty"
      ],
      "execution_count": null,
      "outputs": [
        {
          "output_type": "execute_result",
          "data": {
            "text/html": [
              "<div>\n",
              "<style scoped>\n",
              "    .dataframe tbody tr th:only-of-type {\n",
              "        vertical-align: middle;\n",
              "    }\n",
              "\n",
              "    .dataframe tbody tr th {\n",
              "        vertical-align: top;\n",
              "    }\n",
              "\n",
              "    .dataframe thead th {\n",
              "        text-align: right;\n",
              "    }\n",
              "</style>\n",
              "<table border=\"1\" class=\"dataframe\">\n",
              "  <thead>\n",
              "    <tr style=\"text-align: right;\">\n",
              "      <th style=\"min-width: {};\"></th>\n",
              "      <th style=\"min-width: {};\">emoji</th>\n",
              "      <th style=\"min-width: {};\">emoji_count</th>\n",
              "      <th style=\"min-width: {};\">sentiment</th>\n",
              "      <th style=\"min-width: {};\">text</th>\n",
              "    </tr>\n",
              "  </thead>\n",
              "  <tbody>\n",
              "    <tr>\n",
              "      <th>11</th>\n",
              "      <td>️</td>\n",
              "      <td>666</td>\n",
              "      <td>0.0</td>\n",
              "      <td></td>\n",
              "    </tr>\n",
              "    <tr>\n",
              "      <th>6</th>\n",
              "      <td>👇</td>\n",
              "      <td>233</td>\n",
              "      <td>0.0</td>\n",
              "      <td>:backhand_index_pointing_down:</td>\n",
              "    </tr>\n",
              "    <tr>\n",
              "      <th>7</th>\n",
              "      <td>👍</td>\n",
              "      <td>212</td>\n",
              "      <td>0.0</td>\n",
              "      <td>:thumbs_up:</td>\n",
              "    </tr>\n",
              "    <tr>\n",
              "      <th>133</th>\n",
              "      <td>‍</td>\n",
              "      <td>52</td>\n",
              "      <td>0.0</td>\n",
              "      <td>‍</td>\n",
              "    </tr>\n",
              "    <tr>\n",
              "      <th>143</th>\n",
              "      <td>👏</td>\n",
              "      <td>51</td>\n",
              "      <td>0.0</td>\n",
              "      <td>:clapping_hands:</td>\n",
              "    </tr>\n",
              "    <tr>\n",
              "      <th>24</th>\n",
              "      <td>🇳</td>\n",
              "      <td>42</td>\n",
              "      <td>0.0</td>\n",
              "      <td>:regional_indicator_symbol_letter_n:</td>\n",
              "    </tr>\n",
              "    <tr>\n",
              "      <th>166</th>\n",
              "      <td>🤩</td>\n",
              "      <td>42</td>\n",
              "      <td>0.0</td>\n",
              "      <td>:star-struck:</td>\n",
              "    </tr>\n",
              "    <tr>\n",
              "      <th>23</th>\n",
              "      <td>🇻</td>\n",
              "      <td>36</td>\n",
              "      <td>0.0</td>\n",
              "      <td>:regional_indicator_symbol_letter_v:</td>\n",
              "    </tr>\n",
              "    <tr>\n",
              "      <th>34</th>\n",
              "      <td>🌻</td>\n",
              "      <td>33</td>\n",
              "      <td>0.0</td>\n",
              "      <td>:sunflower:</td>\n",
              "    </tr>\n",
              "    <tr>\n",
              "      <th>50</th>\n",
              "      <td>▪</td>\n",
              "      <td>31</td>\n",
              "      <td>0.0</td>\n",
              "      <td>:black_small_square:</td>\n",
              "    </tr>\n",
              "    <tr>\n",
              "      <th>92</th>\n",
              "      <td>🤕</td>\n",
              "      <td>30</td>\n",
              "      <td>0.0</td>\n",
              "      <td>:face_with_head-bandage:</td>\n",
              "    </tr>\n",
              "    <tr>\n",
              "      <th>44</th>\n",
              "      <td>🤔</td>\n",
              "      <td>27</td>\n",
              "      <td>0.0</td>\n",
              "      <td>:thinking_face:</td>\n",
              "    </tr>\n",
              "    <tr>\n",
              "      <th>111</th>\n",
              "      <td>💯</td>\n",
              "      <td>27</td>\n",
              "      <td>0.0</td>\n",
              "      <td>:hundred_points:</td>\n",
              "    </tr>\n",
              "    <tr>\n",
              "      <th>107</th>\n",
              "      <td>😝</td>\n",
              "      <td>25</td>\n",
              "      <td>0.0</td>\n",
              "      <td>:squinting_face_with_tongue:</td>\n",
              "    </tr>\n",
              "    <tr>\n",
              "      <th>19</th>\n",
              "      <td>🏻</td>\n",
              "      <td>24</td>\n",
              "      <td>0.0</td>\n",
              "      <td>:light_skin_tone:</td>\n",
              "    </tr>\n",
              "    <tr>\n",
              "      <th>138</th>\n",
              "      <td>💃</td>\n",
              "      <td>22</td>\n",
              "      <td>0.0</td>\n",
              "      <td>:woman_dancing:</td>\n",
              "    </tr>\n",
              "    <tr>\n",
              "      <th>153</th>\n",
              "      <td>🇷</td>\n",
              "      <td>21</td>\n",
              "      <td>0.0</td>\n",
              "      <td>:regional_indicator_symbol_letter_r:</td>\n",
              "    </tr>\n",
              "    <tr>\n",
              "      <th>14</th>\n",
              "      <td>😳</td>\n",
              "      <td>20</td>\n",
              "      <td>0.0</td>\n",
              "      <td>:flushed_face:</td>\n",
              "    </tr>\n",
              "    <tr>\n",
              "      <th>28</th>\n",
              "      <td>😉</td>\n",
              "      <td>20</td>\n",
              "      <td>0.0</td>\n",
              "      <td>:winking_face:</td>\n",
              "    </tr>\n",
              "    <tr>\n",
              "      <th>176</th>\n",
              "      <td>🇧</td>\n",
              "      <td>20</td>\n",
              "      <td>0.0</td>\n",
              "      <td>:regional_indicator_symbol_letter_b:</td>\n",
              "    </tr>\n",
              "  </tbody>\n",
              "</table>\n",
              "</div>"
            ],
            "text/plain": [
              "    emoji  emoji_count  sentiment                                  text\n",
              "11      ️          666        0.0                                      \n",
              "6       👇          233        0.0        :backhand_index_pointing_down:\n",
              "7       👍          212        0.0                           :thumbs_up:\n",
              "133     ‍           52        0.0                                     ‍\n",
              "143     👏           51        0.0                      :clapping_hands:\n",
              "24      🇳           42        0.0  :regional_indicator_symbol_letter_n:\n",
              "166     🤩           42        0.0                         :star-struck:\n",
              "23      🇻           36        0.0  :regional_indicator_symbol_letter_v:\n",
              "34      🌻           33        0.0                           :sunflower:\n",
              "50      ▪           31        0.0                  :black_small_square:\n",
              "92      🤕           30        0.0              :face_with_head-bandage:\n",
              "44      🤔           27        0.0                       :thinking_face:\n",
              "111     💯           27        0.0                      :hundred_points:\n",
              "107     😝           25        0.0          :squinting_face_with_tongue:\n",
              "19      🏻           24        0.0                     :light_skin_tone:\n",
              "138     💃           22        0.0                       :woman_dancing:\n",
              "153     🇷           21        0.0  :regional_indicator_symbol_letter_r:\n",
              "14      😳           20        0.0                        :flushed_face:\n",
              "28      😉           20        0.0                        :winking_face:\n",
              "176     🇧           20        0.0  :regional_indicator_symbol_letter_b:"
            ]
          },
          "metadata": {
            "tags": []
          },
          "execution_count": 72
        },
        {
          "output_type": "stream",
          "text": [
            "time: 154 ms\n"
          ],
          "name": "stdout"
        }
      ]
    },
    {
      "cell_type": "code",
      "metadata": {
        "id": "pQo1r4KxW_8O",
        "colab": {
          "base_uri": "https://localhost:8080/",
          "height": 319
        },
        "outputId": "b6e2039d-33d5-4e98-f69e-1b266e15d019"
      },
      "source": [
        "#neutral_toptwenty.drop(11, axis='index', inplace=True)\n",
        "neutral_toptwenty.drop(133, axis='index', inplace=True)\n",
        "sns.barplot(y=neutral_toptwenty['text'], x=neutral_toptwenty['emoji_count'])"
      ],
      "execution_count": null,
      "outputs": [
        {
          "output_type": "execute_result",
          "data": {
            "text/plain": [
              "<matplotlib.axes._subplots.AxesSubplot at 0x7fbf00dcea90>"
            ]
          },
          "metadata": {
            "tags": []
          },
          "execution_count": 73
        },
        {
          "output_type": "display_data",
          "data": {
            "image/png": "[encoded data removed]",
            "text/plain": [
              "<Figure size 432x288 with 1 Axes>"
            ]
          },
          "metadata": {
            "tags": []
          }
        },
        {
          "output_type": "stream",
          "text": [
            "time: 354 ms\n"
          ],
          "name": "stdout"
        }
      ]
    },
    {
      "cell_type": "code",
      "metadata": {
        "id": "xUhT9v1hXM_u",
        "colab": {
          "base_uri": "https://localhost:8080/",
          "height": 655
        },
        "outputId": "368bc27f-02fb-412f-cd03-d071e4ba47f3"
      },
      "source": [
        "neutral_toptwenty"
      ],
      "execution_count": null,
      "outputs": [
        {
          "output_type": "execute_result",
          "data": {
            "text/html": [
              "<div>\n",
              "<style scoped>\n",
              "    .dataframe tbody tr th:only-of-type {\n",
              "        vertical-align: middle;\n",
              "    }\n",
              "\n",
              "    .dataframe tbody tr th {\n",
              "        vertical-align: top;\n",
              "    }\n",
              "\n",
              "    .dataframe thead th {\n",
              "        text-align: right;\n",
              "    }\n",
              "</style>\n",
              "<table border=\"1\" class=\"dataframe\">\n",
              "  <thead>\n",
              "    <tr style=\"text-align: right;\">\n",
              "      <th style=\"min-width: {};\"></th>\n",
              "      <th style=\"min-width: {};\">emoji</th>\n",
              "      <th style=\"min-width: {};\">emoji_count</th>\n",
              "      <th style=\"min-width: {};\">sentiment</th>\n",
              "      <th style=\"min-width: {};\">text</th>\n",
              "    </tr>\n",
              "  </thead>\n",
              "  <tbody>\n",
              "    <tr>\n",
              "      <th>11</th>\n",
              "      <td>️</td>\n",
              "      <td>666</td>\n",
              "      <td>0.0</td>\n",
              "      <td></td>\n",
              "    </tr>\n",
              "    <tr>\n",
              "      <th>6</th>\n",
              "      <td>👇</td>\n",
              "      <td>233</td>\n",
              "      <td>0.0</td>\n",
              "      <td>:backhand_index_pointing_down:</td>\n",
              "    </tr>\n",
              "    <tr>\n",
              "      <th>7</th>\n",
              "      <td>👍</td>\n",
              "      <td>212</td>\n",
              "      <td>0.0</td>\n",
              "      <td>:thumbs_up:</td>\n",
              "    </tr>\n",
              "    <tr>\n",
              "      <th>143</th>\n",
              "      <td>👏</td>\n",
              "      <td>51</td>\n",
              "      <td>0.0</td>\n",
              "      <td>:clapping_hands:</td>\n",
              "    </tr>\n",
              "    <tr>\n",
              "      <th>24</th>\n",
              "      <td>🇳</td>\n",
              "      <td>42</td>\n",
              "      <td>0.0</td>\n",
              "      <td>:regional_indicator_symbol_letter_n:</td>\n",
              "    </tr>\n",
              "    <tr>\n",
              "      <th>166</th>\n",
              "      <td>🤩</td>\n",
              "      <td>42</td>\n",
              "      <td>0.0</td>\n",
              "      <td>:star-struck:</td>\n",
              "    </tr>\n",
              "    <tr>\n",
              "      <th>23</th>\n",
              "      <td>🇻</td>\n",
              "      <td>36</td>\n",
              "      <td>0.0</td>\n",
              "      <td>:regional_indicator_symbol_letter_v:</td>\n",
              "    </tr>\n",
              "    <tr>\n",
              "      <th>34</th>\n",
              "      <td>🌻</td>\n",
              "      <td>33</td>\n",
              "      <td>0.0</td>\n",
              "      <td>:sunflower:</td>\n",
              "    </tr>\n",
              "    <tr>\n",
              "      <th>50</th>\n",
              "      <td>▪</td>\n",
              "      <td>31</td>\n",
              "      <td>0.0</td>\n",
              "      <td>:black_small_square:</td>\n",
              "    </tr>\n",
              "    <tr>\n",
              "      <th>92</th>\n",
              "      <td>🤕</td>\n",
              "      <td>30</td>\n",
              "      <td>0.0</td>\n",
              "      <td>:face_with_head-bandage:</td>\n",
              "    </tr>\n",
              "    <tr>\n",
              "      <th>44</th>\n",
              "      <td>🤔</td>\n",
              "      <td>27</td>\n",
              "      <td>0.0</td>\n",
              "      <td>:thinking_face:</td>\n",
              "    </tr>\n",
              "    <tr>\n",
              "      <th>111</th>\n",
              "      <td>💯</td>\n",
              "      <td>27</td>\n",
              "      <td>0.0</td>\n",
              "      <td>:hundred_points:</td>\n",
              "    </tr>\n",
              "    <tr>\n",
              "      <th>107</th>\n",
              "      <td>😝</td>\n",
              "      <td>25</td>\n",
              "      <td>0.0</td>\n",
              "      <td>:squinting_face_with_tongue:</td>\n",
              "    </tr>\n",
              "    <tr>\n",
              "      <th>19</th>\n",
              "      <td>🏻</td>\n",
              "      <td>24</td>\n",
              "      <td>0.0</td>\n",
              "      <td>:light_skin_tone:</td>\n",
              "    </tr>\n",
              "    <tr>\n",
              "      <th>138</th>\n",
              "      <td>💃</td>\n",
              "      <td>22</td>\n",
              "      <td>0.0</td>\n",
              "      <td>:woman_dancing:</td>\n",
              "    </tr>\n",
              "    <tr>\n",
              "      <th>153</th>\n",
              "      <td>🇷</td>\n",
              "      <td>21</td>\n",
              "      <td>0.0</td>\n",
              "      <td>:regional_indicator_symbol_letter_r:</td>\n",
              "    </tr>\n",
              "    <tr>\n",
              "      <th>14</th>\n",
              "      <td>😳</td>\n",
              "      <td>20</td>\n",
              "      <td>0.0</td>\n",
              "      <td>:flushed_face:</td>\n",
              "    </tr>\n",
              "    <tr>\n",
              "      <th>28</th>\n",
              "      <td>😉</td>\n",
              "      <td>20</td>\n",
              "      <td>0.0</td>\n",
              "      <td>:winking_face:</td>\n",
              "    </tr>\n",
              "    <tr>\n",
              "      <th>176</th>\n",
              "      <td>🇧</td>\n",
              "      <td>20</td>\n",
              "      <td>0.0</td>\n",
              "      <td>:regional_indicator_symbol_letter_b:</td>\n",
              "    </tr>\n",
              "  </tbody>\n",
              "</table>\n",
              "</div>"
            ],
            "text/plain": [
              "    emoji  emoji_count  sentiment                                  text\n",
              "11      ️          666        0.0                                      \n",
              "6       👇          233        0.0        :backhand_index_pointing_down:\n",
              "7       👍          212        0.0                           :thumbs_up:\n",
              "143     👏           51        0.0                      :clapping_hands:\n",
              "24      🇳           42        0.0  :regional_indicator_symbol_letter_n:\n",
              "166     🤩           42        0.0                         :star-struck:\n",
              "23      🇻           36        0.0  :regional_indicator_symbol_letter_v:\n",
              "34      🌻           33        0.0                           :sunflower:\n",
              "50      ▪           31        0.0                  :black_small_square:\n",
              "92      🤕           30        0.0              :face_with_head-bandage:\n",
              "44      🤔           27        0.0                       :thinking_face:\n",
              "111     💯           27        0.0                      :hundred_points:\n",
              "107     😝           25        0.0          :squinting_face_with_tongue:\n",
              "19      🏻           24        0.0                     :light_skin_tone:\n",
              "138     💃           22        0.0                       :woman_dancing:\n",
              "153     🇷           21        0.0  :regional_indicator_symbol_letter_r:\n",
              "14      😳           20        0.0                        :flushed_face:\n",
              "28      😉           20        0.0                        :winking_face:\n",
              "176     🇧           20        0.0  :regional_indicator_symbol_letter_b:"
            ]
          },
          "metadata": {
            "tags": []
          },
          "execution_count": 74
        },
        {
          "output_type": "stream",
          "text": [
            "time: 14.1 ms\n"
          ],
          "name": "stdout"
        }
      ]
    },
    {
      "cell_type": "code",
      "metadata": {
        "id": "FZTeF8hy6OG6"
      },
      "source": [
        ""
      ],
      "execution_count": null,
      "outputs": []
    },
    {
      "cell_type": "markdown",
      "metadata": {
        "id": "pu4DF0KwX70q"
      },
      "source": [
        ""
      ]
    },
    {
      "cell_type": "markdown",
      "metadata": {
        "id": "v5KKGj1WaDDC"
      },
      "source": [
        "# IGNORGE THE BLOW LINE \n",
        "# ---------------- TESTING ONLY------------------------------------"
      ]
    },
    {
      "cell_type": "code",
      "metadata": {
        "id": "wMpHaF19na4b"
      },
      "source": [
        ""
      ],
      "execution_count": null,
      "outputs": []
    }
  ]
}